{
 "cells": [
  {
   "cell_type": "markdown",
   "metadata": {
    "id": "aoYATcYw9Cfb"
   },
   "source": [
    "# Import Libraries"
   ]
  },
  {
   "cell_type": "code",
   "execution_count": 85,
   "metadata": {
    "id": "ptpw-BFteymR"
   },
   "outputs": [],
   "source": [
    "!apt-get install openjdk-8-jdk-headless -qq > /dev/null\n",
    "!wget -q http://archive.apache.org/dist/spark/spark-3.1.1/spark-3.1.1-bin-hadoop3.2.tgz\n",
    "!tar xf spark-3.1.1-bin-hadoop3.2.tgz\n",
    "!pip install -q findspark"
   ]
  },
  {
   "cell_type": "code",
   "execution_count": 86,
   "metadata": {
    "id": "12pzSsfcfhB9"
   },
   "outputs": [],
   "source": [
    "import os\n",
    "os.environ[\"JAVA_HOME\"] = \"/usr/lib/jvm/java-8-openjdk-amd64\"\n",
    "os.environ[\"SPARK_HOME\"] = \"/content/spark-3.1.1-bin-hadoop3.2\""
   ]
  },
  {
   "cell_type": "code",
   "execution_count": 87,
   "metadata": {
    "colab": {
     "base_uri": "https://localhost:8080/",
     "height": 219
    },
    "id": "MojWWqI4fVq_",
    "outputId": "c0770bd4-66dc-4716-a6e0-5ab28ebd936e"
   },
   "outputs": [
    {
     "data": {
      "text/html": [
       "\n",
       "            <div>\n",
       "                <p><b>SparkSession - in-memory</b></p>\n",
       "                \n",
       "        <div>\n",
       "            <p><b>SparkContext</b></p>\n",
       "\n",
       "            <p><a href=\"http://187202acf95b:4040\">Spark UI</a></p>\n",
       "\n",
       "            <dl>\n",
       "              <dt>Version</dt>\n",
       "                <dd><code>v3.1.1</code></dd>\n",
       "              <dt>Master</dt>\n",
       "                <dd><code>local[*]</code></dd>\n",
       "              <dt>AppName</dt>\n",
       "                <dd><code>pyspark-shell</code></dd>\n",
       "            </dl>\n",
       "        </div>\n",
       "        \n",
       "            </div>\n",
       "        "
      ],
      "text/plain": [
       "<pyspark.sql.session.SparkSession at 0x7ff75562e2f0>"
      ]
     },
     "execution_count": 87,
     "metadata": {},
     "output_type": "execute_result"
    }
   ],
   "source": [
    "import findspark\n",
    "findspark.init()\n",
    "from pyspark.sql import SparkSession\n",
    "spark = SparkSession.builder.master(\"local[*]\").getOrCreate()\n",
    "spark"
   ]
  },
  {
   "cell_type": "code",
   "execution_count": 208,
   "metadata": {
    "id": "wOkkbeYOmXIC"
   },
   "outputs": [],
   "source": [
    "import plotly.graph_objects as go\n",
    "import plotly.subplots as sp\n",
    "import matplotlib.pyplot as plt\n",
    "import pandas as pd\n",
    "from pyspark.sql.functions import col\n",
    "from pyspark.sql.functions import sum as spark_sum\n",
    "from pyspark.sql.functions import col, when\n"
   ]
  },
  {
   "cell_type": "markdown",
   "metadata": {
    "id": "5AbIgsMlTM2U"
   },
   "source": [
    "# Import data before preprocessing"
   ]
  },
  {
   "cell_type": "code",
   "execution_count": 210,
   "metadata": {
    "id": "d99ut-s1TRRX"
   },
   "outputs": [],
   "source": [
    "df = spark.read.csv('/content/NYPD_Arrest_Data__Year_to_Date_.csv',header=True,inferSchema=True)"
   ]
  },
  {
   "cell_type": "code",
   "execution_count": 211,
   "metadata": {
    "colab": {
     "base_uri": "https://localhost:8080/"
    },
    "id": "0gyEfXMqTT-i",
    "outputId": "3c79e657-510d-4675-b130-92c467161b79"
   },
   "outputs": [
    {
     "name": "stdout",
     "output_type": "stream",
     "text": [
      "+----------+-----------+-----+--------------------+-----+--------------------+----------+----------+-----------+---------------+-----------------+---------+--------+--------------+----------+----------+----------------+-----------------+------------------------+\n",
      "|ARREST_KEY|ARREST_DATE|PD_CD|             PD_DESC|KY_CD|           OFNS_DESC|  LAW_CODE|LAW_CAT_CD|ARREST_BORO|ARREST_PRECINCT|JURISDICTION_CODE|AGE_GROUP|PERP_SEX|     PERP_RACE|X_COORD_CD|Y_COORD_CD|        Latitude|        Longitude|New Georeferenced Column|\n",
      "+----------+-----------+-----+--------------------+-----+--------------------+----------+----------+-----------+---------------+-----------------+---------+--------+--------------+----------+----------+----------------+-----------------+------------------------+\n",
      "| 239553009| 01/23/2022|  464|            JOSTLING|  230|            JOSTLING|PL 1652501|         M|          Q|            110|                1|    25-44|       M|         BLACK|   1027679|    214505|     40.75533648|     -73.84324519|    POINT (-73.843245...|\n",
      "| 239922214| 01/31/2022|  397|ROBBERY,OPEN AREA...|  105|             ROBBERY|PL 1601502|         F|          K|             69|                0|    25-44|       M|         BLACK|   1010576|    175628|       40.648698|       -73.905128|    POINT (-73.905128...|\n",
      "| 239939130| 02/01/2022|  105|   STRANGULATION 1ST|  106|      FELONY ASSAULT|PL 1211200|         F|          K|             61|                0|      65+|       M|         WHITE|    995118|    155708|       40.594054|       -73.960866|    POINT (-73.960866...|\n",
      "| 240521791| 02/13/2022|  101|           ASSAULT 3|  344|ASSAULT 3 & RELAT...|PL 1200001|         M|          M|             28|                0|    45-64|       M|         BLACK|    997124|    233883|       40.808623|       -73.953492|    POINT (-73.953492...|\n",
      "| 241022365| 02/21/2022|  397|ROBBERY,OPEN AREA...|  105|             ROBBERY|PL 1600500|         F|          K|             76|                0|    45-64|       M|         BLACK|    986331|    190452|       40.689425|       -73.992493|    POINT (-73.992493...|\n",
      "| 242064428| 03/14/2022|  105|   STRANGULATION 1ST|  106|      FELONY ASSAULT|PL 1211200|         F|          S|            120|                0|      <18|       M|         BLACK|    960216|    173272|       40.642237|       -74.086601|    POINT (-74.086601...|\n",
      "| 242456937| 03/22/2022|  105|   STRANGULATION 1ST|  106|      FELONY ASSAULT|PL 1211200|         F|          S|            120|                0|    18-24|       M|         BLACK|    952182|    169495|       40.631844|       -74.115532|    POINT (-74.115532...|\n",
      "| 242818613| 03/29/2022|  705|  FORGERY,ETC.-MISD.|  358|OFFENSES INVOLVIN...|PL 1702000|         M|          Q|            105|                0|    25-44|       M|         BLACK|   1054762|    200222|     40.71595884|      -73.7456406|    POINT (-73.745640...|\n",
      "| 243132247| 04/05/2022|  157|              RAPE 1|  104|                RAPE|PL 1303501|         F|          Q|            110|                0|    45-64|       M|BLACK HISPANIC|   1019164|    210169|40.7434812638841|-73.8740035373971|    POINT (-73.874003...|\n",
      "| 244567670| 05/04/2022|  109|ASSAULT 2,1,UNCLA...|  106|      FELONY ASSAULT|PL 1200501|         F|          S|            120|                0|    25-44|       F|         BLACK|    961612|    166618|       40.623977|       -74.081548|    POINT (-74.081548...|\n",
      "| 238666821| 01/05/2022|  105|   STRANGULATION 1ST|  106|      FELONY ASSAULT|PL 1211200|         F|          B|             47|                0|    25-44|       M|         BLACK|   1026486|    262591|       40.887325|       -73.847247|    POINT (-73.847247...|\n",
      "| 238980807| 01/11/2022|  793|WEAPONS POSSESSION 3|  118|   DANGEROUS WEAPONS|PL 2650201|         F|          K|             60|                2|    25-44|       M|         BLACK|    984147|    150277|       40.579154|        -74.00037|    POINT (-74.00037 ...|\n",
      "| 239079923| 01/13/2022|  175|    SEXUAL ABUSE 3,2|  233|          SEX CRIMES|PL 13052A1|         M|          S|            122|                0|    25-44|       M|         WHITE|    954827|    148519|40.5742856881925|-74.1059144051212|    POINT (-74.105914...|\n",
      "| 239315615| 01/18/2022|  105|   STRANGULATION 1ST|  106|      FELONY ASSAULT|PL 1211200|         F|          Q|            113|                0|    25-44|       M|         BLACK|   1041332|    188264|       40.683234|       -73.794185|    POINT (-73.794185...|\n",
      "| 239365864| 01/19/2022|  153|              RAPE 3|  104|                RAPE|PL 1302502|         F|          K|             77|                0|    45-64|       M|         BLACK|   1003509|    185018|40.6744956865259|-73.9305713255961|    POINT (-73.930571...|\n",
      "| 239548006| 01/22/2022|  105|   STRANGULATION 1ST|  106|      FELONY ASSAULT|PL 1211200|         F|          K|             77|                0|    25-44|       M|         BLACK|   1005440|    184756|       40.673764|       -73.923607|    POINT (-73.923607...|\n",
      "| 240269723| 02/08/2022|  105|   STRANGULATION 1ST|  106|      FELONY ASSAULT|PL 1211200|         F|          K|             75|                0|    25-44|       M|         BLACK|   1017119|    183909|       40.671404|       -73.881509|    POINT (-73.881509...|\n",
      "| 247438104| 07/01/2022|  157|              RAPE 1|  104|                RAPE|PL 1303501|         F|          M|              6|                0|      <18|       M|         WHITE|    982755|    206652|40.7338967584511|-74.0053958373447|    POINT (-74.005395...|\n",
      "| 240613352| 02/15/2022| null|              (null)| null|              (null)|CPL5700600|         9|          Q|            113|                3|    25-44|       F|         BLACK|   1046315|    187088|40.6799807384666|-73.7762339071953|    POINT (-73.776233...|\n",
      "| 240681098| 02/16/2022|  168|            SODOMY 1|  116|          SEX CRIMES|PL 1305003|         F|          K|             79|                0|      <18|       M|         BLACK|    999496|    190300|  40.68900139556|-73.9450265328727|    POINT (-73.945026...|\n",
      "+----------+-----------+-----+--------------------+-----+--------------------+----------+----------+-----------+---------------+-----------------+---------+--------+--------------+----------+----------+----------------+-----------------+------------------------+\n",
      "only showing top 20 rows\n",
      "\n"
     ]
    }
   ],
   "source": [
    "df.show()"
   ]
  },
  {
   "cell_type": "code",
   "execution_count": 212,
   "metadata": {
    "colab": {
     "base_uri": "https://localhost:8080/"
    },
    "id": "c8YG29Qtk0qP",
    "outputId": "9cb000e5-4550-4fa5-c5a4-f061187f4eef"
   },
   "outputs": [
    {
     "name": "stdout",
     "output_type": "stream",
     "text": [
      "['F', None, 'M', 'V', '9', 'I']\n"
     ]
    }
   ],
   "source": [
    "# get the unique values of the 'LAW_CAT_CD' column\n",
    "unique_values = df.select('LAW_CAT_CD').distinct().rdd.map(lambda row: row[0]).collect()\n",
    "\n",
    "print(unique_values)"
   ]
  },
  {
   "cell_type": "code",
   "execution_count": 213,
   "metadata": {
    "colab": {
     "base_uri": "https://localhost:8080/"
    },
    "id": "xXKE2woTk7MP",
    "outputId": "f69e3ddf-5f05-4e9b-8b47-1dca65e7214f"
   },
   "outputs": [
    {
     "name": "stdout",
     "output_type": "stream",
     "text": [
      "+----------+-----------+-----+-------+-----+---------+----------+----------+-----------+---------------+-----------------+---------+--------+---------+----------+----------+----------------+-----------------+------------------------+\n",
      "|ARREST_KEY|ARREST_DATE|PD_CD|PD_DESC|KY_CD|OFNS_DESC|  LAW_CODE|LAW_CAT_CD|ARREST_BORO|ARREST_PRECINCT|JURISDICTION_CODE|AGE_GROUP|PERP_SEX|PERP_RACE|X_COORD_CD|Y_COORD_CD|        Latitude|        Longitude|New Georeferenced Column|\n",
      "+----------+-----------+-----+-------+-----+---------+----------+----------+-----------+---------------+-----------------+---------+--------+---------+----------+----------+----------------+-----------------+------------------------+\n",
      "| 240613352| 02/15/2022| null| (null)| null|   (null)|CPL5700600|         9|          Q|            113|                3|    25-44|       F|    BLACK|   1046315|    187088|40.6799807384666|-73.7762339071953|    POINT (-73.776233...|\n",
      "| 239211507| 01/16/2022| null| (null)| null|   (null)|CPL5700600|         9|          Q|            102|                0|    45-64|       M|    BLACK|   1032501|    198800|       40.712206|       -73.825952|    POINT (-73.825952...|\n",
      "| 241880303| 03/10/2022| null| (null)| null|   (null)|CPL5700600|         9|          Q|            113|                3|    18-24|       M|    BLACK|   1046315|    187088|40.6799807384666|-73.7762339071953|    POINT (-73.776233...|\n",
      "| 239486246| 01/21/2022| null| (null)| null|   (null)|CPL5700600|         9|          Q|            102|                0|    45-64|       M|    BLACK|   1032501|    198800|       40.712206|       -73.825952|    POINT (-73.825952...|\n",
      "| 242411161| 03/21/2022| null| (null)| null|   (null)|CPL5700600|         9|          Q|            113|                3|    25-44|       M|    BLACK|   1046315|    187088|40.6799807384666|-73.7762339071953|    POINT (-73.776233...|\n",
      "+----------+-----------+-----+-------+-----+---------+----------+----------+-----------+---------------+-----------------+---------+--------+---------+----------+----------+----------------+-----------------+------------------------+\n",
      "only showing top 5 rows\n",
      "\n"
     ]
    }
   ],
   "source": [
    "# filter the dataframe by the condition 'LAW_CAT_CD == \"9\"'\n",
    "filtered_df = df.filter(col('LAW_CAT_CD') == '9')\n",
    "\n",
    "filtered_df.show(5)"
   ]
  },
  {
   "cell_type": "code",
   "execution_count": 214,
   "metadata": {
    "colab": {
     "base_uri": "https://localhost:8080/"
    },
    "id": "anRckVDok93j",
    "outputId": "2427a50f-f5a5-4f95-c5b1-4c7b62e719ff"
   },
   "outputs": [
    {
     "name": "stdout",
     "output_type": "stream",
     "text": [
      "+----------+-----------+-----+--------------------+-----+--------------------+----------+----------+-----------+---------------+-----------------+---------+--------+---------+----------+----------+-----------+------------+------------------------+\n",
      "|ARREST_KEY|ARREST_DATE|PD_CD|             PD_DESC|KY_CD|           OFNS_DESC|  LAW_CODE|LAW_CAT_CD|ARREST_BORO|ARREST_PRECINCT|JURISDICTION_CODE|AGE_GROUP|PERP_SEX|PERP_RACE|X_COORD_CD|Y_COORD_CD|   Latitude|   Longitude|New Georeferenced Column|\n",
      "+----------+-----------+-----+--------------------+-----+--------------------+----------+----------+-----------+---------------+-----------------+---------+--------+---------+----------+----------+-----------+------------+------------------------+\n",
      "| 239553009| 01/23/2022|  464|            JOSTLING|  230|            JOSTLING|PL 1652501|         M|          Q|            110|                1|    25-44|       M|    BLACK|   1027679|    214505|40.75533648|-73.84324519|    POINT (-73.843245...|\n",
      "| 239922214| 01/31/2022|  397|ROBBERY,OPEN AREA...|  105|             ROBBERY|PL 1601502|         F|          K|             69|                0|    25-44|       M|    BLACK|   1010576|    175628|  40.648698|  -73.905128|    POINT (-73.905128...|\n",
      "| 239939130| 02/01/2022|  105|   STRANGULATION 1ST|  106|      FELONY ASSAULT|PL 1211200|         F|          K|             61|                0|      65+|       M|    WHITE|    995118|    155708|  40.594054|  -73.960866|    POINT (-73.960866...|\n",
      "| 240521791| 02/13/2022|  101|           ASSAULT 3|  344|ASSAULT 3 & RELAT...|PL 1200001|         M|          M|             28|                0|    45-64|       M|    BLACK|    997124|    233883|  40.808623|  -73.953492|    POINT (-73.953492...|\n",
      "| 241022365| 02/21/2022|  397|ROBBERY,OPEN AREA...|  105|             ROBBERY|PL 1600500|         F|          K|             76|                0|    45-64|       M|    BLACK|    986331|    190452|  40.689425|  -73.992493|    POINT (-73.992493...|\n",
      "+----------+-----------+-----+--------------------+-----+--------------------+----------+----------+-----------+---------------+-----------------+---------+--------+---------+----------+----------+-----------+------------+------------------------+\n",
      "only showing top 5 rows\n",
      "\n"
     ]
    }
   ],
   "source": [
    "# Replace null values in the 'LAW_CAT_CD' column with 'N'\n",
    "df = df.withColumn('LAW_CAT_CD', when(col('LAW_CAT_CD').isNull(),'N').otherwise(col('LAW_CAT_CD')))\n",
    "\n",
    "# Filter out rows with the value of '9' in the 'LAW_CAT_CD' column\n",
    "df = df.filter(col('LAW_CAT_CD') != '9')\n",
    "\n",
    "df.show(5)\n"
   ]
  },
  {
   "cell_type": "code",
   "execution_count": 215,
   "metadata": {
    "colab": {
     "base_uri": "https://localhost:8080/"
    },
    "id": "cq2L8-q2lI4i",
    "outputId": "08dc9575-2aea-4fbd-d9f8-07b469e8e09e"
   },
   "outputs": [
    {
     "name": "stdout",
     "output_type": "stream",
     "text": [
      "+----------+-----------+-----+-------+-----+---------+--------+----------+-----------+---------------+-----------------+---------+--------+---------+----------+----------+--------+---------+------------------------+\n",
      "|ARREST_KEY|ARREST_DATE|PD_CD|PD_DESC|KY_CD|OFNS_DESC|LAW_CODE|LAW_CAT_CD|ARREST_BORO|ARREST_PRECINCT|JURISDICTION_CODE|AGE_GROUP|PERP_SEX|PERP_RACE|X_COORD_CD|Y_COORD_CD|Latitude|Longitude|New Georeferenced Column|\n",
      "+----------+-----------+-----+-------+-----+---------+--------+----------+-----------+---------------+-----------------+---------+--------+---------+----------+----------+--------+---------+------------------------+\n",
      "|         0|          0|  105|      0|  114|        0|       0|         0|          0|              0|                0|        0|       0|        0|         0|         0|       0|        0|                       0|\n",
      "+----------+-----------+-----+-------+-----+---------+--------+----------+-----------+---------------+-----------------+---------+--------+---------+----------+----------+--------+---------+------------------------+\n",
      "\n"
     ]
    }
   ],
   "source": [
    "# count the number of missing values in each column\n",
    "missing_counts = df.select([spark_sum(col(c).isNull().cast('int')).alias(c) for c in df.columns])\n",
    "\n",
    "missing_counts.show(5)"
   ]
  },
  {
   "cell_type": "code",
   "execution_count": 216,
   "metadata": {
    "colab": {
     "base_uri": "https://localhost:8080/"
    },
    "id": "h0rju_-glQLK",
    "outputId": "b174a1df-4c72-4173-b320-a4a345b14b5f"
   },
   "outputs": [
    {
     "name": "stdout",
     "output_type": "stream",
     "text": [
      "+----------+-----------+-----+--------------------+-----+--------------------+----------+----------+-----------+---------------+-----------------+---------+--------+---------+----------+----------+-----------+------------+------------------------+\n",
      "|ARREST_KEY|ARREST_DATE|PD_CD|             PD_DESC|KY_CD|           OFNS_DESC|  LAW_CODE|LAW_CAT_CD|ARREST_BORO|ARREST_PRECINCT|JURISDICTION_CODE|AGE_GROUP|PERP_SEX|PERP_RACE|X_COORD_CD|Y_COORD_CD|   Latitude|   Longitude|New Georeferenced Column|\n",
      "+----------+-----------+-----+--------------------+-----+--------------------+----------+----------+-----------+---------------+-----------------+---------+--------+---------+----------+----------+-----------+------------+------------------------+\n",
      "| 239553009| 01/23/2022|  464|            JOSTLING|  230|            JOSTLING|PL 1652501|         M|          Q|            110|                1|    25-44|       M|    BLACK|   1027679|    214505|40.75533648|-73.84324519|    POINT (-73.843245...|\n",
      "| 239922214| 01/31/2022|  397|ROBBERY,OPEN AREA...|  105|             ROBBERY|PL 1601502|         F|          K|             69|                0|    25-44|       M|    BLACK|   1010576|    175628|  40.648698|  -73.905128|    POINT (-73.905128...|\n",
      "| 239939130| 02/01/2022|  105|   STRANGULATION 1ST|  106|      FELONY ASSAULT|PL 1211200|         F|          K|             61|                0|      65+|       M|    WHITE|    995118|    155708|  40.594054|  -73.960866|    POINT (-73.960866...|\n",
      "| 240521791| 02/13/2022|  101|           ASSAULT 3|  344|ASSAULT 3 & RELAT...|PL 1200001|         M|          M|             28|                0|    45-64|       M|    BLACK|    997124|    233883|  40.808623|  -73.953492|    POINT (-73.953492...|\n",
      "| 241022365| 02/21/2022|  397|ROBBERY,OPEN AREA...|  105|             ROBBERY|PL 1600500|         F|          K|             76|                0|    45-64|       M|    BLACK|    986331|    190452|  40.689425|  -73.992493|    POINT (-73.992493...|\n",
      "+----------+-----------+-----+--------------------+-----+--------------------+----------+----------+-----------+---------------+-----------------+---------+--------+---------+----------+----------+-----------+------------+------------------------+\n",
      "only showing top 5 rows\n",
      "\n"
     ]
    }
   ],
   "source": [
    "# Let us change the the null values in LAW_CAT_CD into N for null\n",
    "# Our predicitive model will classify them\n",
    "\n",
    "df = df.withColumn('LAW_CAT_CD', when(col('LAW_CAT_CD').isNull(),'N').otherwise(col('LAW_CAT_CD')))\n",
    "df.show(5)"
   ]
  },
  {
   "cell_type": "code",
   "execution_count": 217,
   "metadata": {
    "colab": {
     "base_uri": "https://localhost:8080/"
    },
    "id": "kJCTMxB6lTMo",
    "outputId": "a9a54011-71b4-4d04-c98c-bed3ffe4aff8"
   },
   "outputs": [
    {
     "name": "stdout",
     "output_type": "stream",
     "text": [
      "+----------+-----------+-----+-------+-----+---------+--------+----------+-----------+---------------+-----------------+---------+--------+---------+----------+----------+--------+---------+------------------------+\n",
      "|ARREST_KEY|ARREST_DATE|PD_CD|PD_DESC|KY_CD|OFNS_DESC|LAW_CODE|LAW_CAT_CD|ARREST_BORO|ARREST_PRECINCT|JURISDICTION_CODE|AGE_GROUP|PERP_SEX|PERP_RACE|X_COORD_CD|Y_COORD_CD|Latitude|Longitude|New Georeferenced Column|\n",
      "+----------+-----------+-----+-------+-----+---------+--------+----------+-----------+---------------+-----------------+---------+--------+---------+----------+----------+--------+---------+------------------------+\n",
      "|         0|          0|  105|      0|  114|        0|       0|         0|          0|              0|                0|        0|       0|        0|         0|         0|       0|        0|                       0|\n",
      "+----------+-----------+-----+-------+-----+---------+--------+----------+-----------+---------------+-----------------+---------+--------+---------+----------+----------+--------+---------+------------------------+\n",
      "\n"
     ]
    }
   ],
   "source": [
    "# count the number of missing values in each column\n",
    "missing_counts = df.select([spark_sum(col(c).isNull().cast('int')).alias(c) for c in df.columns])\n",
    "\n",
    "missing_counts.show(5)"
   ]
  },
  {
   "cell_type": "code",
   "execution_count": 219,
   "metadata": {
    "colab": {
     "base_uri": "https://localhost:8080/"
    },
    "id": "BPTVnhZOmbXR",
    "outputId": "ad7d5eb6-1505-41dc-d7bd-7885961124cd"
   },
   "outputs": [
    {
     "name": "stdout",
     "output_type": "stream",
     "text": [
      "+----------+-----------+-----+--------------------+-----+--------------------+----------+----------+-----------+---------------+-----------------+---------+--------+---------+----------+----------+-----------+------------+------------------------+\n",
      "|ARREST_KEY|ARREST_DATE|PD_CD|             PD_DESC|KY_CD|           OFNS_DESC|  LAW_CODE|LAW_CAT_CD|ARREST_BORO|ARREST_PRECINCT|JURISDICTION_CODE|AGE_GROUP|PERP_SEX|PERP_RACE|X_COORD_CD|Y_COORD_CD|   Latitude|   Longitude|New Georeferenced Column|\n",
      "+----------+-----------+-----+--------------------+-----+--------------------+----------+----------+-----------+---------------+-----------------+---------+--------+---------+----------+----------+-----------+------------+------------------------+\n",
      "| 239553009| 01/23/2022|  464|            JOSTLING|  230|            JOSTLING|PL 1652501|         M|          Q|            110|                1|    25-44|       M|    BLACK|   1027679|    214505|40.75533648|-73.84324519|    POINT (-73.843245...|\n",
      "| 239922214| 01/31/2022|  397|ROBBERY,OPEN AREA...|  105|             ROBBERY|PL 1601502|         F|          K|             69|                0|    25-44|       M|    BLACK|   1010576|    175628|  40.648698|  -73.905128|    POINT (-73.905128...|\n",
      "| 239939130| 02/01/2022|  105|   STRANGULATION 1ST|  106|      FELONY ASSAULT|PL 1211200|         F|          K|             61|                0|      65+|       M|    WHITE|    995118|    155708|  40.594054|  -73.960866|    POINT (-73.960866...|\n",
      "| 240521791| 02/13/2022|  101|           ASSAULT 3|  344|ASSAULT 3 & RELAT...|PL 1200001|         M|          M|             28|                0|    45-64|       M|    BLACK|    997124|    233883|  40.808623|  -73.953492|    POINT (-73.953492...|\n",
      "| 241022365| 02/21/2022|  397|ROBBERY,OPEN AREA...|  105|             ROBBERY|PL 1600500|         F|          K|             76|                0|    45-64|       M|    BLACK|    986331|    190452|  40.689425|  -73.992493|    POINT (-73.992493...|\n",
      "+----------+-----------+-----+--------------------+-----+--------------------+----------+----------+-----------+---------------+-----------------+---------+--------+---------+----------+----------+-----------+------------+------------------------+\n",
      "only showing top 5 rows\n",
      "\n"
     ]
    }
   ],
   "source": [
    "# drop any row that contains null values\n",
    "df = df.na.drop()\n",
    "\n",
    "df.show(5)\n"
   ]
  },
  {
   "cell_type": "markdown",
   "metadata": {
    "id": "JMt2JmAuTY2R"
   },
   "source": [
    "## Dividing into 4 Datasets to Create a Relational Database"
   ]
  },
  {
   "cell_type": "code",
   "execution_count": 220,
   "metadata": {
    "colab": {
     "base_uri": "https://localhost:8080/"
    },
    "id": "wHk32EUzTbfN",
    "outputId": "5fdafb37-9778-48d6-ce64-6f2a49cf75fe"
   },
   "outputs": [
    {
     "name": "stdout",
     "output_type": "stream",
     "text": [
      "The dataframe has 189204 rows and 19 columns.\n"
     ]
    }
   ],
   "source": [
    "# get the number of rows and columns in the dataframe\n",
    "num_rows = df.count()\n",
    "num_cols = len(df.columns)\n",
    "\n",
    "print(f\"The dataframe has {num_rows} rows and {num_cols} columns.\")"
   ]
  },
  {
   "cell_type": "markdown",
   "metadata": {
    "id": "UDLXymJrTvJW"
   },
   "source": [
    "## Detailed Offense Table"
   ]
  },
  {
   "cell_type": "code",
   "execution_count": 221,
   "metadata": {
    "id": "C9muvAApTs-1"
   },
   "outputs": [],
   "source": [
    "# Create a new dataframe with unique PD_CD and PD_DESC values\n",
    "pd_df = df.select('PD_CD', 'PD_DESC').dropDuplicates()"
   ]
  },
  {
   "cell_type": "markdown",
   "metadata": {
    "id": "MeOS_zNZbeFZ"
   },
   "source": [
    "## Law Table"
   ]
  },
  {
   "cell_type": "code",
   "execution_count": 223,
   "metadata": {
    "id": "HIhQ1gfObiIQ"
   },
   "outputs": [],
   "source": [
    "# Create a new dataframe with unique LAW_CODE and LAW_CAT_CD values\n",
    "law_df = df.select('LAW_CODE', 'LAW_CAT_CD').dropDuplicates()"
   ]
  },
  {
   "cell_type": "markdown",
   "metadata": {
    "id": "HQuQ9yb8T9kM"
   },
   "source": [
    "## Offense Table"
   ]
  },
  {
   "cell_type": "code",
   "execution_count": 227,
   "metadata": {
    "id": "rA12j_RJT-it"
   },
   "outputs": [],
   "source": [
    "# Create a new dataframe with unique KY_CD and OFNS_DESC values\n",
    "ofns_df = df.select('KY_CD', 'OFNS_DESC').dropDuplicates()"
   ]
  },
  {
   "cell_type": "markdown",
   "metadata": {
    "id": "iw57IRe_UPRc"
   },
   "source": [
    "## Arrest Table"
   ]
  },
  {
   "cell_type": "code",
   "execution_count": 225,
   "metadata": {
    "id": "veBi5ttYUVcw"
   },
   "outputs": [],
   "source": [
    "# drop PD_DESC', 'OFNS_DESC', 'LAW_CAT_CD', 'New Georeferenced Column' columns from the dataframe\n",
    "arrest_df = df.drop('PD_DESC', 'OFNS_DESC', 'LAW_CAT_CD', 'New Georeferenced Column')"
   ]
  },
  {
   "cell_type": "markdown",
   "metadata": {
    "id": "TUrZ7fv2Ucwd"
   },
   "source": [
    "# Data Preprocessing"
   ]
  },
  {
   "cell_type": "markdown",
   "metadata": {
    "id": "zMC9Z8smUlha"
   },
   "source": [
    "### Offense Table"
   ]
  },
  {
   "cell_type": "code",
   "execution_count": 229,
   "metadata": {
    "colab": {
     "base_uri": "https://localhost:8080/"
    },
    "id": "Lb5R--l-Ui5b",
    "outputId": "3807f2d9-852c-4a77-f0da-9d77c8b4aed1"
   },
   "outputs": [
    {
     "name": "stdout",
     "output_type": "stream",
     "text": [
      "root\n",
      " |-- KY_CD: integer (nullable = true)\n",
      " |-- OFNS_DESC: string (nullable = true)\n",
      "\n"
     ]
    }
   ],
   "source": [
    "# display the schema of the offense table\n",
    "ofns_df.printSchema()"
   ]
  },
  {
   "cell_type": "code",
   "execution_count": 230,
   "metadata": {
    "colab": {
     "base_uri": "https://localhost:8080/"
    },
    "id": "_j_J8ZMKUqMa",
    "outputId": "0d555343-5689-4d22-8bd6-7eac21837060"
   },
   "outputs": [
    {
     "name": "stdout",
     "output_type": "stream",
     "text": [
      "+-----+---------+\n",
      "|KY_CD|OFNS_DESC|\n",
      "+-----+---------+\n",
      "|    0|        0|\n",
      "+-----+---------+\n",
      "\n"
     ]
    }
   ],
   "source": [
    "# count the number of null values in each column\n",
    "null_counts = ofns_df.agg(*[sum(col(c).isNull().cast('int')).alias(c) for c in ofns_df.columns])\n",
    "\n",
    "# display the result\n",
    "null_counts.show()"
   ]
  },
  {
   "cell_type": "code",
   "execution_count": 231,
   "metadata": {
    "id": "RBI4yYkyUsWs"
   },
   "outputs": [],
   "source": [
    "# convert KY_CD to integer\n",
    "ofns_df = ofns_df.withColumn('KY_CD', col('KY_CD').cast('int'))"
   ]
  },
  {
   "cell_type": "code",
   "execution_count": 232,
   "metadata": {
    "id": "xHiy0UeTUz2T"
   },
   "outputs": [],
   "source": [
    "# remove rows where \"OFNS_DESC\" is (null) or empty\n",
    "ofns_df = ofns_df.filter(col('OFNS_DESC').isNotNull() & (col('OFNS_DESC') != ''))\n",
    "ofns_df = ofns_df.filter(col('OFNS_DESC') != '(null)')"
   ]
  },
  {
   "cell_type": "code",
   "execution_count": 233,
   "metadata": {
    "colab": {
     "base_uri": "https://localhost:8080/"
    },
    "id": "gu-X1m6uU529",
    "outputId": "490986cf-e910-449f-ce23-7199cc9d0193"
   },
   "outputs": [
    {
     "name": "stdout",
     "output_type": "stream",
     "text": [
      "(77, 2)\n"
     ]
    }
   ],
   "source": [
    "# get the shape of the dataframe\n",
    "num_rows = ofns_df.count()\n",
    "num_cols = len(ofns_df.columns)\n",
    "\n",
    "# display the result\n",
    "print((num_rows, num_cols))"
   ]
  },
  {
   "cell_type": "code",
   "execution_count": 234,
   "metadata": {
    "colab": {
     "base_uri": "https://localhost:8080/"
    },
    "id": "FivuCwZJU9gk",
    "outputId": "49c0c673-bff2-4915-94d1-bc385959c73f"
   },
   "outputs": [
    {
     "name": "stdout",
     "output_type": "stream",
     "text": [
      "+-----+--------------------+\n",
      "|KY_CD|           OFNS_DESC|\n",
      "+-----+--------------------+\n",
      "|  102|HOMICIDE-NEGLIGEN...|\n",
      "+-----+--------------------+\n",
      "\n"
     ]
    }
   ],
   "source": [
    "# While importing the dataframe to sql server, we got an error\n",
    "# We noticed that two pimary keeys are the same when primary keys should be unique\n",
    "# filter the dataframe based on KY_CD value\n",
    "filtered_df = ofns_df.filter(ofns_df['KY_CD'] == 102)\n",
    "\n",
    "# display the filtered results\n",
    "filtered_df.show()"
   ]
  },
  {
   "cell_type": "code",
   "execution_count": 235,
   "metadata": {
    "colab": {
     "base_uri": "https://localhost:8080/"
    },
    "id": "1_7uNbpGU_at",
    "outputId": "2f8fd86c-445a-46a5-efb5-f9082b4b5870"
   },
   "outputs": [
    {
     "name": "stdout",
     "output_type": "stream",
     "text": [
      "+-----+--------------------+\n",
      "|KY_CD|           OFNS_DESC|\n",
      "+-----+--------------------+\n",
      "|  101|MURDER & NON-NEGL...|\n",
      "|  115|PROSTITUTION & RE...|\n",
      "|  126|MISCELLANEOUS PEN...|\n",
      "|  103|HOMICIDE-NEGLIGEN...|\n",
      "|  236|   DANGEROUS WEAPONS|\n",
      "|  350|            GAMBLING|\n",
      "|  578|       HARRASSMENT 2|\n",
      "|  685|ADMINISTRATIVE CODES|\n",
      "|  995|FOR OTHER AUTHORI...|\n",
      "|  122|            GAMBLING|\n",
      "|  230|            JOSTLING|\n",
      "|  232|POSSESSION OF STO...|\n",
      "|  233|          SEX CRIMES|\n",
      "|  346|ALCOHOLIC BEVERAG...|\n",
      "|  111|POSSESSION OF STO...|\n",
      "|  353|UNAUTHORIZED USE ...|\n",
      "|  355|OFFENSES AGAINST ...|\n",
      "|  882|    PARKING OFFENSES|\n",
      "|  363|OFFENSES AGAINST ...|\n",
      "|  348|VEHICLE AND TRAFF...|\n",
      "+-----+--------------------+\n",
      "only showing top 20 rows\n",
      "\n"
     ]
    }
   ],
   "source": [
    "# drop duplicate rows based on KY_CD column\n",
    "ofns_df = ofns_df.dropDuplicates(['KY_CD'])\n",
    "\n",
    "# display the resulting dataframe\n",
    "ofns_df.show()"
   ]
  },
  {
   "cell_type": "code",
   "execution_count": 236,
   "metadata": {
    "colab": {
     "base_uri": "https://localhost:8080/"
    },
    "id": "blRlM6HqnjsZ",
    "outputId": "e90de9d8-e25c-40b7-b96b-c23e07d908f0"
   },
   "outputs": [
    {
     "name": "stdout",
     "output_type": "stream",
     "text": [
      "+-----+--------------------+\n",
      "|KY_CD|           OFNS_DESC|\n",
      "+-----+--------------------+\n",
      "|  102|HOMICIDE-NEGLIGEN...|\n",
      "+-----+--------------------+\n",
      "\n"
     ]
    }
   ],
   "source": [
    "filtered_df = ofns_df.filter(ofns_df['KY_CD'] == 102)\n",
    "\n",
    "# display the filtered results\n",
    "filtered_df.show()"
   ]
  },
  {
   "cell_type": "markdown",
   "metadata": {
    "id": "00VuFvltVCTV"
   },
   "source": [
    "### Detailed Offense Table"
   ]
  },
  {
   "cell_type": "code",
   "execution_count": 237,
   "metadata": {
    "colab": {
     "base_uri": "https://localhost:8080/"
    },
    "id": "j3lo7La-VC6I",
    "outputId": "6d4684c7-1c01-4041-b700-0c6ad8010b53"
   },
   "outputs": [
    {
     "name": "stdout",
     "output_type": "stream",
     "text": [
      "root\n",
      " |-- PD_CD: integer (nullable = true)\n",
      " |-- PD_DESC: string (nullable = true)\n",
      "\n"
     ]
    }
   ],
   "source": [
    "# display the schema of the detailed offense table\n",
    "pd_df.printSchema()"
   ]
  },
  {
   "cell_type": "code",
   "execution_count": 238,
   "metadata": {
    "colab": {
     "base_uri": "https://localhost:8080/"
    },
    "id": "_xPfXqLlVHT7",
    "outputId": "099f2614-eb36-4707-aa0a-839212ecfef2"
   },
   "outputs": [
    {
     "name": "stdout",
     "output_type": "stream",
     "text": [
      "+-----+-------+\n",
      "|PD_CD|PD_DESC|\n",
      "+-----+-------+\n",
      "|    0|      0|\n",
      "+-----+-------+\n",
      "\n"
     ]
    }
   ],
   "source": [
    "# count the number of null values in each column\n",
    "null_counts = pd_df.agg(*[sum(col(c).isNull().cast('int')).alias(c) for c in pd_df.columns])\n",
    "\n",
    "# display the result\n",
    "null_counts.show()"
   ]
  },
  {
   "cell_type": "code",
   "execution_count": 239,
   "metadata": {
    "id": "sTf_kwT8VKHm"
   },
   "outputs": [],
   "source": [
    "# remove rows where \"PD_CD\" is (null) or empty\n",
    "pd_df = pd_df.filter(col('PD_CD').isNotNull() & (col('PD_CD') != ''))\n",
    "pd_df = pd_df.filter(col('PD_CD') != '(null)')"
   ]
  },
  {
   "cell_type": "code",
   "execution_count": 240,
   "metadata": {
    "colab": {
     "base_uri": "https://localhost:8080/"
    },
    "id": "QQexPQtgVLEi",
    "outputId": "41e1f198-832f-4045-a365-1f8244e7c715"
   },
   "outputs": [
    {
     "name": "stdout",
     "output_type": "stream",
     "text": [
      "root\n",
      " |-- PD_CD: integer (nullable = true)\n",
      " |-- PD_DESC: string (nullable = true)\n",
      "\n"
     ]
    }
   ],
   "source": [
    "# display the schema of the detailed offense table\n",
    "pd_df.printSchema()"
   ]
  },
  {
   "cell_type": "markdown",
   "metadata": {
    "id": "PsCEzws_VPf3"
   },
   "source": [
    "### Law Table"
   ]
  },
  {
   "cell_type": "code",
   "execution_count": 241,
   "metadata": {
    "colab": {
     "base_uri": "https://localhost:8080/"
    },
    "id": "O0IMDMh-VRV0",
    "outputId": "8ee4e7bf-a189-4603-8195-91eb080f4ca6"
   },
   "outputs": [
    {
     "name": "stdout",
     "output_type": "stream",
     "text": [
      "root\n",
      " |-- LAW_CODE: string (nullable = true)\n",
      " |-- LAW_CAT_CD: string (nullable = true)\n",
      "\n"
     ]
    }
   ],
   "source": [
    "# display the schema of the law table\n",
    "law_df.printSchema()"
   ]
  },
  {
   "cell_type": "code",
   "execution_count": 242,
   "metadata": {
    "colab": {
     "base_uri": "https://localhost:8080/"
    },
    "id": "7nJNbWRnVa-g",
    "outputId": "997a7a5c-7fef-4939-f5bc-e2b89e10aeac"
   },
   "outputs": [
    {
     "name": "stdout",
     "output_type": "stream",
     "text": [
      "+--------+----------+\n",
      "|LAW_CODE|LAW_CAT_CD|\n",
      "+--------+----------+\n",
      "|       0|         0|\n",
      "+--------+----------+\n",
      "\n"
     ]
    }
   ],
   "source": [
    "# count the number of null values in each column\n",
    "null_counts = law_df.agg(*[sum(col(c).isNull().cast('int')).alias(c) for c in law_df.columns])\n",
    "\n",
    "# display the result\n",
    "null_counts.show()"
   ]
  },
  {
   "cell_type": "markdown",
   "metadata": {
    "id": "ha-6VP7TVfob"
   },
   "source": [
    "### Arrest Table"
   ]
  },
  {
   "cell_type": "code",
   "execution_count": 244,
   "metadata": {
    "colab": {
     "base_uri": "https://localhost:8080/"
    },
    "id": "DmnxhMU7VhCQ",
    "outputId": "400ea72d-d866-4429-fbe1-dda06d4685e7"
   },
   "outputs": [
    {
     "name": "stdout",
     "output_type": "stream",
     "text": [
      "+----------+-----------+-----+-----+----------+-----------+---------------+-----------------+---------+--------+---------+----------+----------+-----------+------------+\n",
      "|ARREST_KEY|ARREST_DATE|PD_CD|KY_CD|  LAW_CODE|ARREST_BORO|ARREST_PRECINCT|JURISDICTION_CODE|AGE_GROUP|PERP_SEX|PERP_RACE|X_COORD_CD|Y_COORD_CD|   Latitude|   Longitude|\n",
      "+----------+-----------+-----+-----+----------+-----------+---------------+-----------------+---------+--------+---------+----------+----------+-----------+------------+\n",
      "| 239553009| 01/23/2022|  464|  230|PL 1652501|          Q|            110|                1|    25-44|       M|    BLACK|   1027679|    214505|40.75533648|-73.84324519|\n",
      "| 239922214| 01/31/2022|  397|  105|PL 1601502|          K|             69|                0|    25-44|       M|    BLACK|   1010576|    175628|  40.648698|  -73.905128|\n",
      "| 239939130| 02/01/2022|  105|  106|PL 1211200|          K|             61|                0|      65+|       M|    WHITE|    995118|    155708|  40.594054|  -73.960866|\n",
      "| 240521791| 02/13/2022|  101|  344|PL 1200001|          M|             28|                0|    45-64|       M|    BLACK|    997124|    233883|  40.808623|  -73.953492|\n",
      "| 241022365| 02/21/2022|  397|  105|PL 1600500|          K|             76|                0|    45-64|       M|    BLACK|    986331|    190452|  40.689425|  -73.992493|\n",
      "+----------+-----------+-----+-----+----------+-----------+---------------+-----------------+---------+--------+---------+----------+----------+-----------+------------+\n",
      "only showing top 5 rows\n",
      "\n"
     ]
    }
   ],
   "source": [
    "arrest_df.show(5)"
   ]
  },
  {
   "cell_type": "code",
   "execution_count": 245,
   "metadata": {
    "colab": {
     "base_uri": "https://localhost:8080/"
    },
    "id": "txtLuXsqVhJE",
    "outputId": "bcc735e5-1d47-437a-cb12-f73ef94bc867"
   },
   "outputs": [
    {
     "name": "stdout",
     "output_type": "stream",
     "text": [
      "root\n",
      " |-- ARREST_KEY: integer (nullable = true)\n",
      " |-- ARREST_DATE: string (nullable = true)\n",
      " |-- PD_CD: integer (nullable = true)\n",
      " |-- KY_CD: integer (nullable = true)\n",
      " |-- LAW_CODE: string (nullable = true)\n",
      " |-- ARREST_BORO: string (nullable = true)\n",
      " |-- ARREST_PRECINCT: integer (nullable = true)\n",
      " |-- JURISDICTION_CODE: integer (nullable = true)\n",
      " |-- AGE_GROUP: string (nullable = true)\n",
      " |-- PERP_SEX: string (nullable = true)\n",
      " |-- PERP_RACE: string (nullable = true)\n",
      " |-- X_COORD_CD: integer (nullable = true)\n",
      " |-- Y_COORD_CD: integer (nullable = true)\n",
      " |-- Latitude: double (nullable = true)\n",
      " |-- Longitude: double (nullable = true)\n",
      "\n"
     ]
    }
   ],
   "source": [
    "# display the schema of the arrest\n",
    "arrest_df.printSchema()"
   ]
  },
  {
   "cell_type": "code",
   "execution_count": 246,
   "metadata": {
    "colab": {
     "base_uri": "https://localhost:8080/"
    },
    "id": "k-b_2LEMVn4R",
    "outputId": "10b85835-ec50-48db-90d6-2e3de64a476a"
   },
   "outputs": [
    {
     "name": "stdout",
     "output_type": "stream",
     "text": [
      "+----------+-----------+-----+-----+--------+-----------+---------------+-----------------+---------+--------+---------+----------+----------+--------+---------+\n",
      "|ARREST_KEY|ARREST_DATE|PD_CD|KY_CD|LAW_CODE|ARREST_BORO|ARREST_PRECINCT|JURISDICTION_CODE|AGE_GROUP|PERP_SEX|PERP_RACE|X_COORD_CD|Y_COORD_CD|Latitude|Longitude|\n",
      "+----------+-----------+-----+-----+--------+-----------+---------------+-----------------+---------+--------+---------+----------+----------+--------+---------+\n",
      "|         0|          0|    0|    0|       0|          0|              0|                0|        0|       0|        0|         0|         0|       0|        0|\n",
      "+----------+-----------+-----+-----+--------+-----------+---------------+-----------------+---------+--------+---------+----------+----------+--------+---------+\n",
      "\n"
     ]
    }
   ],
   "source": [
    "# count the number of null values in each column\n",
    "null_counts = arrest_df.agg(*[sum(col(c).isNull().cast('int')).alias(c) for c in arrest_df.columns])\n",
    "\n",
    "# display the result\n",
    "null_counts.show()"
   ]
  },
  {
   "cell_type": "code",
   "execution_count": 247,
   "metadata": {
    "id": "qLfU1TgBVvV3"
   },
   "outputs": [],
   "source": [
    "# convert 'PD_CD' and 'KY_CD' columns to integer\n",
    "arrest_df = arrest_df.withColumn('PD_CD', col('PD_CD').cast('integer'))\n",
    "arrest_df = arrest_df.withColumn('KY_CD', col('KY_CD').cast('integer'))\n",
    "\n",
    "# convert 'ARREST_DATE' column to datetime\n",
    "arrest_df = arrest_df.withColumn('ARREST_DATE', to_date(col('ARREST_DATE'),  'yyyy-MM-dd'))"
   ]
  },
  {
   "cell_type": "code",
   "execution_count": 248,
   "metadata": {
    "colab": {
     "base_uri": "https://localhost:8080/"
    },
    "id": "NSnYop4jVxsK",
    "outputId": "2434192e-665b-40cc-cedf-fcaf665e2e39"
   },
   "outputs": [
    {
     "name": "stdout",
     "output_type": "stream",
     "text": [
      "root\n",
      " |-- ARREST_KEY: integer (nullable = true)\n",
      " |-- ARREST_DATE: date (nullable = true)\n",
      " |-- PD_CD: integer (nullable = true)\n",
      " |-- KY_CD: integer (nullable = true)\n",
      " |-- LAW_CODE: string (nullable = true)\n",
      " |-- ARREST_BORO: string (nullable = true)\n",
      " |-- ARREST_PRECINCT: integer (nullable = true)\n",
      " |-- JURISDICTION_CODE: integer (nullable = true)\n",
      " |-- AGE_GROUP: string (nullable = true)\n",
      " |-- PERP_SEX: string (nullable = true)\n",
      " |-- PERP_RACE: string (nullable = true)\n",
      " |-- X_COORD_CD: integer (nullable = true)\n",
      " |-- Y_COORD_CD: integer (nullable = true)\n",
      " |-- Latitude: double (nullable = true)\n",
      " |-- Longitude: double (nullable = true)\n",
      "\n"
     ]
    }
   ],
   "source": [
    "# display the schema of the arrest\n",
    "arrest_df.printSchema()"
   ]
  },
  {
   "cell_type": "markdown",
   "metadata": {
    "id": "pOpX0QKOWDUy"
   },
   "source": [
    "### PK/FK Compatibility"
   ]
  },
  {
   "cell_type": "markdown",
   "metadata": {
    "id": "bjuvSkWyWM5E"
   },
   "source": [
    "#### Arrest Table"
   ]
  },
  {
   "cell_type": "code",
   "execution_count": 250,
   "metadata": {
    "colab": {
     "base_uri": "https://localhost:8080/"
    },
    "id": "1RqQocU3WHvp",
    "outputId": "619419d2-c138-4cc7-e9bf-33dcad1ecf2b"
   },
   "outputs": [
    {
     "name": "stdout",
     "output_type": "stream",
     "text": [
      "+----------+-----------+-----+-----+----------+-----------+---------------+-----------------+---------+--------+---------+----------+----------+-----------+------------+\n",
      "|ARREST_KEY|ARREST_DATE|PD_CD|KY_CD|  LAW_CODE|ARREST_BORO|ARREST_PRECINCT|JURISDICTION_CODE|AGE_GROUP|PERP_SEX|PERP_RACE|X_COORD_CD|Y_COORD_CD|   Latitude|   Longitude|\n",
      "+----------+-----------+-----+-----+----------+-----------+---------------+-----------------+---------+--------+---------+----------+----------+-----------+------------+\n",
      "| 239553009|       null|  464|  230|PL 1652501|          Q|            110|                1|    25-44|       M|    BLACK|   1027679|    214505|40.75533648|-73.84324519|\n",
      "| 239922214|       null|  397|  105|PL 1601502|          K|             69|                0|    25-44|       M|    BLACK|   1010576|    175628|  40.648698|  -73.905128|\n",
      "| 239939130|       null|  105|  106|PL 1211200|          K|             61|                0|      65+|       M|    WHITE|    995118|    155708|  40.594054|  -73.960866|\n",
      "| 240521791|       null|  101|  344|PL 1200001|          M|             28|                0|    45-64|       M|    BLACK|    997124|    233883|  40.808623|  -73.953492|\n",
      "| 241022365|       null|  397|  105|PL 1600500|          K|             76|                0|    45-64|       M|    BLACK|    986331|    190452|  40.689425|  -73.992493|\n",
      "+----------+-----------+-----+-----+----------+-----------+---------------+-----------------+---------+--------+---------+----------+----------+-----------+------------+\n",
      "only showing top 5 rows\n",
      "\n"
     ]
    }
   ],
   "source": [
    "arrest_df.show(5)"
   ]
  },
  {
   "cell_type": "markdown",
   "metadata": {
    "id": "6zEq9nf7WR1t"
   },
   "source": [
    "#### First FK: PD_CD"
   ]
  },
  {
   "cell_type": "code",
   "execution_count": 252,
   "metadata": {
    "colab": {
     "base_uri": "https://localhost:8080/"
    },
    "id": "L3_Eb8tHWUZA",
    "outputId": "89b7f26d-a81f-469b-c145-caf4017ac660"
   },
   "outputs": [
    {
     "name": "stdout",
     "output_type": "stream",
     "text": [
      "[808, 580, 879, 799, 970, 918, 513, 876, 593, 155, 744, 530, 193, 101, 115, 772, 847, 939, 874, 183, 596, 762, 784, 688, 501, 577, 916, 844, 271, 973, 223, 548, 409, 578, 663, 707, 285, 209, 685, 727, 493, 122, 625, 157, 725, 476, 519, 177, 711, 827, 665, 696, 185, 694, 906, 291, 748, 581, 259, 512, 297, 674, 792, 440, 760, 16, 168, 205, 178, 972, 164, 500, 139, 479, 283, 582, 339, 944, 969, 507, 544, 268, 191, 258, 729, 397, 419, 553, 644, 117, 579, 764, 904, 15, 511, 269, 112, 849, 563, 775, 843, 862, 179, 659, 523, 461, 502, 197, 531, 462, 263, 107, 9, 586, 505, 175, 746, 695, 498, 503, 594, 35, 610, 583, 739, 742, 698, 441, 733, 766, 537, 173, 114, 494, 301, 687, 922, 719, 49, 380, 176, 520, 877, 514, 637, 244, 627, 664, 649, 565, 439, 273, 585, 277, 794, 438, 532, 706, 166, 129, 661, 779, 907, 509, 848, 589, 750, 293, 817, 267, 793, 759, 812, 261, 181, 510, 576, 289, 889, 113, 645, 125, 697, 968, 477, 29, 464, 798, 256, 195, 490, 595, 809, 203, 782, 640, 662, 265, 724, 899, 801, 515, 109, 639, 940, 254, 478, 997, 718, 574, 170, 708, 105, 781, 204, 872, 508, 106, 198, 638, 379, 199, 248, 522, 466, 909, 201, 803, 905, 529, 652, 557, 405, 802, 186, 681, 174, 705, 153, 785, 475, 104, 180, 643, 878, 841, 584, 521, 788, 701, 187]\n"
     ]
    }
   ],
   "source": [
    "arrest_fk1 = arrest_df.select(col(\"PD_CD\")).distinct().rdd.flatMap(lambda x: x).collect()\n",
    "print(arrest_fk1)\n"
   ]
  },
  {
   "cell_type": "code",
   "execution_count": 254,
   "metadata": {
    "colab": {
     "base_uri": "https://localhost:8080/"
    },
    "id": "xrhbJeqwWWRW",
    "outputId": "84463f9b-7d15-4cee-97c4-7bca9dd6dd29"
   },
   "outputs": [
    {
     "name": "stdout",
     "output_type": "stream",
     "text": [
      "[]\n"
     ]
    }
   ],
   "source": [
    "# PD_CD is the PK in the detailed offense table pd_df\n",
    "pd_pk = pd_df.select(col(\"PD_CD\")).distinct().rdd.flatMap(lambda x: x).collect()\n",
    "print(pd_pk)"
   ]
  },
  {
   "cell_type": "code",
   "execution_count": 255,
   "metadata": {
    "colab": {
     "base_uri": "https://localhost:8080/"
    },
    "id": "WZHlqYcdWYxK",
    "outputId": "9a4c8053-5179-47c2-80e3-853c8ba5f6b6"
   },
   "outputs": [
    {
     "name": "stdout",
     "output_type": "stream",
     "text": [
      "[512, 513, 514, 515, 519, 520, 9, 522, 523, 521, 15, 16, 529, 530, 531, 532, 537, 29, 544, 35, 548, 553, 557, 49, 563, 565, 574, 576, 577, 578, 579, 580, 581, 582, 583, 584, 585, 586, 589, 593, 594, 595, 596, 610, 101, 104, 105, 106, 107, 109, 112, 625, 114, 115, 627, 117, 113, 122, 637, 125, 639, 640, 129, 638, 643, 644, 645, 649, 139, 652, 659, 661, 662, 663, 664, 665, 153, 155, 157, 674, 164, 166, 168, 681, 170, 685, 173, 175, 688, 177, 178, 179, 687, 176, 694, 183, 696, 185, 695, 698, 181, 697, 186, 191, 701, 193, 706, 707, 195, 197, 708, 711, 198, 199, 201, 203, 204, 205, 718, 719, 209, 724, 725, 727, 729, 733, 223, 739, 742, 744, 746, 748, 750, 244, 759, 760, 248, 762, 764, 766, 254, 256, 258, 259, 772, 261, 775, 263, 265, 779, 268, 269, 267, 271, 784, 273, 782, 781, 785, 277, 788, 792, 793, 794, 283, 285, 798, 799, 289, 801, 291, 803, 293, 802, 808, 297, 809, 812, 301, 817, 827, 841, 843, 844, 847, 848, 849, 339, 862, 872, 874, 876, 877, 174, 879, 878, 889, 379, 380, 899, 904, 905, 906, 907, 180, 397, 909, 916, 405, 918, 409, 922, 419, 939, 940, 187, 944, 438, 439, 440, 441, 968, 969, 970, 972, 973, 461, 462, 464, 466, 475, 476, 477, 478, 479, 705, 997, 490, 493, 494, 498, 500, 501, 502, 503, 505, 507, 508, 509, 510, 511]\n"
     ]
    }
   ],
   "source": [
    "# convert arrest_fk1 and pd_pk to a set for faster lookup\n",
    "arrest_fk1 = set(arrest_fk1)\n",
    "pd_pk_set = set(pd_pk)\n",
    "\n",
    "# Checking the compatibility (if any FK is missing from the PK set)\n",
    "error_array = [i for i in arrest_fk1 if i not in pd_pk_set]\n",
    "\n",
    "# print the missing FKs\n",
    "print(error_array)"
   ]
  },
  {
   "cell_type": "markdown",
   "metadata": {
    "id": "ignY87G0p0DC"
   },
   "source": [
    "PK/FK is compatible for PD_CD"
   ]
  },
  {
   "cell_type": "markdown",
   "metadata": {
    "id": "aNvHd081WbcT"
   },
   "source": [
    "### Second FK: KY_CD"
   ]
  },
  {
   "cell_type": "code",
   "execution_count": 256,
   "metadata": {
    "colab": {
     "base_uri": "https://localhost:8080/"
    },
    "id": "-MYUnowlWfIP",
    "outputId": "1492f10f-8f58-432f-a901-c8aa2e608bba"
   },
   "outputs": [
    {
     "name": "stdout",
     "output_type": "stream",
     "text": [
      "[126, 101, 115, 236, 103, 350, 578, 995, 685, 230, 122, 233, 232, 346, 111, 353, 355, 882, 363, 348, 572, 359, 340, 881, 250, 676, 120, 235, 117, 347, 455, 112, 358, 675, 107, 231, 880, 677, 114, 238, 343, 234, 361, 102, 364, 356, 113, 237, 121, 125, 351, 352, 678, 345, 341, 109, 354, 105, 110, 106, 116, 344, 349, 119, 365, 118, 124, 571, 104]\n"
     ]
    }
   ],
   "source": [
    "# KY_CD is the second FK in the arrest table\n",
    "arrest_fk2 = arrest_df.select(col(\"KY_CD\")).distinct().rdd.flatMap(lambda x: x).collect()\n",
    "print(arrest_fk2)"
   ]
  },
  {
   "cell_type": "code",
   "execution_count": 260,
   "metadata": {
    "colab": {
     "base_uri": "https://localhost:8080/"
    },
    "id": "e7iP0NvTWhX_",
    "outputId": "034ea448-a47d-4beb-9469-384da42406ff"
   },
   "outputs": [
    {
     "name": "stdout",
     "output_type": "stream",
     "text": [
      "[115, 126, 101, 103, 236, 350, 578, 685, 995, 230, 122, 232, 233, 346, 111, 882, 355, 353, 363, 348, 572, 359, 881, 340, 250, 676, 120, 235, 117, 347, 455, 112, 358, 675, 107, 231, 880, 677, 114, 238, 343, 234, 361, 102, 364, 356, 113, 237, 121, 125, 351, 352, 678, 345, 341, 109, 354, 105, 110, 106, 116, 349, 344, 119, 365, 118, 124, 571, 104]\n"
     ]
    }
   ],
   "source": [
    "# KY_CD is the PK in the  offense table ofns_df\n",
    "ofns_pk = ofns_df.select(col(\"KY_CD\")).distinct().rdd.flatMap(lambda x: x).collect()\n",
    "print(ofns_pk)"
   ]
  },
  {
   "cell_type": "code",
   "execution_count": 261,
   "metadata": {
    "colab": {
     "base_uri": "https://localhost:8080/"
    },
    "id": "txzbFeBCWj1T",
    "outputId": "e56e265e-e0b5-48a7-ed37-8d767a10e093"
   },
   "outputs": [
    {
     "name": "stdout",
     "output_type": "stream",
     "text": [
      "[]\n"
     ]
    }
   ],
   "source": [
    "# convert arrest_fk2 and ofns_pk to a set for faster lookup\n",
    "arrest_fk2 = set(arrest_fk2)\n",
    "ofns_pk_set = set(ofns_pk)\n",
    "\n",
    "# Checking the compatibility (if any FK is missing from thofns_pke PK set)\n",
    "error_array = [i for i in arrest_fk2 if i not in ofns_pk]\n",
    "\n",
    "# print the missing FKs\n",
    "print(error_array)"
   ]
  },
  {
   "cell_type": "markdown",
   "metadata": {
    "id": "CIJfMJJPWmy4"
   },
   "source": [
    "- PK/FK is compatible for KY_CD"
   ]
  },
  {
   "cell_type": "markdown",
   "metadata": {
    "id": "szbd0p_WWr2S"
   },
   "source": [
    "#### Third FK: LAW_CODE"
   ]
  },
  {
   "cell_type": "code",
   "execution_count": 263,
   "metadata": {
    "colab": {
     "base_uri": "https://localhost:8080/"
    },
    "id": "FMUqjNNnWuDw",
    "outputId": "94d35aee-0c47-4814-b78b-3ed3b42018ee",
    "scrolled": false
   },
   "outputs": [
    {
     "name": "stdout",
     "output_type": "stream",
     "text": [
      "['VTL06002AE', 'VTL051101A', 'VTL0402001', 'PL 140100G', 'PL 2206000', 'PL 2101500', 'PL 2204102', 'PL 140200X', 'PL 1309000', 'VTL0511AI0', 'PL 121120X', 'ABC0108000', 'PL 1701501', 'PL 1305002', 'PL 230341A', 'PL 1200301', 'PL 1200505', 'PL 1651504', 'PL 2253003', 'VTL038301B', 'ABC00000V0', 'VTL05110E3', 'PL 1201403', 'PL 2204500', 'PL 2650801', 'PL 1251301', 'AM 0353A00', 'PL 2504505', 'PL 1303503', 'PL 2504504', 'PL 12004D4', 'VTL119201C', 'PL 2403102', 'PL 21551B4', 'PL 21551B1', 'PL 145052H', 'VTL0401B00', 'VTL0511AMU', 'PL 120250H', 'PL 2500500', 'PL 2200605', 'PL 1706503', 'VTL040101A', 'PL 12527WT', 'PL 2402006', 'PL 1553008', 'VTL1192AI1', 'PL 1701001', 'PL 12005WT', 'VTL03750MU', 'PL 2200914', 'COR0168EB3', 'PHL3380005', 'PL 155351H', 'PL 1306504', 'PL 1306503', 'VTL05110FE', 'PL 1051500', 'PL 16515M9', 'VTL03750XA', 'PL 120052X', 'RP 00000MA', 'PL 120058H', 'PL 1201300', 'PL 140251C', 'PL 2403103', 'PL 2653600', 'PL 2203907', 'PL 2302502', 'AC 019190B', 'PL 1201800', 'PL 2155700', 'VTL0375007', 'PL 145230A', 'PL 125271E', 'PL 16010BX', 'ACA0251302', 'PL 130301T', 'VTL05110A4', 'PL 1200300', 'PL 1204500', 'PL 1211300', 'PL 2000000', 'PL 2052002', 'PL 2051502', 'PL 2223001', 'PL 250453A', 'PL 2402601', 'PL 12005H3', 'VTL05110A1', 'PL 2200602', 'PL 12526A2', 'PL 16515M4', 'PL 2050500', 'PL 2650203', 'PL 1205003', 'PL 1206000', 'PL 1451000', 'VTL05110E2', 'PL 265091A', 'PL 1251000', 'VTL1192U3S', 'PL 240300H', 'PL 4902001', 'PL 1403001', 'PL 1601503', 'PL 1763000', 'PL 140303X', 'PL 1403500', 'VTL06000AA', 'PL 1601501', 'PL 2650105', 'PL 1650502', 'PL 1950002', 'PL 1753000', 'PL 1906501', 'VTL1192E2S', 'PL 2155600', 'PL 125271G', 'PL 1352000', 'PL 2204404', 'PL 1200510', 'ABC0096000', 'PL 160152H', 'PL 1902300', 'PL 1351000', 'PL 1950800', 'PL 12005XB', 'PL 1252501', 'PL 2203407', 'PL 1651700', 'PL 2206502', 'PL 12005KH', 'PL 1303001', 'VTL11920U3', 'PL 2200601', 'PL 2403100', 'AM 035102A', 'PL 2650201', 'PL 1554200', 'PL 2205003', 'VTL0375BIB', 'PHL00000MA', 'VTL1192U3C', 'PL 2204403', 'PL 2056000', 'PL 1654501', 'FOA9000035', 'AC 10203A4', 'PL 2650402', 'VTL11920E4', 'PL 1306001', 'PL 165154A', 'PL 1701502', 'PL 130501H', 'PL 2650206', 'PL 1201500', 'PL 12005BA', 'GCI00000M0', 'PL 1200600', 'PL 121120H', 'PL 2702001', 'PL 1303002', 'PL 1951501', 'PL 13052A2', 'PL 2204101', 'PL 145004H', 'PL 2300400', 'PL 2651004', 'PL 1581500', 'PL 120052H', 'AC 0020453', 'PL 155402B', 'PL 1201401', 'VTL0512000', 'VTL1212000', 'VTL1227001', 'PL 2402003', 'PL 4602001', 'PL 2253001', 'TAX181400A', 'PL 26503BS', 'PL 2405501', 'AC 024218A', 'PL 1584000', 'PL 145003H', 'PL 12005BC', 'GB 0089G1A', 'TAX18140B3', 'ABC00000MA', 'PL 1402502', 'PL 1402000', 'PL 1456002', 'PL 265102B', 'PL 21551B2', 'PL 2200902', 'PL 1654504', 'LOC00000MB', 'PL 1452300', 'PL 2203906', 'VTL1225D01', 'VTL1192U4A', 'PL 1752000', 'PL 265031B', 'PL 1651601', 'PL 1202500', 'PL 1704001', 'PL 1201003', 'VTL11110D1', 'ABC0114000', 'LOC00000MU', 'PL 145230B', 'PL 1200502', 'PL 2225001', 'AC 10203A2', 'PL 263150X', 'AC 10203A1', 'VTL11920D2', 'PL 1200700', 'PL 130451T', 'TAX00000MA', 'PL 1309503', 'PL 1601504', 'PL 1751000', 'PL 1306002', 'PL 1204503', 'TWN0000000', 'PL 2155003', 'VTL119202X', 'VTL112600A', 'PL 265025A', 'PL 130801B', 'PL 2603201', 'TAX18140H1', 'VTL1225C2A', 'PL 26510MA', 'PL 1654502', 'VTL06000EF', 'VTL1175000', 'PL 1651002', 'PL 1651509', 'PL 155304H', 'PL 2650802', 'PL 26510M1', 'PL 2630500', 'PL 1306501', 'PL 2225501', 'PL 160152X', 'VTL11100AH', 'PL 1651512', 'PL 120059X', 'PL 2104000', 'VTL0511002', 'PL 14010FH', 'VTL03750A3', 'PL 120056X', 'PL 1201001', 'PL 2302001', 'PL 1305500', 'PL 2201611', 'TAX1814C22', 'TAX048400A', 'PL 1600500', 'PL 1908003', 'PL 1706501', 'PL 145004B', 'VTL03750T1', 'PL 140152H', 'BL 06500B1', 'AC 010125B', 'PL 2650104', 'PL 1204502', 'PL 2406006', 'PL 230345A', 'PL 1657100', 'PL 190801F', 'PL 120059T', 'PL 1501500', 'VTL11920D4', 'PL 2405003', 'ABC015400F', 'PL 1304501', 'VTL0415A01', 'PL 12005VX', 'PL 120102H', 'AM 0353A01', 'PL 12070FE', 'PL 1305300', 'PL 12005CH', 'PL 1554002', 'VTL06050A1', 'PL 1401701', 'PL 1050500', 'PL 2552500', 'PL 2224002', 'PL 2303405', 'PL 12527AT', 'PL 1354502', 'PL 1902502', 'PL 26502XT', 'ABC0064B00', 'PL 2000401', 'PL 155305H', 'VTL0511A01', 'PL 1902602', 'VTL0509004', 'PL 1908001', 'VTL05110EA', 'TAX1803000', 'LOC00000FA', 'PL 2651201', 'PL 155402A', 'PL 1908600', 'PL 1451400', 'PL 1403004', 'VTL1192E1S', 'PL 2202101', 'PL 2405002', 'PL 1908200', 'PL 2203402', 'PL 12005BB', 'VTL120000B', 'PL 2651006', 'PL 1050501', 'PL 2450302', 'PL 120503H', 'PL 120053X', 'PL 1906001', 'PL 1950600', 'PL 21551B3', 'PL 1707001', 'PL 1651501', 'VTL034000A', 'PL 2226500', 'PL 2404502', 'PL 1950500', 'PL 140100E', 'PL 2650107', 'VTL119809B', 'VTL0397000', 'PL 215510B', 'PL 2450301', 'PL 1200506', 'PL 140100B', 'PHL3380000', 'PL 2651301', 'PL 2403004', 'PL 2201604', 'VTL05110E1', 'PL 2650401', 'PL 2401000', 'VTL119202Y', 'PL 2201806', 'PL 120180T', 'VTL116000A', 'PL 1761500', 'PL 4702001', 'PL 1651502', 'PL 4602200', 'PL 1908303', 'PL 1500100', 'PL 1761000', 'PL 1309600', 'PL 140251X', 'PL 120130H', 'PL 130661B', 'PL 1700500', 'VTL0511003', 'PL 2251002', 'PL 2051501', 'PL 1205004', 'LOC00000M0', 'PL 1306502', 'LOC00000UM', 'AC 0161186', 'PL 1251100', 'PL 1303501', 'PL 1702500', 'AC 019190C', 'PL 1205502', 'PL 1554300', 'PL 1450501', 'VTL1192U1C', 'PL 2051002', 'PL 2100500', 'COR0168FFE', 'PL 1651510', 'PL 2204105', 'PL 26503BT', 'BL 06500B3', 'PL 1553502', 'VTL11920M4', 'VTL05110AA', 'PL 125277X', 'PL 2203405', 'VTL0511A03', 'PL 260061A', 'PL 140251B', 'TAX1814C12', 'PL 1907902', 'VTL119206U', 'PL 1304002', 'VTL0509002', 'PL 2303404', 'PL 490150T', 'PL 2700502', 'PL 2051503', 'PL 1200002', 'PL 2450000', 'PL 1304003', 'PL 2151101', 'ACA0330907', 'RR 00000MA', 'PL 1303502', 'PL 1401502', 'PL 14010GH', 'PL 2000300', 'PL 2155007', 'PL 26510F2', 'PL 1650901', 'VTL1229C3A', 'PL 160153H', 'PL 2201606', 'PL 2052501', 'PL 2600501', 'VTL1220B01', 'PL 1907801', 'PL 1302503', 'PL 2155002', 'PL 21551B6', 'PL 2201610', 'PL 130801A', 'PL 2224500', 'PL 240250H', 'VTL1192UM1', 'PL 2352103', 'PL 1951600', 'PL 2155203', 'PL 120101H', 'ABC0106006', 'AC 019176B', 'PL 140301H', 'PL 1707002', 'PL 125251H', 'LOC00000I0', 'PL 155301H', 'PL 1051000', 'PL 16515V9', 'VTL0426000', 'PL 2204301', 'PL 2201807', 'LOC00000FE', 'PL 2200607', 'PL 1205503', 'PL 130701B', 'PL 1402501', 'VTL05110MU', 'PL 1651506', 'PL 2155001', 'PL 170703B', 'PL 2253002', 'ABC0153000', 'PL 1252002', 'PL 230340A', 'PL 2402100', 'VTL1192UFC', 'PL 2405502', 'VTL0375003', 'PL 1206001', 'PL 121130H', 'PRL00000MA', 'RR 00000V0', 'PL 140251A', 'PL 120080T', 'PL 2651302', 'PL 2155006', 'PL 1252000', 'PL 1907802', 'COR0168E04', 'PL 2201602', 'PL 265025B', 'VTL1192D4A', 'PL 1305200', 'PL 1553004', 'PL 130751B', 'PL 2603200', 'PL 1454500', 'PL 1650600', 'PL 1706502', 'VTL119202Z', 'PL 265100A', 'PL 2204106', 'PL 120058X', 'PL 121120T', 'VTL1192E1C', 'PL 2631000', 'PL 240503B', 'VTL119202V', 'PL 2651202', 'LOC00000AF', 'PL 2651102', 'PL 1553002', 'PL 1252502', 'ABC0106012', 'PL 145050H', 'PL 2603402', 'PL 490201T', 'PL 2651900', 'VTL0381006', 'PL 2200904', 'PL 1908002', 'PL 1781000', 'PL 460201A', 'PL 12005CX', 'PL 2400800', 'PL 155250Z', 'PL 1553006', 'PL 2200905', 'PL 2650901', 'PL 160153X', 'VTL05110A3', 'VTL0402004', 'PL 1252504', 'PL 1304502', 'PL 1355002', 'PL 2406001', 'PL 2151501', 'PL 2223501', 'VTL1192D3C', 'PL 120003H', 'PL 1200100', 'PL 160050H', 'PL 2200903', 'PL 165154D', 'PL 145001H', 'PL 2002500', 'PL 2407700', 'PL 1200507', 'PL 26537M0', 'VTL030600B', 'PL 2402005', 'PL 26503ST', 'PL 130651T', 'PL 2405001', 'PL 1350500', 'PL 2402603', 'LOC00000F0', 'PL 2204600', 'GCI0000000', 'PL 155308H', 'PL 1902601', 'PL 1201200', 'PL 1150001', 'PL 120200H', 'PL 2207702', 'PL 15530TH', 'PL 2650303', 'PL 2200901', 'PL 160154X', 'PL 2403200', 'PL 1400500', 'PL 1403002', 'PL 2650208', 'PL 145100H', 'COR0168FFD', 'VTL037501A', 'VTL0510007', 'ABC0100000', 'PL 120102X', 'COR0168D06', 'FOA9000015', 'PL 1302001', 'VTL0511A3B', 'PL 2650600', 'ABC0065000', 'VTL0319003', 'FOA9000009', 'VTL0392005', 'PL 1200501', 'PL 1650501', 'VTL11920U4', 'PL 1553005', 'PL 2250500', 'PL 2201605', 'PL 2650202', 'TAX1814H32', 'PL 120502H', 'PL 240503C', 'PL 24030M1', 'VTL06002AA', 'PL 2203902', 'PL 1000500', 'PL 24030AH', 'PL 245000A', 'PL 4901000', 'VTL05110E4', 'PL 2700506', 'PL 14025AT', 'ED 6512001', 'VTL11920E2', 'PL 1302501', 'PL 1902000', 'PL 160101H', 'PL 1305001', 'PL 155402H', 'LOC00000V0', 'PL 1451200', 'PL 1553007', 'PL 1902501', 'PL 2653702', 'PL 2053000', 'PL 1650800', 'VTL05110A2', 'VTL116000E', 'PL 2403003', 'PL 1352501', 'PL 2602001', 'PL 2204103', 'PL 120141H', 'PL 1403003', 'PL 170703A', 'PL 1201002', 'PL 160103X', 'PL 1581000', 'ABC0130000', 'PL 1655000', 'PL 1304001', 'PL 12070E1', 'PL 140100D', 'PL 120053B', 'PL 2402500', 'PL 2052502', 'PL 2650302', 'PL 140151H', 'PL 1305004', 'VTL1192D2C', 'COR0168D03', 'PL 12005XA', 'VTL11920AV', 'PAR000103C', 'PL 1302502', 'PL 2204401', 'PL 2650103', 'PL 245000B', 'PL 120000H', 'PHL00000FE', 'PL 1307001', 'PL 120057X', 'PL 1652501', 'PL 2601002', 'PL 135252B', 'PL 1051001', 'PL 2404501', 'PHL3310000', 'PL 1200504', 'PL 2300000', 'PL 2302501', 'PL 24500BI', 'TAX00000MU', 'PL 1750501', 'PL 2650102', 'PL 2201802', 'VTL119809D', 'PL 140100F', 'PL 27002MA', 'PL 2204302', 'PL 2201805', 'PL 1704002', 'VTL0392AFE', 'PL 120051X', 'PL 2151201', 'PL 1051300', 'PL 2200606', 'PL 26510FD', 'AM 00000MU', 'PL 160151H', 'PL 263050X', 'PL 140251D', 'VTL1192E3C', 'PL 1553001', 'PL 2600001', 'PL 26025F0', 'PL 160102A', 'PL 1356009', 'PL 1654503', 'PL 1354501', 'PL 26502IT', 'PL 2403502', 'PL 26510F4', 'PL 2200300', 'PL 120110T', 'COR0168D2B', 'PL 1651508', 'PL 1200512', 'PL 2703000', 'PL 1902503', 'VTL119202U', 'PL 1356001', 'VTL119203V', 'PL 12527IT', 'VTL03750I0', 'PL 1553501', 'PL 2201801', 'PL 1202000', 'VTL111000A', 'PL 2205500', 'PL 2631500', 'VTL0319002', 'PL 2650108', 'VTL050906A', 'PL 1356004', 'PL 125271A', 'PL 240503A', 'PL 1356501', 'PL 2052001', 'PL 125271F', 'PL 1701002', 'TAX1804000', 'ACA0251300', 'PL 1762500', 'PL 4000008', 'PL 1200001', 'VTL037502A', 'PL 2451100', 'PL 125271H', 'PL 1654000', 'PL 190651B', 'PL 2651003', 'PL 24030BH', 'ABC0106000', 'PL 265091B', 'VTL0319001', 'PL 120051H', 'PL 1908302', 'PL 215100A', 'PL 1651503', 'PL 1650001', 'PL 1452500', 'TAX1802000', 'PL 2156500', 'PL 4701502', 'PL 1500500', 'PL 12005ET', 'PL 2200603', 'PL 1204501', 'PL 1201402', 'PL 1908100', 'PL 105170H', 'FOA9000049', 'PL 1601003', 'PL 2505500', 'PL 1657200', 'PL 2403005', 'PL 155307H', 'ABC0092000', 'PL 14025AX', 'PL 2222500', 'PL 1601502', 'VTL119807A', 'PL 1252503', 'PL 2155202', 'PL 135200X', 'PL 1762000', 'VTL030600C', 'PL 1200511', 'VTL06002AD', 'PL 1450003', 'CPL00000MA', 'PL 1201004', 'PL 1211200', 'PL 2650101', 'PL 1450004', 'PL 2151601', 'PL 2400500', 'PL 2651101', 'PL 2225502', 'PL 155250H', 'PL 1752500', 'PL 2506002', 'PL 2104500', 'PL 2631100', 'PL 265031C', 'PL 2505000', 'PL 2201612', 'PL 14500BH', 'PL 1651507', 'PL 21551B5', 'PAR000105F', 'PL 140100C', 'PL 2303402', 'PL 155303H', 'PL 16010AH', 'PL 1908301', 'PL 12005SH', 'PL 1305003', 'PL 1907901', 'PL 2151502', 'VTL1192EAC', 'COR0168EB1', 'PL 1303504', 'PL 2200906', 'PL 2402602', 'PL 2602103', 'PL 1450001', 'PL 215510D', 'VTL060001A', 'PL 12005EH', 'PL 1655400', 'PL 120001H', 'PL 1500501', 'PHL00000M', 'PL 130351T', 'PL 14025CX', 'TAX1814H31', 'VTL1192D2S', 'PL 215510A', 'PL 2224001', 'PL 2602002', 'PL 1306701', 'PL 13052A1', 'PL 121110B', 'PL 2001000', 'PL 2206501', 'PL 2205001', 'PL 1205000', 'PL 225102A', 'PL 2202801', 'PL 2202102', 'PL 1502001', 'PL 2603204', 'PL 2051001', 'PL 1051700', 'PL 240302H', 'PL 1452000', 'VTL03750T2', 'PL 1401501', 'PL 1554001', 'PL 125253X', 'PL 145051H', 'PL 225102B', 'PL 2201601', 'PL 1950001', 'COR0168E1A', 'PL 2650207', 'PL 1302002', 'PL 2101000', 'PL 265101B', 'PL 2403002', 'AC 10177', 'PL 140252X', 'LOC00000AM', 'PL 120053C', 'VTL0375012', 'TAX18140B2', 'PL 215510C', 'PL 1707003', 'PL 130651B', 'PL 1201100', 'PL 2223502', 'ABC0100001', 'FOA9000016', 'PL 2051003', 'PL 1657300', 'PL 140200H', 'PL 2403101', 'TAX1805000', 'PL 1355001', 'PL 1200508', 'PL 2201607', 'PL 2204402', 'PL 1305202', 'PL 2200913', 'VTL119401B', 'ABC0064A00', 'VTL0511001', 'PL 120053A', 'PL 2407501', 'PL 1150000', 'PL 1908500', 'PL 120054A', 'PL 1950700', 'PL 2402007', 'PL 160151X', 'PL 4701501', 'PL 1703000', 'PL 145004A', 'PL 2154001', 'PL 2251001', 'PL 1356007', 'AC 0019190', 'PL 1205501', 'COR0168E2A', 'PL 215000A', 'COR0168EC1', 'PL 130960T', 'PL 1601002', 'PL 1601001', 'PL 2201603', 'PL 1701004', 'AM 0353B00', 'PL 2205002', 'VTL1182001', 'PL 1252001', 'PL 2601001', 'PL 1451500', 'PL 1650503', 'PL 1251501', 'PL 1305201', 'PL 1553009', 'PL 1000800', 'PL 265033S', 'PL 1701003', 'PL 1753501', 'PL 1653001', 'CPL00000MB', 'PL 1200509', 'PL 2154002', 'HTH0015309', 'PL 160050X', 'COR0168D1A', 'PL 1655200', 'PL 120150H', 'PL 2350700', 'PL 1552500', 'PL 2226000', 'VTL0355000', 'PL 2201803', 'PL 2051700', 'COR0168HF3', 'VTL11920U2', 'COR0168E03', 'PL 165001B', 'PL 2405503', 'PL 2703500', 'PL 240551T', 'PL 1200003', 'PL 145002H', 'PL 240301H', 'PL 2157500', 'PL 140100A', 'PL 2201609', 'VTL06002AB', 'PRL0000000', 'PL 120057H', 'PL 160101X', 'VTL0511D01', 'LOC000000V', 'PL 2504501', 'PL 1200201', 'PL 130651H', 'PL 1654505', 'PL 2402001', 'PL 4701001', 'PL 1553010', 'PL 2702500', 'CPL4104000', 'PL 155402C', 'PL 2303202', 'PL 1450502', 'AM 0353000', 'PL 1200800', 'PL 155401H', 'PL 2303403', 'PL 2303401', 'VTL1229C00', 'PL 2402002', 'VTL11920E3', 'PL 1753502', 'PL 2200908', 'PL 2201608', 'VTL030600E', 'VTL1192DAS', 'PL 2302500', 'PL 1501001', 'PL 130751A', 'PL 12005WX', 'TAX1814AI2', 'PL 26503CS', 'PL 2155500', 'COR0168D04', 'PL 2200907', 'PL 2631600', 'PL 1450002', 'PL 1211100', 'VTL11920D3', 'PL 2650106', 'VTL0383001', 'PL 16010AX', 'PL 2203100', 'PL 1456500', 'VTL1192U2S', 'PL 1701005', 'PL 1782500', 'PL 2155201', 'PL 14010AH', 'LOC00000MA', 'PL 1653002', 'RR 0053E00', 'ABC00000MU', 'FOA9000029', 'PL 1702000', 'PL 12005A3', 'PL 160102B', 'PL 12005WH', 'PL 120002H', 'PL 155306H', 'PL 2602400', 'PL 2223002', 'VTL031901U', 'PL 1404000', 'PL 2201613', 'PL 2251502', 'PL 14010EH', 'PL 121110A', 'PL 1651001', 'PL 12004D3', 'PL 4000002', 'PL 155302H', 'PL 27000AI', 'PL 2304000', 'PL 2451500', 'VTL0509001', 'PL 12070FC', 'PL 2504502', 'PL 265031A', 'VTL1192D1C', 'PL 1651100', 'PL 12527FT', 'PL 121130T', 'PL 1251201', 'PL 26503AS', 'PL 2203901', 'VTL1192U2C', 'VTL1192E2C', 'ABC010000M', 'PL 2301900', 'PL 1562503']\n"
     ]
    }
   ],
   "source": [
    "# LAW_CODE is the third FK in the arrest table\n",
    "arrest_fk3 = arrest_df.select(col(\"LAW_CODE\")).distinct().rdd.flatMap(lambda x: x).collect()\n",
    "print(arrest_fk3)"
   ]
  },
  {
   "cell_type": "code",
   "execution_count": 265,
   "metadata": {
    "colab": {
     "base_uri": "https://localhost:8080/"
    },
    "id": "yfkVSTBRWv3l",
    "outputId": "78170eef-6c63-4d50-fa15-ce6fdaf6ac4e",
    "scrolled": false
   },
   "outputs": [
    {
     "name": "stdout",
     "output_type": "stream",
     "text": [
      "['PL 2206000', 'PL 2101500', 'VTL051101A', 'VTL06002AE', 'VTL0402001', 'PL 140100G', 'ABC0108000', 'PL 2204102', 'PL 121120X', 'VTL0511AI0', 'PL 140200X', 'PL 1309000', 'ABC00000V0', 'VTL038301B', 'PL 1305002', 'PL 1651504', 'PL 1200301', 'PL 2253003', 'PL 1200505', 'PL 1701501', 'PL 230341A', 'PL 2650801', 'PL 1201403', 'VTL05110E3', 'PL 1251301', 'PL 2204500', 'AM 0353A00', 'PL 2504504', 'PL 2504505', 'PL 2403102', 'VTL119201C', 'PL 12004D4', 'PL 1303503', 'PL 21551B1', 'PL 145052H', 'PL 21551B4', 'VTL0401B00', 'PL 2500500', 'VTL0511AMU', 'PL 120250H', 'VTL040101A', 'PL 1706503', 'PL 2200605', 'PL 12527WT', 'PL 2402006', 'PL 12005WT', 'PL 1701001', 'PL 155351H', 'COR0168EB3', 'PHL3380005', 'VTL03750MU', 'PL 1553008', 'VTL1192AI1', 'PL 2200914', 'VTL05110FE', 'PL 1051500', 'PL 120058H', 'PL 16515M9', 'PL 1306503', 'PL 120052X', 'PL 1306504', 'VTL03750XA', 'RP 00000MA', 'PL 2653600', 'PL 2203907', 'PL 140251C', 'PL 2302502', 'PL 2403103', 'PL 1201300', 'PL 130301T', 'PL 1201800', 'PL 145230A', 'ACA0251302', 'VTL0375007', 'PL 16010BX', 'AC 019190B', 'PL 125271E', 'PL 2155700', 'VTL05110A4', 'PL 1200300', 'PL 1204500', 'PL 2051502', 'PL 2000000', 'PL 1211300', 'PL 2052002', 'PL 250453A', 'PL 2402601', 'PL 2223001', 'PL 12005H3', 'PL 16515M4', 'PL 12526A2', 'PL 2050500', 'PL 2200602', 'VTL05110A1', 'PL 2650203', 'PL 1206000', 'PL 1205003', 'PL 1451000', 'PL 1251000', 'VTL1192U3S', 'PL 240300H', 'VTL05110E2', 'PL 265091A', 'PL 4902001', 'PL 140303X', 'PL 1403001', 'PL 1763000', 'PL 1601503', 'PL 2650105', 'PL 1601501', 'VTL06000AA', 'PL 1753000', 'PL 1650502', 'PL 1950002', 'VTL1192E2S', 'PL 1906501', 'PL 1403500', 'ABC0096000', 'PL 125271G', 'PL 160152H', 'PL 2155600', 'PL 2204404', 'PL 1352000', 'PL 1200510', 'PL 1950800', 'PL 1902300', 'PL 12005XB', 'PL 1351000', 'PL 2206502', 'PL 1252501', 'PL 12005KH', 'PL 1651700', 'PL 2203407', 'VTL11920U3', 'PL 2200601', 'PL 1303001', 'PL 2403100', 'AM 035102A', 'PL 1554200', 'VTL0375BIB', 'PL 2205003', 'VTL1192U3C', 'PL 2650201', 'PHL00000MA', 'PL 2204403', 'PL 2056000', 'VTL11920E4', 'PL 2650402', 'PL 1654501', 'AC 10203A4', 'PL 165154A', 'PL 1306001', 'PL 1701502', 'FOA9000035', 'PL 130501H', 'GCI00000M0', 'PL 2650206', 'PL 1201500', 'PL 12005BA', 'PL 121120H', 'PL 2702001', 'PL 1951501', 'PL 1200600', 'PL 1303002', 'PL 2300400', 'PL 13052A2', 'PL 2204101', 'PL 145004H', 'PL 1581500', 'PL 2651004', 'PL 120052H', 'AC 0020453', 'PL 155402B', 'VTL1212000', 'PL 2402003', 'VTL0512000', 'PL 4602001', 'PL 1201401', 'VTL1227001', 'PL 145003H', 'PL 2253001', 'PL 2405501', 'TAX181400A', 'PL 26503BS', 'AC 024218A', 'PL 1584000', 'ABC00000MA', 'PL 12005BC', 'GB 0089G1A', 'TAX18140B3', 'PL 265102B', 'PL 1456002', 'PL 1752000', 'VTL1225D01', 'PL 21551B2', 'PL 1452300', 'PL 1654504', 'PL 1402000', 'VTL1192U4A', 'PL 2200902', 'PL 2203906', 'PL 1402502', 'LOC00000MB', 'PL 265031B', 'PL 1651601', 'PL 1704001', 'PL 1201003', 'LOC00000MU', 'PL 145230B', 'VTL11110D1', 'PL 1202500', 'ABC0114000', 'PL 2225001', 'AC 10203A1', 'AC 10203A2', 'PL 1200502', 'PL 263150X', 'TAX00000MA', 'PL 130451T', 'VTL11920D2', 'PL 1200700', 'PL 1309503', 'TWN0000000', 'PL 1751000', 'PL 1306002', 'PL 1204503', 'PL 1601504', 'PL 265025A', 'TAX18140H1', 'PL 26510MA', 'VTL112600A', 'PL 2155003', 'PL 130801B', 'VTL1225C2A', 'PL 2603201', 'VTL119202X', 'PL 1654502', 'VTL1175000', 'PL 1651002', 'PL 155304H', 'VTL06000EF', 'PL 1651509', 'PL 1306501', 'PL 2650802', 'PL 2630500', 'PL 1651512', 'PL 2225501', 'PL 2104000', 'PL 160152X', 'PL 120059X', 'PL 26510M1', 'VTL11100AH', 'PL 120056X', 'VTL03750A3', 'VTL0511002', 'PL 14010FH', 'PL 2201611', 'TAX1814C22', 'TAX048400A', 'PL 2302001', 'PL 1305500', 'PL 1201001', 'PL 145004B', 'PL 1706501', 'VTL03750T1', 'PL 140152H', 'BL 06500B1', 'PL 1908003', 'PL 1600500', 'PL 2406006', 'PL 1204502', 'AC 010125B', 'PL 2650104', 'PL 1657100', 'PL 230345A', 'PL 120059T', 'PL 190801F', 'PL 1501500', 'PL 2405003', 'VTL11920D4', 'ABC015400F', 'PL 1304501', 'PL 120102H', 'PL 12005VX', 'VTL0415A01', 'AM 0353A01', 'PL 1305300', 'PL 12070FE', 'PL 12005CH', 'VTL06050A1', 'PL 1050500', 'PL 1401701', 'PL 1554002', 'PL 2552500', 'PL 2303405', 'PL 12527AT', 'PL 2224002', 'PL 1902502', 'PL 1354502', 'PL 26502XT', 'VTL0511A01', 'VTL0509004', 'PL 1908001', 'TAX1803000', 'PL 2000401', 'LOC00000FA', 'PL 2651201', 'PL 155305H', 'PL 1902602', 'VTL05110EA', 'ABC0064B00', 'PL 155402A', 'VTL1192E1S', 'PL 1451400', 'PL 1403004', 'PL 1908600', 'PL 2203402', 'PL 2651006', 'PL 2405002', 'PL 1908200', 'PL 2202101', 'VTL120000B', 'PL 12005BB', 'PL 1050501', 'PL 120053X', 'PL 120503H', 'PL 1950600', 'PL 2450302', 'PL 1906001', 'PL 21551B3', 'PL 2226500', 'PL 1651501', 'PL 2404502', 'PL 1707001', 'VTL034000A', 'PL 2650107', 'VTL119809B', 'PL 1950500', 'VTL0397000', 'PL 140100E', 'PL 140100B', 'PL 2651301', 'PL 215510B', 'PL 2450301', 'PHL3380000', 'PL 1200506', 'PL 2403004', 'VTL05110E1', 'PL 2650401', 'PL 2201604', 'PL 2401000', 'PL 120180T', 'VTL116000A', 'PL 1761500', 'PL 2201806', 'PL 4702001', 'VTL119202Y', 'PL 1761000', 'PL 1500100', 'PL 1908303', 'PL 1651502', 'PL 120130H', 'PL 4602200', 'PL 130661B', 'PL 140251X', 'PL 1309600', 'PL 2251002', 'PL 2051501', 'VTL0511003', 'PL 1700500', 'PL 1205004', 'PL 1251100', 'PL 1306502', 'AC 0161186', 'LOC00000UM', 'LOC00000M0', 'PL 1554300', 'AC 019190C', 'PL 1205502', 'PL 1303501', 'PL 1702500', 'PL 2204105', 'PL 1450501', 'VTL1192U1C', 'PL 2051002', 'BL 06500B3', 'PL 2100500', 'PL 26503BT', 'PL 1651510', 'COR0168FFE', 'VTL0511A03', 'PL 260061A', 'PL 1553502', 'VTL05110AA', 'PL 125277X', 'PL 2203405', 'VTL11920M4', 'PL 140251B', 'TAX1814C12', 'VTL119206U', 'PL 1907902', 'PL 2303404', 'PL 1304002', 'VTL0509002', 'PL 490150T', 'PL 2700502', 'PL 2051503', 'PL 1200002', 'RR 00000MA', 'ACA0330907', 'PL 1304003', 'PL 2151101', 'PL 2450000', 'PL 1401502', 'PL 2000300', 'PL 14010GH', 'PL 1303502', 'PL 26510F2', 'PL 160153H', 'VTL1229C3A', 'PL 1650901', 'PL 2155007', 'PL 2052501', 'PL 2201606', 'VTL1220B01', 'PL 1907801', 'PL 2600501', 'PL 2352103', 'PL 2201610', 'PL 2224500', 'PL 240250H', 'PL 130801A', 'PL 1951600', 'PL 1302503', 'PL 21551B6', 'VTL1192UM1', 'PL 2155002', 'PL 120101H', 'ABC0106006', 'AC 019176B', 'PL 140301H', 'PL 2155203', 'PL 1051000', 'PL 155301H', 'PL 125251H', 'LOC00000I0', 'PL 1707002', 'VTL0426000', 'PL 16515V9', 'PL 2201807', 'PL 1205503', 'PL 2200607', 'LOC00000FE', 'PL 2204301', 'PL 130701B', 'PL 1651506', 'VTL05110MU', 'PL 170703B', 'PL 1252002', 'PL 1402501', 'PL 2155001', 'PL 2253002', 'ABC0153000', 'PL 2405502', 'PL 230340A', 'PL 1206001', 'PL 2402100', 'VTL0375003', 'VTL1192UFC', 'RR 00000V0', 'PL 121130H', 'PL 140251A', 'PRL00000MA', 'PL 120080T', 'PL 2651302', 'PL 2155006', 'PL 1252000', 'PL 1907802', 'PL 265025B', 'VTL1192D4A', 'PL 2201602', 'COR0168E04', 'PL 1454500', 'PL 2603200', 'PL 1553004', 'PL 130751B', 'PL 1305200', 'PL 1650600', 'PL 1706502', 'PL 2204106', 'PL 265100A', 'VTL119202Z', 'PL 120058X', 'PL 2651102', 'PL 121120T', 'VTL1192E1C', 'VTL119202V', 'PL 2651202', 'PL 240503B', 'LOC00000AF', 'PL 2631000', 'PL 2603402', 'ABC0106012', 'PL 1252502', 'PL 2651900', 'PL 1553002', 'PL 145050H', 'PL 490201T', 'VTL0381006', 'PL 2200904', 'PL 2400800', 'PL 460201A', 'PL 1908002', 'PL 12005CX', 'PL 1781000', 'PL 2650901', 'PL 155250Z', 'PL 160153X', 'PL 1553006', 'PL 2200905', 'PL 1252504', 'VTL05110A3', 'VTL0402004', 'PL 1304502', 'PL 2406001', 'PL 1355002', 'PL 2223501', 'PL 2151501', 'PL 120003H', 'PL 1200100', 'VTL1192D3C', 'PL 2407700', 'PL 160050H', 'PL 165154D', 'PL 2200903', 'PL 145001H', 'PL 2002500', 'PL 130651T', 'PL 26503ST', 'VTL030600B', 'PL 26537M0', 'PL 1200507', 'PL 2402005', 'GCI0000000', 'PL 1350500', 'PL 2405001', 'PL 2204600', 'LOC00000F0', 'PL 2402603', 'PL 155308H', 'PL 2207702', 'PL 1902601', 'PL 1201200', 'PL 120200H', 'PL 15530TH', 'PL 1150001', 'PL 160154X', 'PL 2200901', 'PL 2650303', 'PL 1400500', 'PL 1403002', 'PL 145100H', 'VTL037501A', 'PL 2650208', 'COR0168FFD', 'PL 2403200', 'VTL0510007', 'ABC0100000', 'COR0168D06', 'PL 120102X', 'PL 1302001', 'FOA9000015', 'PL 2650600', 'VTL0511A3B', 'FOA9000009', 'VTL0319003', 'VTL0392005', 'ABC0065000', 'PL 120502H', 'PL 1200501', 'PL 1650501', 'PL 240503C', 'PL 2250500', 'PL 2650202', 'VTL11920U4', 'TAX1814H32', 'PL 1553005', 'PL 2201605', 'PL 2203902', 'VTL06002AA', 'PL 24030AH', 'PL 1000500', 'PL 24030M1', 'PL 4901000', 'PL 2700506', 'PL 245000A', 'ED 6512001', 'VTL05110E4', 'PL 14025AT', 'PL 1302501', 'VTL11920E2', 'PL 160101H', 'PL 1902000', 'LOC00000V0', 'PL 1305001', 'PL 1451200', 'PL 1902501', 'PL 2653702', 'PL 1553007', 'PL 155402H', 'PL 1352501', 'PL 2403003', 'PL 2204103', 'PL 2602001', 'VTL05110A2', 'PL 2053000', 'PL 1650800', 'VTL116000E', 'PL 1201002', 'PL 1403003', 'PL 1581000', 'PL 160103X', 'PL 170703A', 'ABC0130000', 'PL 120141H', 'PL 140100D', 'PL 12070E1', 'PL 120053B', 'PL 1655000', 'PL 1304001', 'PL 2402500', 'PL 2650302', 'PL 2052502', 'PL 140151H', 'PL 1305004', 'PL 12005XA', 'COR0168D03', 'VTL1192D2C', 'PAR000103C', 'VTL11920AV', 'PL 120057X', 'PL 1307001', 'PL 1302502', 'PL 2204401', 'PL 2650103', 'PL 245000B', 'PHL00000FE', 'PL 120000H', 'PL 2601002', 'PL 2404501', 'PL 1051001', 'PL 135252B', 'PL 1652501', 'TAX00000MU', 'PL 2302501', 'PL 1200504', 'PL 2300000', 'PL 1750501', 'PL 24500BI', 'PHL3310000', 'PL 2204302', 'PL 140100F', 'PL 2650102', 'PL 2201805', 'VTL119809D', 'PL 2201802', 'PL 27002MA', 'PL 2151201', 'VTL0392AFE', 'PL 120051X', 'PL 1704002', 'PL 1051300', 'PL 26510FD', 'PL 2200606', 'AM 00000MU', 'PL 160151H', 'PL 140251D', 'PL 263050X', 'VTL1192E3C', 'PL 26025F0', 'PL 2600001', 'PL 1553001', 'PL 26502IT', 'PL 1654503', 'PL 1356009', 'PL 1354501', 'PL 160102A', 'PL 26510F4', 'PL 2403502', 'PL 1651508', 'COR0168D2B', 'PL 120110T', 'PL 2200300', 'PL 12527IT', 'PL 1356001', 'VTL03750I0', 'PL 1902503', 'PL 1200512', 'VTL119203V', 'VTL119202U', 'PL 2703000', 'VTL050906A', 'PL 1356004', 'PL 2631500', 'VTL111000A', 'VTL0319002', 'PL 1202000', 'PL 1553501', 'PL 2650108', 'PL 2205500', 'PL 2201801', 'PL 125271F', 'PL 240503A', 'PL 2052001', 'PL 1356501', 'PL 125271A', 'PL 4000008', 'ACA0251300', 'PL 1762500', 'TAX1804000', 'PL 1701002', 'PL 125271H', 'PL 2451100', 'PL 1200001', 'VTL037502A', 'PL 190651B', 'ABC0106000', 'PL 2651003', 'PL 24030BH', 'PL 1654000', 'PL 1908302', 'VTL0319001', 'PL 120051H', 'PL 265091B', 'PL 215100A', 'PL 2156500', 'PL 1650001', 'TAX1802000', 'PL 1452500', 'PL 4701502', 'PL 1651503', 'PL 1500500', 'PL 12005ET', 'PL 1908100', 'PL 105170H', 'PL 2200603', 'PL 1204501', 'PL 1201402', 'FOA9000049', 'PL 2505500', 'PL 1601003', 'PL 2222500', 'PL 1657200', 'ABC0092000', 'PL 155307H', 'PL 14025AX', 'PL 2403005', 'VTL119807A', 'PL 1601502', 'PL 135200X', 'PL 1252503', 'VTL030600C', 'PL 1762000', 'PL 2155202', 'VTL06002AD', 'PL 1200511', 'PL 1201004', 'PL 1450003', 'CPL00000MA', 'PL 2650101', 'PL 1211200', 'PL 2400500', 'PL 1450004', 'PL 2651101', 'PL 2225502', 'PL 2151601', 'PL 1752500', 'PL 155250H', 'PL 2506002', 'PL 2104500', 'PL 14500BH', 'PL 2631100', 'PL 265031C', 'PL 2201612', 'PL 2505000', 'PL 155303H', 'PL 21551B5', 'PL 2303402', 'PL 16010AH', 'PAR000105F', 'PL 1908301', 'PL 1651507', 'PL 140100C', 'PL 12005SH', 'PL 1305003', 'PL 2151502', 'VTL1192EAC', 'PL 1907901', 'COR0168EB1', 'PL 2200906', 'PL 1303504', 'PL 2602103', 'PL 2402602', 'VTL060001A', 'PL 12005EH', 'PL 215510D', 'PL 1450001', 'PL 1655400', 'PL 130351T', 'VTL1192D2S', 'PL 1500501', 'TAX1814H31', 'PHL00000M', 'PL 14025CX', 'PL 120001H', 'PL 2602002', 'PL 1306701', 'PL 2224001', 'PL 215510A', 'PL 13052A1', 'PL 2206501', 'PL 121110B', 'PL 2001000', 'PL 2205001', 'PL 2202102', 'PL 225102A', 'PL 2202801', 'PL 1205000', 'PL 2051001', 'PL 1502001', 'PL 2603204', 'PL 240302H', 'PL 1051700', 'PL 1452000', 'VTL03750T2', 'PL 1401501', 'PL 1554001', 'PL 125253X', 'PL 225102B', 'PL 145051H', 'PL 2650207', 'PL 2101000', 'PL 1302002', 'PL 1950001', 'PL 2201601', 'COR0168E1A', 'VTL0375012', 'PL 2403002', 'AC 10177', 'LOC00000AM', 'PL 140252X', 'PL 265101B', 'PL 120053C', 'PL 215510C', 'PL 2223502', 'ABC0100001', 'TAX18140B2', 'PL 1201100', 'PL 130651B', 'PL 1707003', 'PL 1657300', 'PL 2051003', 'FOA9000016', 'TAX1805000', 'PL 1355001', 'PL 2403101', 'PL 140200H', 'PL 1200508', 'PL 2201607', 'PL 2204402', 'PL 2200913', 'VTL119401B', 'PL 1305202', 'ABC0064A00', 'PL 2407501', 'PL 1908500', 'PL 120054A', 'PL 1150000', 'VTL0511001', 'PL 120053A', 'PL 160151X', 'PL 4701501', 'PL 2402007', 'PL 1950700', 'PL 1703000', 'PL 1356007', 'PL 2154001', 'PL 2251001', 'PL 145004A', 'COR0168EC1', 'AC 0019190', 'COR0168E2A', 'PL 130960T', 'PL 215000A', 'PL 1205501', 'PL 2201603', 'AM 0353B00', 'PL 1601002', 'PL 1601001', 'PL 1701004', 'VTL1182001', 'PL 1252001', 'PL 2205002', 'PL 2601001', 'PL 1451500', 'PL 1650503', 'PL 1305201', 'PL 1553009', 'PL 1251501', 'PL 1000800', 'PL 1653001', 'PL 1753501', 'PL 265033S', 'CPL00000MB', 'PL 1701003', 'PL 1200509', 'HTH0015309', 'COR0168D1A', 'PL 2154002', 'PL 160050X', 'PL 1655200', 'PL 120150H', 'PL 2350700', 'VTL0355000', 'PL 2226000', 'PL 1552500', 'COR0168HF3', 'PL 2051700', 'PL 2201803', 'PL 240551T', 'PL 2703500', 'COR0168E03', 'PL 2405503', 'VTL11920U2', 'PL 165001B', 'PL 1200003', 'PL 240301H', 'PL 2157500', 'PL 145002H', 'PL 160101X', 'PL 2201609', 'PL 120057H', 'VTL06002AB', 'PL 140100A', 'PRL0000000', 'PL 130651H', 'PL 1200201', 'LOC000000V', 'VTL0511D01', 'PL 2504501', 'PL 1553010', 'PL 2402001', 'PL 4701001', 'PL 1654505', 'PL 2702500', 'CPL4104000', 'PL 155402C', 'PL 2303202', 'PL 1200800', 'PL 2303403', 'PL 2303401', 'AM 0353000', 'PL 155401H', 'PL 1450502', 'VTL1229C00', 'PL 2402002', 'VTL1192DAS', 'PL 2200908', 'VTL030600E', 'PL 1753502', 'PL 2302500', 'PL 2201608', 'VTL11920E3', 'PL 12005WX', 'PL 26503CS', 'TAX1814AI2', 'PL 130751A', 'PL 1501001', 'COR0168D04', 'PL 1450002', 'PL 2155500', 'PL 2200907', 'PL 2631600', 'PL 16010AX', 'VTL0383001', 'VTL11920D3', 'PL 1211100', 'PL 2650106', 'PL 1456500', 'PL 2203100', 'PL 1701005', 'PL 1782500', 'VTL1192U2S', 'PL 2155201', 'PL 14010AH', 'LOC00000MA', 'PL 1653002', 'RR 0053E00', 'ABC00000MU', 'FOA9000029', 'PL 120002H', 'PL 12005A3', 'PL 12005WH', 'PL 155306H', 'PL 1702000', 'PL 160102B', 'PL 14010EH', 'VTL031901U', 'PL 2201613', 'PL 2251502', 'PL 2602400', 'PL 1404000', 'PL 2223002', 'PL 12004D3', 'PL 155302H', 'PL 4000002', 'PL 27000AI', 'PL 121110A', 'PL 1651001', 'PL 2304000', 'PL 2451500', 'VTL0509001', 'PL 12070FC', 'PL 12527FT', 'PL 1651100', 'PL 121130T', 'VTL1192D1C', 'PL 2504502', 'PL 265031A', 'PL 26503AS', 'PL 1251201', 'VTL1192U2C', 'PL 2203901', 'PL 2301900', 'ABC010000M', 'VTL1192E2C', 'PL 1562503']\n"
     ]
    }
   ],
   "source": [
    "# LAW_CODE is the PK in the  law table law_df\n",
    "law_pk = law_df.select(col(\"LAW_CODE\")).distinct().rdd.flatMap(lambda x: x).collect()\n",
    "print(law_pk)"
   ]
  },
  {
   "cell_type": "code",
   "execution_count": 266,
   "metadata": {
    "colab": {
     "base_uri": "https://localhost:8080/"
    },
    "id": "YQoGOu3gWyz7",
    "outputId": "0395ed37-33c1-4648-d5d7-39f0256a28e4"
   },
   "outputs": [
    {
     "name": "stdout",
     "output_type": "stream",
     "text": [
      "[]\n"
     ]
    }
   ],
   "source": [
    "# convert arrest_fk3 and law_pk to a set for faster lookup\n",
    "arrest_fk3 = set(arrest_fk3)\n",
    "law_pk_set = set(law_pk)\n",
    "\n",
    "# Checking the compatibility (if any FK is missing from thofns_pke PK set)\n",
    "error_array = [i for i in arrest_fk3 if i not in law_pk]\n",
    "\n",
    "# print the missing FKs\n",
    "print(error_array)"
   ]
  },
  {
   "cell_type": "markdown",
   "metadata": {
    "id": "iJ244cEjW6dL"
   },
   "source": [
    "- PK/FK is compatible for KY_CD"
   ]
  },
  {
   "cell_type": "markdown",
   "metadata": {
    "id": "x1FKdKuIW9zx"
   },
   "source": [
    "## Exporting the Updated Dataframes to CSV"
   ]
  },
  {
   "cell_type": "code",
   "execution_count": 267,
   "metadata": {
    "id": "kIAWKrkJW3ou"
   },
   "outputs": [],
   "source": [
    "pd_df.write.csv('Detailed Offense Table.csv', header=True, mode='overwrite')\n",
    "ofns_df.write.csv('Offense Table.csv', header=True, mode='overwrite')\n",
    "law_df.write.csv('Law Table.csv', header=True, mode='overwrite')\n",
    "arrest_df.write.csv('Arrest Table.csv', header=True, mode='overwrite')"
   ]
  },
  {
   "cell_type": "markdown",
   "metadata": {
    "id": "k0Ll3K5-9Pgv"
   },
   "source": [
    "# Exploring the Dataset"
   ]
  },
  {
   "cell_type": "markdown",
   "metadata": {
    "id": "_BjJaprD9VLx"
   },
   "source": [
    "### Loading the Dataset"
   ]
  },
  {
   "cell_type": "code",
   "execution_count": 143,
   "metadata": {
    "colab": {
     "base_uri": "https://localhost:8080/"
    },
    "id": "5dlhm6YBfqvN",
    "outputId": "b0edd4f1-c0e3-4c15-8b82-ff55d8941dd9"
   },
   "outputs": [
    {
     "name": "stdout",
     "output_type": "stream",
     "text": [
      "+----------+-----------+-----+-----+----------+-----------+---------------+-----------------+---------+--------+---------+----------+----------+-----------+------------+\n",
      "|ARREST_KEY|ARREST_DATE|PD_CD|KY_CD|  LAW_CODE|ARREST_BORO|ARREST_PRECINCT|JURISDICTION_CODE|AGE_GROUP|PERP_SEX|PERP_RACE|X_COORD_CD|Y_COORD_CD|   Latitude|   Longitude|\n",
      "+----------+-----------+-----+-----+----------+-----------+---------------+-----------------+---------+--------+---------+----------+----------+-----------+------------+\n",
      "| 239553009| 2022-01-23|  464|  230|PL 1652501|          Q|            110|                1|    25-44|       M|    BLACK|   1027679|    214505|40.75533648|-73.84324519|\n",
      "| 239922214| 2022-01-31|  397|  105|PL 1601502|          K|             69|                0|    25-44|       M|    BLACK|   1010576|    175628|  40.648698|  -73.905128|\n",
      "| 239939130| 2022-02-01|  105|  106|PL 1211200|          K|             61|                0|      65+|       M|    WHITE|    995118|    155708|  40.594054|  -73.960866|\n",
      "| 240521791| 2022-02-13|  101|  344|PL 1200001|          M|             28|                0|    45-64|       M|    BLACK|    997124|    233883|  40.808623|  -73.953492|\n",
      "| 241022365| 2022-02-21|  397|  105|PL 1600500|          K|             76|                0|    45-64|       M|    BLACK|    986331|    190452|  40.689425|  -73.992493|\n",
      "+----------+-----------+-----+-----+----------+-----------+---------------+-----------------+---------+--------+---------+----------+----------+-----------+------------+\n",
      "only showing top 5 rows\n",
      "\n"
     ]
    }
   ],
   "source": [
    "#@title Load arrest data from csv to a dataframe\n",
    "\n",
    "arrest = spark.read.csv('/content/Arrest Table (1).csv',header=True,inferSchema=True)\n",
    "arrest.show(5)"
   ]
  },
  {
   "cell_type": "code",
   "execution_count": 144,
   "metadata": {
    "colab": {
     "base_uri": "https://localhost:8080/"
    },
    "id": "VjNJiimmf1nK",
    "outputId": "029ce1b7-3131-4d1d-d833-c2fa716d8ef4"
   },
   "outputs": [
    {
     "name": "stdout",
     "output_type": "stream",
     "text": [
      "+----------+----------+\n",
      "|  LAW_CODE|LAW_CAT_CD|\n",
      "+----------+----------+\n",
      "|PL 1652501|         M|\n",
      "|PL 1601502|         F|\n",
      "|PL 1211200|         F|\n",
      "|PL 1200001|         M|\n",
      "|PL 1600500|         F|\n",
      "+----------+----------+\n",
      "only showing top 5 rows\n",
      "\n",
      "root\n",
      " |-- LAW_CODE: string (nullable = true)\n",
      " |-- LAW_CAT_CD: string (nullable = true)\n",
      "\n"
     ]
    }
   ],
   "source": [
    "#@title Load law data from csv to a dataframe\n",
    "law = spark.read.csv('/content/Law Table (1).csv',header=True,inferSchema=True)\n",
    "law.show(5)\n",
    "law.printSchema()"
   ]
  },
  {
   "cell_type": "code",
   "execution_count": 145,
   "metadata": {
    "colab": {
     "base_uri": "https://localhost:8080/"
    },
    "id": "9IDpH_c2gWfV",
    "outputId": "895a1ef2-4b66-4c87-ee6f-122ba8f18cb4"
   },
   "outputs": [
    {
     "name": "stdout",
     "output_type": "stream",
     "text": [
      "+-----+--------------------+\n",
      "|PD_CD|             PD_DESC|\n",
      "+-----+--------------------+\n",
      "|  464|            JOSTLING|\n",
      "|  397|ROBBERY,OPEN AREA...|\n",
      "|  105|   STRANGULATION 1ST|\n",
      "|  101|           ASSAULT 3|\n",
      "|  705|  FORGERY,ETC.-MISD.|\n",
      "+-----+--------------------+\n",
      "only showing top 5 rows\n",
      "\n",
      "root\n",
      " |-- PD_CD: integer (nullable = true)\n",
      " |-- PD_DESC: string (nullable = true)\n",
      "\n"
     ]
    }
   ],
   "source": [
    "#@title Load detailed offense data from csv to a dataframe\n",
    "detailed_offense = spark.read.csv('/content/Detailed Offense Table (1).csv',header=True,inferSchema=True)\n",
    "detailed_offense.show(5)\n",
    "detailed_offense.printSchema()"
   ]
  },
  {
   "cell_type": "code",
   "execution_count": 146,
   "metadata": {
    "colab": {
     "base_uri": "https://localhost:8080/"
    },
    "id": "qDOcBxh8gqXt",
    "outputId": "91fdebce-5b5d-4261-cb69-82aa3e2a2f11"
   },
   "outputs": [
    {
     "name": "stdout",
     "output_type": "stream",
     "text": [
      "+-----+--------------------+\n",
      "|KY_CD|           OFNS_DESC|\n",
      "+-----+--------------------+\n",
      "|  230|            JOSTLING|\n",
      "|  105|             ROBBERY|\n",
      "|  106|      FELONY ASSAULT|\n",
      "|  344|ASSAULT 3 & RELAT...|\n",
      "|  358|OFFENSES INVOLVIN...|\n",
      "+-----+--------------------+\n",
      "only showing top 5 rows\n",
      "\n",
      "root\n",
      " |-- KY_CD: integer (nullable = true)\n",
      " |-- OFNS_DESC: string (nullable = true)\n",
      "\n"
     ]
    }
   ],
   "source": [
    "#@title Load offense data from csv to a dataframe\n",
    "offense = spark.read.csv('/content/Offense Table (1).csv',header=True,inferSchema=True)\n",
    "offense.show(5)\n",
    "offense.printSchema()"
   ]
  },
  {
   "cell_type": "markdown",
   "metadata": {
    "id": "70Go2oeuDvXD"
   },
   "source": [
    "### Merging the datasets into one"
   ]
  },
  {
   "cell_type": "code",
   "execution_count": 147,
   "metadata": {
    "id": "rwra_YGmDsCW"
   },
   "outputs": [],
   "source": [
    "#join all datasets based on a common column in 1 dataframe\n",
    "arrest2 = arrest.join(law, \"LAW_CODE\", \"leftouter\")\n",
    "arrest2 = arrest2.join(detailed_offense, \"PD_CD\", \"leftouter\")\n",
    "arrest2 = arrest2.join(offense, \"KY_CD\", \"leftouter\")"
   ]
  },
  {
   "cell_type": "code",
   "execution_count": 148,
   "metadata": {
    "colab": {
     "base_uri": "https://localhost:8080/"
    },
    "id": "YJ8iurp-FFPs",
    "outputId": "801c5db7-ba03-459e-8c44-e0550f1c52cf"
   },
   "outputs": [
    {
     "name": "stdout",
     "output_type": "stream",
     "text": [
      "+-----+-----+----------+----------+-----------+-----------+---------------+-----------------+---------+--------+---------+----------+----------+-----------+------------+----------+--------------------+--------------------+\n",
      "|KY_CD|PD_CD|  LAW_CODE|ARREST_KEY|ARREST_DATE|ARREST_BORO|ARREST_PRECINCT|JURISDICTION_CODE|AGE_GROUP|PERP_SEX|PERP_RACE|X_COORD_CD|Y_COORD_CD|   Latitude|   Longitude|LAW_CAT_CD|             PD_DESC|           OFNS_DESC|\n",
      "+-----+-----+----------+----------+-----------+-----------+---------------+-----------------+---------+--------+---------+----------+----------+-----------+------------+----------+--------------------+--------------------+\n",
      "|  230|  464|PL 1652501| 239553009| 2022-01-23|          Q|            110|                1|    25-44|       M|    BLACK|   1027679|    214505|40.75533648|-73.84324519|         M|            JOSTLING|            JOSTLING|\n",
      "|  105|  397|PL 1601502| 239922214| 2022-01-31|          K|             69|                0|    25-44|       M|    BLACK|   1010576|    175628|  40.648698|  -73.905128|         F|ROBBERY,OPEN AREA...|             ROBBERY|\n",
      "|  106|  105|PL 1211200| 239939130| 2022-02-01|          K|             61|                0|      65+|       M|    WHITE|    995118|    155708|  40.594054|  -73.960866|         F|   STRANGULATION 1ST|      FELONY ASSAULT|\n",
      "|  344|  101|PL 1200001| 240521791| 2022-02-13|          M|             28|                0|    45-64|       M|    BLACK|    997124|    233883|  40.808623|  -73.953492|         M|           ASSAULT 3|ASSAULT 3 & RELAT...|\n",
      "|  105|  397|PL 1600500| 241022365| 2022-02-21|          K|             76|                0|    45-64|       M|    BLACK|    986331|    190452|  40.689425|  -73.992493|         F|ROBBERY,OPEN AREA...|             ROBBERY|\n",
      "+-----+-----+----------+----------+-----------+-----------+---------------+-----------------+---------+--------+---------+----------+----------+-----------+------------+----------+--------------------+--------------------+\n",
      "only showing top 5 rows\n",
      "\n"
     ]
    }
   ],
   "source": [
    "arrest2.show(5)"
   ]
  },
  {
   "cell_type": "code",
   "execution_count": 149,
   "metadata": {
    "colab": {
     "base_uri": "https://localhost:8080/"
    },
    "id": "xf44jlHVTvgR",
    "outputId": "f46f27b9-117a-4d6d-9f46-8726d8caf529"
   },
   "outputs": [
    {
     "name": "stdout",
     "output_type": "stream",
     "text": [
      "+-----+-----+--------+----------+-----------+-----------+---------------+-----------------+---------+--------+---------+----------+----------+--------+---------+----------+-------+---------+\n",
      "|KY_CD|PD_CD|LAW_CODE|ARREST_KEY|ARREST_DATE|ARREST_BORO|ARREST_PRECINCT|JURISDICTION_CODE|AGE_GROUP|PERP_SEX|PERP_RACE|X_COORD_CD|Y_COORD_CD|Latitude|Longitude|LAW_CAT_CD|PD_DESC|OFNS_DESC|\n",
      "+-----+-----+--------+----------+-----------+-----------+---------------+-----------------+---------+--------+---------+----------+----------+--------+---------+----------+-------+---------+\n",
      "|    0|    0|       0|         0|          0|          0|              0|                0|        0|       0|        0|         0|         0|       0|        0|         0|      0|        0|\n",
      "+-----+-----+--------+----------+-----------+-----------+---------------+-----------------+---------+--------+---------+----------+----------+--------+---------+----------+-------+---------+\n",
      "\n"
     ]
    }
   ],
   "source": [
    "from pyspark.sql.functions import when, count, col\n",
    "#check if we have null in the dataframe\n",
    "null_counts = arrest2.select([count(when(col(c).isNull(), c)).alias(c) for c in arrest2.columns])\n",
    "null_counts.show()"
   ]
  },
  {
   "cell_type": "markdown",
   "metadata": {
    "id": "u7eDjIyQZNgr"
   },
   "source": [
    "# Spark SQL"
   ]
  },
  {
   "cell_type": "code",
   "execution_count": 150,
   "metadata": {
    "id": "_7YfC8KYZL6T"
   },
   "outputs": [],
   "source": [
    "# Register Temporary Tables\n",
    "arrest.createOrReplaceTempView(\"arrest_table\")\n",
    "law.createOrReplaceTempView(\"law_table\")\n",
    "offense.createOrReplaceTempView(\"offense_table\")\n",
    "detailed_offense.createOrReplaceTempView(\"detailed_offense_table\")"
   ]
  },
  {
   "cell_type": "markdown",
   "metadata": {
    "id": "zg2sMp4mBqZA"
   },
   "source": [
    "## 1.Show the number of arrests made by NYPD "
   ]
  },
  {
   "cell_type": "code",
   "execution_count": 151,
   "metadata": {
    "colab": {
     "base_uri": "https://localhost:8080/"
    },
    "id": "_Um1chcIeWyq",
    "outputId": "4af70d7d-6a2c-433f-dcd7-0c79ed02572d"
   },
   "outputs": [
    {
     "name": "stdout",
     "output_type": "stream",
     "text": [
      "+-------------------------+\n",
      "|Number_of_arrests_by_NYPD|\n",
      "+-------------------------+\n",
      "|                   185149|\n",
      "+-------------------------+\n",
      "\n"
     ]
    }
   ],
   "source": [
    "##-- NYPD arrests are coded as 0, 1 and 2 in JURISDICTION_CODE\n",
    "spark.sql(\"SELECT COUNT(*) AS Number_of_arrests_by_NYPD FROM arrest_table WHERE JURISDICTION_CODE < 3\").show()"
   ]
  },
  {
   "cell_type": "markdown",
   "metadata": {
    "id": "RzEj2leqCQeh"
   },
   "source": [
    "## 2.Count the number of arrests per race"
   ]
  },
  {
   "cell_type": "code",
   "execution_count": 152,
   "metadata": {
    "colab": {
     "base_uri": "https://localhost:8080/"
    },
    "id": "pfoW2bhkfDZc",
    "outputId": "0676f213-6d67-49fc-a5ea-9757fea26b2b"
   },
   "outputs": [
    {
     "name": "stdout",
     "output_type": "stream",
     "text": [
      "+--------------------+---------------+\n",
      "|           PERP_RACE|Number_per_race|\n",
      "+--------------------+---------------+\n",
      "|               BLACK|          93851|\n",
      "|      WHITE HISPANIC|          47241|\n",
      "|               WHITE|          19325|\n",
      "|      BLACK HISPANIC|          17367|\n",
      "|ASIAN / PACIFIC I...|          10215|\n",
      "|             UNKNOWN|            687|\n",
      "|AMERICAN INDIAN/A...|            518|\n",
      "+--------------------+---------------+\n",
      "\n"
     ]
    }
   ],
   "source": [
    "spark.sql(\"SELECT PERP_RACE, COUNT(ARREST_KEY) AS Number_per_race FROM arrest_table GROUP BY PERP_RACE ORDER BY Number_per_race DESC\").show()"
   ]
  },
  {
   "cell_type": "markdown",
   "metadata": {
    "id": "KK0kKclL7kNS"
   },
   "source": [
    ">**Black** people are the most arrested(93,851) in 2022 in new york."
   ]
  },
  {
   "cell_type": "markdown",
   "metadata": {
    "id": "bDOX-20lBhxM"
   },
   "source": [
    "## 3.Show the number of arrests per Jurisdiction"
   ]
  },
  {
   "cell_type": "code",
   "execution_count": 153,
   "metadata": {
    "colab": {
     "base_uri": "https://localhost:8080/"
    },
    "id": "T-CzEGaIeKt0",
    "outputId": "8a7dae60-0e89-4d4f-fbfc-19bf9657bf12"
   },
   "outputs": [
    {
     "name": "stdout",
     "output_type": "stream",
     "text": [
      "+-----------------+-----------------------+\n",
      "|JURISDICTION_CODE|Number_per_JURISDICTION|\n",
      "+-----------------+-----------------------+\n",
      "|                0|                 171972|\n",
      "|                1|                   6704|\n",
      "|                2|                   6473|\n",
      "|                3|                   1219|\n",
      "|               97|                    671|\n",
      "|               15|                    497|\n",
      "|               72|                    487|\n",
      "|               73|                    318|\n",
      "|               11|                    293|\n",
      "|               71|                    144|\n",
      "|                4|                    114|\n",
      "|               14|                    106|\n",
      "|                7|                    106|\n",
      "|               87|                     45|\n",
      "|               88|                     14|\n",
      "|               69|                     12|\n",
      "|               13|                      6|\n",
      "|               16|                      5|\n",
      "|               85|                      4|\n",
      "|                9|                      4|\n",
      "+-----------------+-----------------------+\n",
      "only showing top 20 rows\n",
      "\n"
     ]
    }
   ],
   "source": [
    "#0(Patrol), 1(Transit) and 2(Housing) represent NYPD while 3 and more represent non NYPD jurisdictions\n",
    "spark.sql(\"SELECT JURISDICTION_CODE, COUNT(ARREST_KEY) AS Number_per_JURISDICTION FROM arrest_table GROUP BY JURISDICTION_CODE ORDER BY Number_per_JURISDICTION DESC\").show()"
   ]
  },
  {
   "cell_type": "markdown",
   "metadata": {
    "id": "BsqCfCHx99xl"
   },
   "source": [
    ">**Patrol (code 0)** jurisdiction which is represented by nypd has the **highest** number of arrests (171,972)."
   ]
  },
  {
   "cell_type": "markdown",
   "metadata": {
    "id": "GJLwD56YCV0t"
   },
   "source": [
    "## 4.Count the number of arrests per age group"
   ]
  },
  {
   "cell_type": "code",
   "execution_count": 154,
   "metadata": {
    "colab": {
     "base_uri": "https://localhost:8080/"
    },
    "id": "rjJIUNsqfM_H",
    "outputId": "ed103e2b-4bd5-4c92-fca3-34816800e2e2"
   },
   "outputs": [
    {
     "name": "stdout",
     "output_type": "stream",
     "text": [
      "+---------+--------------------+\n",
      "|AGE_GROUP|Number_per_age_group|\n",
      "+---------+--------------------+\n",
      "|    25-44|              108968|\n",
      "|    45-64|               37463|\n",
      "|    18-24|               33111|\n",
      "|      <18|                6792|\n",
      "|      65+|                2870|\n",
      "+---------+--------------------+\n",
      "\n"
     ]
    }
   ],
   "source": [
    "spark.sql(\"SELECT AGE_GROUP, COUNT(ARREST_KEY) AS Number_per_age_group FROM arrest_table GROUP BY AGE_GROUP ORDER BY Number_per_age_group DESC\").show()"
   ]
  },
  {
   "cell_type": "markdown",
   "metadata": {
    "id": "Mgpbh8oEB77P"
   },
   "source": [
    ">the **age** group between **25-44** has the highest number of arrests(108,968)."
   ]
  },
  {
   "cell_type": "markdown",
   "metadata": {
    "id": "x3G-10kqCZ0b"
   },
   "source": [
    "## 5.Count the number of arrests per gender"
   ]
  },
  {
   "cell_type": "code",
   "execution_count": 155,
   "metadata": {
    "colab": {
     "base_uri": "https://localhost:8080/"
    },
    "id": "EQLQLzaffZS8",
    "outputId": "718256b7-1964-4d49-d817-d8e8ccf75a7d"
   },
   "outputs": [
    {
     "name": "stdout",
     "output_type": "stream",
     "text": [
      "+--------+--------------+\n",
      "|PERP_SEX|Number_per_sex|\n",
      "+--------+--------------+\n",
      "|       M|        156112|\n",
      "|       F|         33092|\n",
      "+--------+--------------+\n",
      "\n"
     ]
    }
   ],
   "source": [
    "spark.sql(\"SELECT PERP_SEX, COUNT(ARREST_KEY) AS Number_per_sex FROM arrest_table GROUP BY PERP_SEX ORDER BY Number_per_sex DESC\").show()"
   ]
  },
  {
   "cell_type": "markdown",
   "metadata": {
    "id": "28g3kaIuCLV7"
   },
   "source": [
    ">**Male** sex has higher number of arrest(156,112) than female."
   ]
  },
  {
   "cell_type": "markdown",
   "metadata": {
    "id": "JL40iZmyB5k3"
   },
   "source": [
    "## 6.Show the number of precincts per Borough "
   ]
  },
  {
   "cell_type": "code",
   "execution_count": 156,
   "metadata": {
    "colab": {
     "base_uri": "https://localhost:8080/"
    },
    "id": "-9zIvscVenOp",
    "outputId": "ea8c19c2-d5fa-40cc-de93-38ecd08666b9"
   },
   "outputs": [
    {
     "name": "stdout",
     "output_type": "stream",
     "text": [
      "+-----------+-------------------------------+\n",
      "|ARREST_BORO|Number_of_precincts_per_borough|\n",
      "+-----------+-------------------------------+\n",
      "|          K|                             23|\n",
      "|          Q|                             16|\n",
      "|          B|                             12|\n",
      "|          M|                             23|\n",
      "|          S|                              4|\n",
      "+-----------+-------------------------------+\n",
      "\n"
     ]
    }
   ],
   "source": [
    "spark.sql(\"SELECT  ARREST_BORO, COUNT(DISTINCT ARREST_PRECINCT) AS Number_of_precincts_per_borough FROM arrest_table GROUP BY ARREST_BORO\").show()"
   ]
  },
  {
   "cell_type": "markdown",
   "metadata": {
    "id": "WR0TVD-UCt2F"
   },
   "source": [
    ">**Brooklyn** 'K' has the highest number of **precinct**(23) compared to the other boroughs in new york."
   ]
  },
  {
   "cell_type": "markdown",
   "metadata": {
    "id": "7IYast_rCEM4"
   },
   "source": [
    "## 7.Show the most visited precinct in Brooklyn 'K'"
   ]
  },
  {
   "cell_type": "code",
   "execution_count": 157,
   "metadata": {
    "colab": {
     "base_uri": "https://localhost:8080/"
    },
    "id": "ZaajoI_hexs7",
    "outputId": "1a39d977-46d1-4e9f-f5bb-924475156839"
   },
   "outputs": [
    {
     "name": "stdout",
     "output_type": "stream",
     "text": [
      "+---------------+------------------------------+\n",
      "|ARREST_PRECINCT|Number_of_arrests_per_precinct|\n",
      "+---------------+------------------------------+\n",
      "|             75|                          5706|\n",
      "|             73|                          3850|\n",
      "|             67|                          3099|\n",
      "|             84|                          2887|\n",
      "|             79|                          2815|\n",
      "|             60|                          2544|\n",
      "|             70|                          2432|\n",
      "|             72|                          2425|\n",
      "|             83|                          2311|\n",
      "|             77|                          2271|\n",
      "|             90|                          2245|\n",
      "|             71|                          2067|\n",
      "|             63|                          1870|\n",
      "|             69|                          1769|\n",
      "|             62|                          1716|\n",
      "|             81|                          1682|\n",
      "|             68|                          1540|\n",
      "|             61|                          1533|\n",
      "|             66|                          1430|\n",
      "|             94|                          1371|\n",
      "+---------------+------------------------------+\n",
      "only showing top 20 rows\n",
      "\n"
     ]
    }
   ],
   "source": [
    "spark.sql(\"SELECT ARREST_PRECINCT, COUNT(ARREST_KEY) AS Number_of_arrests_per_precinct FROM arrest_table WHERE ARREST_BORO = 'K' GROUP BY ARREST_BORO, ARREST_PRECINCT ORDER BY Number_of_arrests_per_precinct DESC\").show()"
   ]
  },
  {
   "cell_type": "markdown",
   "metadata": {
    "id": "3MD5rRssClUp"
   },
   "source": [
    "## 8.Show the borough or town that has the highest number of arrests"
   ]
  },
  {
   "cell_type": "code",
   "execution_count": 158,
   "metadata": {
    "colab": {
     "base_uri": "https://localhost:8080/"
    },
    "id": "Q-JYBb_efjoI",
    "outputId": "d834d1bf-7437-4246-87af-c9d42688a68a"
   },
   "outputs": [
    {
     "name": "stdout",
     "output_type": "stream",
     "text": [
      "+-----------+-----------+\n",
      "|ARREST_BORO|num_arrests|\n",
      "+-----------+-----------+\n",
      "|          K|      50930|\n",
      "+-----------+-----------+\n",
      "\n"
     ]
    }
   ],
   "source": [
    "spark.sql(\"SELECT ARREST_BORO, COUNT(*) as num_arrests FROM arrest_table GROUP BY ARREST_BORO ORDER BY num_arrests DESC LIMIT 1\").show()"
   ]
  },
  {
   "cell_type": "markdown",
   "metadata": {
    "id": "-HoCA7rlC3ix"
   },
   "source": [
    "## 9.Show the offense that is occuring most"
   ]
  },
  {
   "cell_type": "code",
   "execution_count": 159,
   "metadata": {
    "colab": {
     "base_uri": "https://localhost:8080/"
    },
    "id": "gWysV4zCgK8C",
    "outputId": "128c6da6-4cc5-4820-ae01-5fd23f4b85e0"
   },
   "outputs": [
    {
     "name": "stdout",
     "output_type": "stream",
     "text": [
      "+--------------------+------------------+\n",
      "|           OFNS_DESC|Number_per_offense|\n",
      "+--------------------+------------------+\n",
      "|ASSAULT 3 & RELAT...|             30687|\n",
      "|       PETIT LARCENY|             20637|\n",
      "|      FELONY ASSAULT|             18895|\n",
      "|MISCELLANEOUS PEN...|             12523|\n",
      "|     DANGEROUS DRUGS|             10651|\n",
      "|CRIMINAL MISCHIEF...|             10174|\n",
      "|             ROBBERY|              9943|\n",
      "|       GRAND LARCENY|              9019|\n",
      "|   DANGEROUS WEAPONS|              8018|\n",
      "|VEHICLE AND TRAFF...|              7206|\n",
      "|            BURGLARY|              6253|\n",
      "|OFFENSES AGAINST ...|              5533|\n",
      "|OFFENSES INVOLVIN...|              4837|\n",
      "|          SEX CRIMES|              4283|\n",
      "|OFF. AGNST PUB OR...|              3838|\n",
      "|             FORGERY|              3635|\n",
      "|   THEFT OF SERVICES|              2773|\n",
      "|POSSESSION OF STO...|              2620|\n",
      "|INTOXICATED & IMP...|              2432|\n",
      "|FOR OTHER AUTHORI...|              1747|\n",
      "+--------------------+------------------+\n",
      "only showing top 20 rows\n",
      "\n"
     ]
    }
   ],
   "source": [
    "spark.sql(\"SELECT offense_table.OFNS_DESC, COUNT(arrest_table.ARREST_KEY) AS Number_per_offense FROM arrest_table  JOIN offense_table ON arrest_table.KY_CD = offense_table.KY_CD GROUP BY offense_table.OFNS_DESC ORDER BY Number_per_offense DESC\").show()"
   ]
  },
  {
   "cell_type": "markdown",
   "metadata": {
    "id": "wYrqXeVfGOZN"
   },
   "source": [
    ">**ASSAULT 3 & RELATED OFFENSES** is the most type of arrest in new york.\n",
    "\n"
   ]
  },
  {
   "cell_type": "markdown",
   "metadata": {
    "id": "atnsOxuxCp3R"
   },
   "source": [
    "## 10.Show the most occuring offense in brooklyn 'K' "
   ]
  },
  {
   "cell_type": "code",
   "execution_count": 160,
   "metadata": {
    "colab": {
     "base_uri": "https://localhost:8080/"
    },
    "id": "j9nQiEqlf0d_",
    "outputId": "8f18a81d-6708-4077-85bd-2f3c0a3a975c"
   },
   "outputs": [
    {
     "name": "stdout",
     "output_type": "stream",
     "text": [
      "+--------------------+-----------------------+\n",
      "|           OFNS_DESC|Number_per_offense_in_K|\n",
      "+--------------------+-----------------------+\n",
      "|ASSAULT 3 & RELAT...|                   8035|\n",
      "|      FELONY ASSAULT|                   5357|\n",
      "|       PETIT LARCENY|                   4542|\n",
      "|MISCELLANEOUS PEN...|                   4343|\n",
      "|CRIMINAL MISCHIEF...|                   2955|\n",
      "|   DANGEROUS WEAPONS|                   2744|\n",
      "|             ROBBERY|                   2685|\n",
      "|     DANGEROUS DRUGS|                   2253|\n",
      "|       GRAND LARCENY|                   2163|\n",
      "|VEHICLE AND TRAFF...|                   2058|\n",
      "|            BURGLARY|                   1775|\n",
      "|   THEFT OF SERVICES|                   1231|\n",
      "|OFF. AGNST PUB OR...|                   1137|\n",
      "|             FORGERY|                   1018|\n",
      "|OFFENSES INVOLVIN...|                   1013|\n",
      "|OFFENSES AGAINST ...|                   1012|\n",
      "|          SEX CRIMES|                    988|\n",
      "|POSSESSION OF STO...|                    720|\n",
      "|INTOXICATED & IMP...|                    642|\n",
      "|OTHER TRAFFIC INF...|                    574|\n",
      "+--------------------+-----------------------+\n",
      "only showing top 20 rows\n",
      "\n"
     ]
    }
   ],
   "source": [
    "spark.sql(\"SELECT offense_table.OFNS_DESC, COUNT(arrest_table.ARREST_KEY) AS Number_per_offense_in_K FROM arrest_table JOIN offense_table ON arrest_table.KY_CD = offense_table.KY_CD WHERE arrest_table.ARREST_BORO = 'K' GROUP BY offense_table.OFNS_DESC, arrest_table.ARREST_BORO ORDER BY Number_per_offense_in_K DESC\").show()\n"
   ]
  },
  {
   "cell_type": "markdown",
   "metadata": {
    "id": "fh-XyjueEk2h"
   },
   "source": [
    ">**ASSAULT 3 & RELATED OFFENSES** is the most type of arrest in brooklyn 'K'."
   ]
  },
  {
   "cell_type": "markdown",
   "metadata": {
    "id": "Cg4m0_O5C8Iy"
   },
   "source": [
    "## 11.Show the detailed offense that is occuring most "
   ]
  },
  {
   "cell_type": "code",
   "execution_count": 161,
   "metadata": {
    "colab": {
     "base_uri": "https://localhost:8080/"
    },
    "id": "UYBWEfDbgVoK",
    "outputId": "4d777d2a-f3b9-4160-cc86-9df630b9fd13"
   },
   "outputs": [
    {
     "name": "stdout",
     "output_type": "stream",
     "text": [
      "+--------------------+---------------------------+\n",
      "|             PD_DESC|Number_per_detailed_offense|\n",
      "+--------------------+---------------------------+\n",
      "|           ASSAULT 3|                      22218|\n",
      "|LARCENY,PETIT FRO...|                      20558|\n",
      "|ASSAULT 2,1,UNCLA...|                      13929|\n",
      "|ROBBERY,OPEN AREA...|                       9896|\n",
      "|PUBLIC ADMINISTRA...|                       8590|\n",
      "|LARCENY,GRAND FRO...|                       7785|\n",
      "|TRAFFIC,UNCLASSIF...|                       6832|\n",
      "|BURGLARY,UNCLASSI...|                       5578|\n",
      "|MENACING,UNCLASSI...|                       5400|\n",
      "|CONTROLLED SUBSTA...|                       5244|\n",
      "|  FORGERY,ETC.-MISD.|                       4833|\n",
      "|CRIMINAL POSSESSI...|                       4679|\n",
      "|  CRIMINAL MIS 2 & 3|                       4079|\n",
      "|CRIMINAL MISCHIEF...|                       3652|\n",
      "|FORGERY,ETC.,UNCL...|                       3560|\n",
      "|   STRANGULATION 1ST|                       3483|\n",
      "|AGGRAVATED HARASS...|                       3339|\n",
      "| OBSTR BREATH/CIRCUL|                       3069|\n",
      "|INTOXICATED DRIVI...|                       2714|\n",
      "|CONTROLLED SUBSTA...|                       2710|\n",
      "+--------------------+---------------------------+\n",
      "only showing top 20 rows\n",
      "\n"
     ]
    }
   ],
   "source": [
    "spark.sql(\"SELECT detailed_offense_table.PD_DESC, COUNT(arrest_table.ARREST_KEY) AS Number_per_detailed_offense FROM arrest_table JOIN detailed_offense_table ON arrest_table.PD_CD = detailed_offense_table.PD_CD GROUP BY detailed_offense_table.PD_DESC ORDER BY Number_per_detailed_offense DESC\").show()"
   ]
  },
  {
   "cell_type": "markdown",
   "metadata": {
    "id": "a8zFaOj9GmGW"
   },
   "source": [
    ">**Assualt 3** is the most detailed offense occuring in new york."
   ]
  },
  {
   "cell_type": "markdown",
   "metadata": {
    "id": "MjfYruu5DERp"
   },
   "source": [
    "## 12.Show the detailed offense in the top 1 offense that is occuring most"
   ]
  },
  {
   "cell_type": "code",
   "execution_count": 162,
   "metadata": {
    "colab": {
     "base_uri": "https://localhost:8080/"
    },
    "id": "i-7sUHoZgg1I",
    "outputId": "d80ad949-fad3-4f2a-82ce-07e8357ec871"
   },
   "outputs": [
    {
     "name": "stdout",
     "output_type": "stream",
     "text": [
      "+--------------------+--------------------+------------------+\n",
      "|           OFNS_DESC|             PD_DESC|Number_per_offense|\n",
      "+--------------------+--------------------+------------------+\n",
      "|ASSAULT 3 & RELAT...|           ASSAULT 3|             22218|\n",
      "|ASSAULT 3 & RELAT...|MENACING,UNCLASSI...|              5400|\n",
      "|ASSAULT 3 & RELAT...| OBSTR BREATH/CIRCUL|              3069|\n",
      "+--------------------+--------------------+------------------+\n",
      "\n"
     ]
    }
   ],
   "source": [
    "spark.sql(\"SELECT offense_table.OFNS_DESC, detailed_offense_table.PD_DESC, COUNT(arrest_table.ARREST_KEY) AS Number_per_offense FROM arrest_table JOIN offense_table ON arrest_table.KY_CD = offense_table.KY_CD JOIN detailed_offense_table ON arrest_table.PD_CD = detailed_offense_table.PD_CD WHERE offense_table.OFNS_DESC = 'ASSAULT 3 & RELATED OFFENSES' GROUP BY detailed_offense_table.PD_DESC, offense_table.OFNS_DESC ORDER BY Number_per_offense DESC\").show()"
   ]
  },
  {
   "cell_type": "markdown",
   "metadata": {
    "id": "d1lkwFDJGxT2"
   },
   "source": [
    ">**Assualt 3** has **22,218** number of arrest in 2022."
   ]
  },
  {
   "cell_type": "markdown",
   "metadata": {
    "id": "nFg6K5IqDIlZ"
   },
   "source": [
    "## 13.Count the number of arrests per unique location using longitude and latitude in each Borough"
   ]
  },
  {
   "cell_type": "code",
   "execution_count": 163,
   "metadata": {
    "colab": {
     "base_uri": "https://localhost:8080/"
    },
    "id": "G_wpxJEBguov",
    "outputId": "a039d24a-540c-46f9-ef7c-8c2857ab2c41"
   },
   "outputs": [
    {
     "name": "stdout",
     "output_type": "stream",
     "text": [
      "+---------+----------+-----------+-------------------+\n",
      "| Latitude| Longitude|ARREST_BORO|Number_per_location|\n",
      "+---------+----------+-----------+-------------------+\n",
      "|40.671404|-73.881509|          K|               1441|\n",
      "|40.810391|-73.924895|          B|               1347|\n",
      "|40.887325|-73.847247|          B|               1291|\n",
      "|40.644996|-74.077263|          S|               1046|\n",
      "|40.853578|-73.900591|          B|               1026|\n",
      "|40.726284| -73.73476|          Q|               1017|\n",
      "|40.769552|-73.915361|          Q|                933|\n",
      "|40.707439|-73.792139|          Q|                905|\n",
      "|40.648859| -73.95082|          K|                897|\n",
      "|40.750423| -73.98928|          M|                885|\n",
      "|40.837774|-73.919455|          B|                884|\n",
      "|40.762037|-73.827328|          Q|                875|\n",
      "|40.671104|-73.913562|          K|                861|\n",
      "|40.823378|-73.870168|          B|                853|\n",
      "|40.720528|-74.007582|          M|                850|\n",
      "|40.737074|-73.982962|          M|                843|\n",
      "|40.822355|-73.911463|          B|                825|\n",
      "|40.753455|-73.994398|          M|                823|\n",
      "| 40.76539|-73.985702|          M|                818|\n",
      "|40.680077|-73.775929|          Q|                803|\n",
      "+---------+----------+-----------+-------------------+\n",
      "only showing top 20 rows\n",
      "\n"
     ]
    }
   ],
   "source": [
    "spark.sql(\"SELECT Latitude, Longitude, ARREST_BORO, COUNT(ARREST_KEY) AS Number_per_location FROM arrest_table GROUP BY Latitude, Longitude, ARREST_BORO ORDER BY Number_per_location DESC\").show()"
   ]
  },
  {
   "cell_type": "markdown",
   "metadata": {
    "id": "6Lk7RebBhzlU"
   },
   "source": [
    "The most dangerous locations found in each of the boroughs in our dataset are:\n",
    "- Manhattan: Harlem, Midtown, Chelsea, East Village, Lower East Side\n",
    "- Bronx: Mott Haven, Port Morris, Hunts Point\n",
    "- Queens: Corona, Jackson Heights, Elmhurst\n",
    "- Brooklyn: Bedford-Stuyvesant, Crown Heights, East New York, Brownsville"
   ]
  },
  {
   "cell_type": "markdown",
   "metadata": {
    "id": "rVKXyIY4DgjB"
   },
   "source": [
    "## 14.Show the number of arrests occuring in the most dangerous neighborhood in NY which is Hunts Point (latitude 40.8094 and longitude -73.8803)"
   ]
  },
  {
   "cell_type": "code",
   "execution_count": 164,
   "metadata": {
    "colab": {
     "base_uri": "https://localhost:8080/"
    },
    "id": "C_b3W3ozg58N",
    "outputId": "01e48b21-e4c8-4fa2-b9e1-302f8573442f"
   },
   "outputs": [
    {
     "name": "stdout",
     "output_type": "stream",
     "text": [
      "+-----------+------------+-------------------+\n",
      "|   Latitude|   Longitude|Number_per_location|\n",
      "+-----------+------------+-------------------+\n",
      "|40.80724695|-73.88170196|                  4|\n",
      "|  40.808189|  -73.881949|                  3|\n",
      "|  40.808646|  -73.885427|                  2|\n",
      "|  40.806901|  -73.884017|                  2|\n",
      "|  40.807319|  -73.881252|                  2|\n",
      "|40.80655169|-73.88631601|                  1|\n",
      "|40.80682982|-73.88447329|                  1|\n",
      "|40.80536082|-73.88121044|                  1|\n",
      "|  40.807464|  -73.880299|                  1|\n",
      "|  40.805613|  -73.886068|                  1|\n",
      "|  40.806345|  -73.887707|                  1|\n",
      "|40.80467381|-73.88582074|                  1|\n",
      "+-----------+------------+-------------------+\n",
      "\n"
     ]
    }
   ],
   "source": [
    "spark.sql(\"SELECT Latitude, Longitude, COUNT(ARREST_KEY) AS Number_per_location FROM arrest_table WHERE Latitude BETWEEN 40.80 AND 40.81 AND Longitude BETWEEN -73.89 AND -73.88 GROUP BY Latitude, Longitude ORDER BY Number_per_location DESC\").show()\n"
   ]
  },
  {
   "cell_type": "markdown",
   "metadata": {
    "id": "6CPzJ9S3ESBk"
   },
   "source": [
    "## 15.Find the number of arrests per month"
   ]
  },
  {
   "cell_type": "code",
   "execution_count": 165,
   "metadata": {
    "colab": {
     "base_uri": "https://localhost:8080/"
    },
    "id": "46qZC2-FhJrX",
    "outputId": "77fba349-1164-47ce-fa07-e0e64d3038f0"
   },
   "outputs": [
    {
     "name": "stdout",
     "output_type": "stream",
     "text": [
      "+------------+------------+\n",
      "|Arrest_Month|Arrest_Count|\n",
      "+------------+------------+\n",
      "|          10|       17087|\n",
      "|           3|       16901|\n",
      "|          11|       16607|\n",
      "|           5|       16505|\n",
      "|           6|       16374|\n",
      "|           4|       16040|\n",
      "|           9|       15836|\n",
      "|           7|       15745|\n",
      "|           8|       15683|\n",
      "|          12|       15254|\n",
      "|           2|       14024|\n",
      "|           1|       13148|\n",
      "+------------+------------+\n",
      "\n"
     ]
    }
   ],
   "source": [
    "spark.sql(\"SELECT MONTH(ARREST_DATE) AS Arrest_Month, COUNT(*) AS Arrest_Count FROM arrest_table GROUP BY MONTH(ARREST_DATE) ORDER BY Arrest_Count DESC\").show()"
   ]
  },
  {
   "cell_type": "markdown",
   "metadata": {
    "id": "ocb94454hv2s"
   },
   "source": [
    ">**October,2022** has the highest number of arrests which is 17,087."
   ]
  },
  {
   "cell_type": "markdown",
   "metadata": {
    "id": "9MBSkdQ3EwEf"
   },
   "source": [
    "## 16.Find the number of arrests per month in Brooklyn K "
   ]
  },
  {
   "cell_type": "code",
   "execution_count": 166,
   "metadata": {
    "colab": {
     "base_uri": "https://localhost:8080/"
    },
    "id": "h7AsIU56hs9i",
    "outputId": "3e2fb037-31a9-431f-a628-d8c0a9feb8ee"
   },
   "outputs": [
    {
     "name": "stdout",
     "output_type": "stream",
     "text": [
      "+------------+------------+\n",
      "|Arrest_Month|Arrest_Count|\n",
      "+------------+------------+\n",
      "|           3|        4687|\n",
      "|           5|        4570|\n",
      "|           6|        4438|\n",
      "|           4|        4417|\n",
      "|          10|        4412|\n",
      "|          11|        4323|\n",
      "|           8|        4267|\n",
      "|           7|        4215|\n",
      "|           9|        4146|\n",
      "|          12|        4145|\n",
      "|           2|        3717|\n",
      "|           1|        3593|\n",
      "+------------+------------+\n",
      "\n"
     ]
    }
   ],
   "source": [
    "spark.sql(\"SELECT MONTH(ARREST_DATE) AS Arrest_Month, COUNT(*) AS Arrest_Count FROM arrest_table WHERE ARREST_BORO = 'K' GROUP BY ARREST_BORO, MONTH(ARREST_DATE) ORDER BY Arrest_Count DESC\").show()"
   ]
  },
  {
   "cell_type": "markdown",
   "metadata": {
    "id": "4BJPGYWriTXL"
   },
   "source": [
    ">**March,2022** has the highest number of arrests in Brooklyn 'K'."
   ]
  },
  {
   "cell_type": "markdown",
   "metadata": {
    "id": "r_HMOBn8E5Jf"
   },
   "source": [
    "## 17.Find the number of arrests per level of offense (LAW_CAT_CD) "
   ]
  },
  {
   "cell_type": "code",
   "execution_count": 167,
   "metadata": {
    "colab": {
     "base_uri": "https://localhost:8080/"
    },
    "id": "8dcyKJn4iQwK",
    "outputId": "a9d4ba0b-5889-4987-87e0-4b3bf8819291"
   },
   "outputs": [
    {
     "name": "stdout",
     "output_type": "stream",
     "text": [
      "+----------+------------+\n",
      "|LAW_CAT_CD|Arrest_Count|\n",
      "+----------+------------+\n",
      "|         M|      101435|\n",
      "|         F|       84988|\n",
      "|         N|        1747|\n",
      "|         V|         797|\n",
      "|         I|         237|\n",
      "+----------+------------+\n",
      "\n"
     ]
    }
   ],
   "source": [
    "## LAW_CAT_CD (Felony F, Violation V,  Misdemeanor M, Infraction I or Unknown N)\n",
    "spark.sql(\"SELECT LAW_CAT_CD, COUNT(ARREST_KEY) AS Arrest_Count FROM arrest_table JOIN law_table ON arrest_table.LAW_CODE = law_table.LAW_CODE GROUP BY LAW_CAT_CD ORDER BY Arrest_Count DESC\").show()"
   ]
  },
  {
   "cell_type": "markdown",
   "metadata": {
    "id": "4PQTpnZzH-Mp"
   },
   "source": [
    ">**Misdemeanor** 'M' is the **most level of offense** used in new york where **101,435** arrest where sent to it in 2022."
   ]
  },
  {
   "cell_type": "markdown",
   "metadata": {
    "id": "FVMDNnkHHWev"
   },
   "source": [
    "> "
   ]
  },
  {
   "cell_type": "markdown",
   "metadata": {
    "id": "oBQ3LCNq92We"
   },
   "source": [
    "# EDA"
   ]
  },
  {
   "cell_type": "markdown",
   "metadata": {
    "id": "m83G63_QSltx"
   },
   "source": [
    "### Total Arrests By Borough"
   ]
  },
  {
   "cell_type": "code",
   "execution_count": 168,
   "metadata": {
    "colab": {
     "base_uri": "https://localhost:8080/",
     "height": 542
    },
    "id": "O6VrCeoyiW8_",
    "outputId": "a3836a10-137b-4f1e-caf2-606bff050579"
   },
   "outputs": [
    {
     "data": {
      "text/html": [
       "<html>\n",
       "<head><meta charset=\"utf-8\" /></head>\n",
       "<body>\n",
       "    <div>            <script src=\"https://cdnjs.cloudflare.com/ajax/libs/mathjax/2.7.5/MathJax.js?config=TeX-AMS-MML_SVG\"></script><script type=\"text/javascript\">if (window.MathJax && window.MathJax.Hub && window.MathJax.Hub.Config) {window.MathJax.Hub.Config({SVG: {font: \"STIX-Web\"}});}</script>                <script type=\"text/javascript\">window.PlotlyConfig = {MathJaxConfig: 'local'};</script>\n",
       "        <script src=\"https://cdn.plot.ly/plotly-2.18.2.min.js\"></script>                <div id=\"5148d960-c06e-4a5a-9b63-3b1b382d65de\" class=\"plotly-graph-div\" style=\"height:525px; width:100%;\"></div>            <script type=\"text/javascript\">                                    window.PLOTLYENV=window.PLOTLYENV || {};                                    if (document.getElementById(\"5148d960-c06e-4a5a-9b63-3b1b382d65de\")) {                    Plotly.newPlot(                        \"5148d960-c06e-4a5a-9b63-3b1b382d65de\",                        [{\"alignmentgroup\":\"True\",\"hovertemplate\":\"ARREST_BORO=%{x}<br>count=%{y}<extra></extra>\",\"legendgroup\":\"\",\"marker\":{\"color\":\"#636efa\",\"pattern\":{\"shape\":\"\"}},\"name\":\"\",\"offsetgroup\":\"\",\"orientation\":\"v\",\"showlegend\":false,\"textposition\":\"auto\",\"x\":[\"K\",\"M\",\"B\",\"Q\",\"S\"],\"xaxis\":\"x\",\"y\":[50930,46779,44050,39076,8369],\"yaxis\":\"y\",\"type\":\"bar\"}],                        {\"template\":{\"data\":{\"histogram2dcontour\":[{\"type\":\"histogram2dcontour\",\"colorbar\":{\"outlinewidth\":0,\"ticks\":\"\"},\"colorscale\":[[0.0,\"#0d0887\"],[0.1111111111111111,\"#46039f\"],[0.2222222222222222,\"#7201a8\"],[0.3333333333333333,\"#9c179e\"],[0.4444444444444444,\"#bd3786\"],[0.5555555555555556,\"#d8576b\"],[0.6666666666666666,\"#ed7953\"],[0.7777777777777778,\"#fb9f3a\"],[0.8888888888888888,\"#fdca26\"],[1.0,\"#f0f921\"]]}],\"choropleth\":[{\"type\":\"choropleth\",\"colorbar\":{\"outlinewidth\":0,\"ticks\":\"\"}}],\"histogram2d\":[{\"type\":\"histogram2d\",\"colorbar\":{\"outlinewidth\":0,\"ticks\":\"\"},\"colorscale\":[[0.0,\"#0d0887\"],[0.1111111111111111,\"#46039f\"],[0.2222222222222222,\"#7201a8\"],[0.3333333333333333,\"#9c179e\"],[0.4444444444444444,\"#bd3786\"],[0.5555555555555556,\"#d8576b\"],[0.6666666666666666,\"#ed7953\"],[0.7777777777777778,\"#fb9f3a\"],[0.8888888888888888,\"#fdca26\"],[1.0,\"#f0f921\"]]}],\"heatmap\":[{\"type\":\"heatmap\",\"colorbar\":{\"outlinewidth\":0,\"ticks\":\"\"},\"colorscale\":[[0.0,\"#0d0887\"],[0.1111111111111111,\"#46039f\"],[0.2222222222222222,\"#7201a8\"],[0.3333333333333333,\"#9c179e\"],[0.4444444444444444,\"#bd3786\"],[0.5555555555555556,\"#d8576b\"],[0.6666666666666666,\"#ed7953\"],[0.7777777777777778,\"#fb9f3a\"],[0.8888888888888888,\"#fdca26\"],[1.0,\"#f0f921\"]]}],\"heatmapgl\":[{\"type\":\"heatmapgl\",\"colorbar\":{\"outlinewidth\":0,\"ticks\":\"\"},\"colorscale\":[[0.0,\"#0d0887\"],[0.1111111111111111,\"#46039f\"],[0.2222222222222222,\"#7201a8\"],[0.3333333333333333,\"#9c179e\"],[0.4444444444444444,\"#bd3786\"],[0.5555555555555556,\"#d8576b\"],[0.6666666666666666,\"#ed7953\"],[0.7777777777777778,\"#fb9f3a\"],[0.8888888888888888,\"#fdca26\"],[1.0,\"#f0f921\"]]}],\"contourcarpet\":[{\"type\":\"contourcarpet\",\"colorbar\":{\"outlinewidth\":0,\"ticks\":\"\"}}],\"contour\":[{\"type\":\"contour\",\"colorbar\":{\"outlinewidth\":0,\"ticks\":\"\"},\"colorscale\":[[0.0,\"#0d0887\"],[0.1111111111111111,\"#46039f\"],[0.2222222222222222,\"#7201a8\"],[0.3333333333333333,\"#9c179e\"],[0.4444444444444444,\"#bd3786\"],[0.5555555555555556,\"#d8576b\"],[0.6666666666666666,\"#ed7953\"],[0.7777777777777778,\"#fb9f3a\"],[0.8888888888888888,\"#fdca26\"],[1.0,\"#f0f921\"]]}],\"surface\":[{\"type\":\"surface\",\"colorbar\":{\"outlinewidth\":0,\"ticks\":\"\"},\"colorscale\":[[0.0,\"#0d0887\"],[0.1111111111111111,\"#46039f\"],[0.2222222222222222,\"#7201a8\"],[0.3333333333333333,\"#9c179e\"],[0.4444444444444444,\"#bd3786\"],[0.5555555555555556,\"#d8576b\"],[0.6666666666666666,\"#ed7953\"],[0.7777777777777778,\"#fb9f3a\"],[0.8888888888888888,\"#fdca26\"],[1.0,\"#f0f921\"]]}],\"mesh3d\":[{\"type\":\"mesh3d\",\"colorbar\":{\"outlinewidth\":0,\"ticks\":\"\"}}],\"scatter\":[{\"fillpattern\":{\"fillmode\":\"overlay\",\"size\":10,\"solidity\":0.2},\"type\":\"scatter\"}],\"parcoords\":[{\"type\":\"parcoords\",\"line\":{\"colorbar\":{\"outlinewidth\":0,\"ticks\":\"\"}}}],\"scatterpolargl\":[{\"type\":\"scatterpolargl\",\"marker\":{\"colorbar\":{\"outlinewidth\":0,\"ticks\":\"\"}}}],\"bar\":[{\"error_x\":{\"color\":\"#2a3f5f\"},\"error_y\":{\"color\":\"#2a3f5f\"},\"marker\":{\"line\":{\"color\":\"#E5ECF6\",\"width\":0.5},\"pattern\":{\"fillmode\":\"overlay\",\"size\":10,\"solidity\":0.2}},\"type\":\"bar\"}],\"scattergeo\":[{\"type\":\"scattergeo\",\"marker\":{\"colorbar\":{\"outlinewidth\":0,\"ticks\":\"\"}}}],\"scatterpolar\":[{\"type\":\"scatterpolar\",\"marker\":{\"colorbar\":{\"outlinewidth\":0,\"ticks\":\"\"}}}],\"histogram\":[{\"marker\":{\"pattern\":{\"fillmode\":\"overlay\",\"size\":10,\"solidity\":0.2}},\"type\":\"histogram\"}],\"scattergl\":[{\"type\":\"scattergl\",\"marker\":{\"colorbar\":{\"outlinewidth\":0,\"ticks\":\"\"}}}],\"scatter3d\":[{\"type\":\"scatter3d\",\"line\":{\"colorbar\":{\"outlinewidth\":0,\"ticks\":\"\"}},\"marker\":{\"colorbar\":{\"outlinewidth\":0,\"ticks\":\"\"}}}],\"scattermapbox\":[{\"type\":\"scattermapbox\",\"marker\":{\"colorbar\":{\"outlinewidth\":0,\"ticks\":\"\"}}}],\"scatterternary\":[{\"type\":\"scatterternary\",\"marker\":{\"colorbar\":{\"outlinewidth\":0,\"ticks\":\"\"}}}],\"scattercarpet\":[{\"type\":\"scattercarpet\",\"marker\":{\"colorbar\":{\"outlinewidth\":0,\"ticks\":\"\"}}}],\"carpet\":[{\"aaxis\":{\"endlinecolor\":\"#2a3f5f\",\"gridcolor\":\"white\",\"linecolor\":\"white\",\"minorgridcolor\":\"white\",\"startlinecolor\":\"#2a3f5f\"},\"baxis\":{\"endlinecolor\":\"#2a3f5f\",\"gridcolor\":\"white\",\"linecolor\":\"white\",\"minorgridcolor\":\"white\",\"startlinecolor\":\"#2a3f5f\"},\"type\":\"carpet\"}],\"table\":[{\"cells\":{\"fill\":{\"color\":\"#EBF0F8\"},\"line\":{\"color\":\"white\"}},\"header\":{\"fill\":{\"color\":\"#C8D4E3\"},\"line\":{\"color\":\"white\"}},\"type\":\"table\"}],\"barpolar\":[{\"marker\":{\"line\":{\"color\":\"#E5ECF6\",\"width\":0.5},\"pattern\":{\"fillmode\":\"overlay\",\"size\":10,\"solidity\":0.2}},\"type\":\"barpolar\"}],\"pie\":[{\"automargin\":true,\"type\":\"pie\"}]},\"layout\":{\"autotypenumbers\":\"strict\",\"colorway\":[\"#636efa\",\"#EF553B\",\"#00cc96\",\"#ab63fa\",\"#FFA15A\",\"#19d3f3\",\"#FF6692\",\"#B6E880\",\"#FF97FF\",\"#FECB52\"],\"font\":{\"color\":\"#2a3f5f\"},\"hovermode\":\"closest\",\"hoverlabel\":{\"align\":\"left\"},\"paper_bgcolor\":\"white\",\"plot_bgcolor\":\"#E5ECF6\",\"polar\":{\"bgcolor\":\"#E5ECF6\",\"angularaxis\":{\"gridcolor\":\"white\",\"linecolor\":\"white\",\"ticks\":\"\"},\"radialaxis\":{\"gridcolor\":\"white\",\"linecolor\":\"white\",\"ticks\":\"\"}},\"ternary\":{\"bgcolor\":\"#E5ECF6\",\"aaxis\":{\"gridcolor\":\"white\",\"linecolor\":\"white\",\"ticks\":\"\"},\"baxis\":{\"gridcolor\":\"white\",\"linecolor\":\"white\",\"ticks\":\"\"},\"caxis\":{\"gridcolor\":\"white\",\"linecolor\":\"white\",\"ticks\":\"\"}},\"coloraxis\":{\"colorbar\":{\"outlinewidth\":0,\"ticks\":\"\"}},\"colorscale\":{\"sequential\":[[0.0,\"#0d0887\"],[0.1111111111111111,\"#46039f\"],[0.2222222222222222,\"#7201a8\"],[0.3333333333333333,\"#9c179e\"],[0.4444444444444444,\"#bd3786\"],[0.5555555555555556,\"#d8576b\"],[0.6666666666666666,\"#ed7953\"],[0.7777777777777778,\"#fb9f3a\"],[0.8888888888888888,\"#fdca26\"],[1.0,\"#f0f921\"]],\"sequentialminus\":[[0.0,\"#0d0887\"],[0.1111111111111111,\"#46039f\"],[0.2222222222222222,\"#7201a8\"],[0.3333333333333333,\"#9c179e\"],[0.4444444444444444,\"#bd3786\"],[0.5555555555555556,\"#d8576b\"],[0.6666666666666666,\"#ed7953\"],[0.7777777777777778,\"#fb9f3a\"],[0.8888888888888888,\"#fdca26\"],[1.0,\"#f0f921\"]],\"diverging\":[[0,\"#8e0152\"],[0.1,\"#c51b7d\"],[0.2,\"#de77ae\"],[0.3,\"#f1b6da\"],[0.4,\"#fde0ef\"],[0.5,\"#f7f7f7\"],[0.6,\"#e6f5d0\"],[0.7,\"#b8e186\"],[0.8,\"#7fbc41\"],[0.9,\"#4d9221\"],[1,\"#276419\"]]},\"xaxis\":{\"gridcolor\":\"white\",\"linecolor\":\"white\",\"ticks\":\"\",\"title\":{\"standoff\":15},\"zerolinecolor\":\"white\",\"automargin\":true,\"zerolinewidth\":2},\"yaxis\":{\"gridcolor\":\"white\",\"linecolor\":\"white\",\"ticks\":\"\",\"title\":{\"standoff\":15},\"zerolinecolor\":\"white\",\"automargin\":true,\"zerolinewidth\":2},\"scene\":{\"xaxis\":{\"backgroundcolor\":\"#E5ECF6\",\"gridcolor\":\"white\",\"linecolor\":\"white\",\"showbackground\":true,\"ticks\":\"\",\"zerolinecolor\":\"white\",\"gridwidth\":2},\"yaxis\":{\"backgroundcolor\":\"#E5ECF6\",\"gridcolor\":\"white\",\"linecolor\":\"white\",\"showbackground\":true,\"ticks\":\"\",\"zerolinecolor\":\"white\",\"gridwidth\":2},\"zaxis\":{\"backgroundcolor\":\"#E5ECF6\",\"gridcolor\":\"white\",\"linecolor\":\"white\",\"showbackground\":true,\"ticks\":\"\",\"zerolinecolor\":\"white\",\"gridwidth\":2}},\"shapedefaults\":{\"line\":{\"color\":\"#2a3f5f\"}},\"annotationdefaults\":{\"arrowcolor\":\"#2a3f5f\",\"arrowhead\":0,\"arrowwidth\":1},\"geo\":{\"bgcolor\":\"white\",\"landcolor\":\"#E5ECF6\",\"subunitcolor\":\"white\",\"showland\":true,\"showlakes\":true,\"lakecolor\":\"white\"},\"title\":{\"x\":0.05},\"mapbox\":{\"style\":\"light\"}}},\"xaxis\":{\"anchor\":\"y\",\"domain\":[0.0,1.0],\"title\":{\"text\":\"ARREST_BORO\"},\"tickvals\":[\"K\",\"M\",\"B\",\"Q\",\"S\"],\"ticktext\":[\"Brooklyn\",\"Manhattan\",\"Bronx\",\"Queens\",\"Staten Island\"]},\"yaxis\":{\"anchor\":\"x\",\"domain\":[0.0,1.0],\"title\":{\"text\":\"count\"}},\"legend\":{\"tracegroupgap\":0},\"title\":{\"text\":\"Arrests by Borough\"},\"barmode\":\"relative\"},                        {\"responsive\": true}                    ).then(function(){\n",
       "                            \n",
       "var gd = document.getElementById('5148d960-c06e-4a5a-9b63-3b1b382d65de');\n",
       "var x = new MutationObserver(function (mutations, observer) {{\n",
       "        var display = window.getComputedStyle(gd).display;\n",
       "        if (!display || display === 'none') {{\n",
       "            console.log([gd, 'removed!']);\n",
       "            Plotly.purge(gd);\n",
       "            observer.disconnect();\n",
       "        }}\n",
       "}});\n",
       "\n",
       "// Listen for the removal of the full notebook cells\n",
       "var notebookContainer = gd.closest('#notebook-container');\n",
       "if (notebookContainer) {{\n",
       "    x.observe(notebookContainer, {childList: true});\n",
       "}}\n",
       "\n",
       "// Listen for the clearing of the current output cell\n",
       "var outputEl = gd.closest('.output');\n",
       "if (outputEl) {{\n",
       "    x.observe(outputEl, {childList: true});\n",
       "}}\n",
       "\n",
       "                        })                };                            </script>        </div>\n",
       "</body>\n",
       "</html>"
      ]
     },
     "metadata": {},
     "output_type": "display_data"
    }
   ],
   "source": [
    "# Group the arrests by country and count the number of arrests\n",
    "country_counts = arrest.groupBy(\"ARREST_BORO\").count().orderBy(\"count\", ascending=False)\n",
    "# Extract the top 10 countries with the highest arrest counts\n",
    "top_countries = country_counts.limit(10).toPandas()\n",
    "# Create a bar plot using Matplotlib\n",
    "import plotly.express as px\n",
    "\n",
    "# Create a bar plot using Plotly Express\n",
    "fig1 = px.bar(top_countries, x=\"ARREST_BORO\", y=\"count\", title=\"Arrests by Borough\")\n",
    "fig1.update_xaxes(tickvals=top_countries[\"ARREST_BORO\"], ticktext=['Brooklyn', 'Manhattan', 'Bronx', 'Queens', 'Staten Island'])\n",
    "fig1.show()"
   ]
  },
  {
   "cell_type": "markdown",
   "metadata": {
    "id": "3Yz9Owe2knrA"
   },
   "source": [
    "### Total Arrests By Age"
   ]
  },
  {
   "cell_type": "code",
   "execution_count": 169,
   "metadata": {
    "colab": {
     "base_uri": "https://localhost:8080/",
     "height": 542
    },
    "id": "1Tu58bprk3PX",
    "outputId": "9098ba56-cb65-4e88-99ec-4904e5f74953"
   },
   "outputs": [
    {
     "data": {
      "text/html": [
       "<html>\n",
       "<head><meta charset=\"utf-8\" /></head>\n",
       "<body>\n",
       "    <div>            <script src=\"https://cdnjs.cloudflare.com/ajax/libs/mathjax/2.7.5/MathJax.js?config=TeX-AMS-MML_SVG\"></script><script type=\"text/javascript\">if (window.MathJax && window.MathJax.Hub && window.MathJax.Hub.Config) {window.MathJax.Hub.Config({SVG: {font: \"STIX-Web\"}});}</script>                <script type=\"text/javascript\">window.PlotlyConfig = {MathJaxConfig: 'local'};</script>\n",
       "        <script src=\"https://cdn.plot.ly/plotly-2.18.2.min.js\"></script>                <div id=\"23f5ed56-85fa-4cdb-9fe5-6474322764f4\" class=\"plotly-graph-div\" style=\"height:525px; width:100%;\"></div>            <script type=\"text/javascript\">                                    window.PLOTLYENV=window.PLOTLYENV || {};                                    if (document.getElementById(\"23f5ed56-85fa-4cdb-9fe5-6474322764f4\")) {                    Plotly.newPlot(                        \"23f5ed56-85fa-4cdb-9fe5-6474322764f4\",                        [{\"alignmentgroup\":\"True\",\"hovertemplate\":\"AGE_GROUP=%{x}<br>count=%{y}<extra></extra>\",\"legendgroup\":\"\",\"marker\":{\"color\":\"#636efa\",\"pattern\":{\"shape\":\"\"}},\"name\":\"\",\"offsetgroup\":\"\",\"orientation\":\"v\",\"showlegend\":false,\"textposition\":\"auto\",\"x\":[\"25-44\",\"45-64\",\"18-24\",\"<18\",\"65+\"],\"xaxis\":\"x\",\"y\":[108968,37463,33111,6792,2870],\"yaxis\":\"y\",\"type\":\"bar\"}],                        {\"template\":{\"data\":{\"histogram2dcontour\":[{\"type\":\"histogram2dcontour\",\"colorbar\":{\"outlinewidth\":0,\"ticks\":\"\"},\"colorscale\":[[0.0,\"#0d0887\"],[0.1111111111111111,\"#46039f\"],[0.2222222222222222,\"#7201a8\"],[0.3333333333333333,\"#9c179e\"],[0.4444444444444444,\"#bd3786\"],[0.5555555555555556,\"#d8576b\"],[0.6666666666666666,\"#ed7953\"],[0.7777777777777778,\"#fb9f3a\"],[0.8888888888888888,\"#fdca26\"],[1.0,\"#f0f921\"]]}],\"choropleth\":[{\"type\":\"choropleth\",\"colorbar\":{\"outlinewidth\":0,\"ticks\":\"\"}}],\"histogram2d\":[{\"type\":\"histogram2d\",\"colorbar\":{\"outlinewidth\":0,\"ticks\":\"\"},\"colorscale\":[[0.0,\"#0d0887\"],[0.1111111111111111,\"#46039f\"],[0.2222222222222222,\"#7201a8\"],[0.3333333333333333,\"#9c179e\"],[0.4444444444444444,\"#bd3786\"],[0.5555555555555556,\"#d8576b\"],[0.6666666666666666,\"#ed7953\"],[0.7777777777777778,\"#fb9f3a\"],[0.8888888888888888,\"#fdca26\"],[1.0,\"#f0f921\"]]}],\"heatmap\":[{\"type\":\"heatmap\",\"colorbar\":{\"outlinewidth\":0,\"ticks\":\"\"},\"colorscale\":[[0.0,\"#0d0887\"],[0.1111111111111111,\"#46039f\"],[0.2222222222222222,\"#7201a8\"],[0.3333333333333333,\"#9c179e\"],[0.4444444444444444,\"#bd3786\"],[0.5555555555555556,\"#d8576b\"],[0.6666666666666666,\"#ed7953\"],[0.7777777777777778,\"#fb9f3a\"],[0.8888888888888888,\"#fdca26\"],[1.0,\"#f0f921\"]]}],\"heatmapgl\":[{\"type\":\"heatmapgl\",\"colorbar\":{\"outlinewidth\":0,\"ticks\":\"\"},\"colorscale\":[[0.0,\"#0d0887\"],[0.1111111111111111,\"#46039f\"],[0.2222222222222222,\"#7201a8\"],[0.3333333333333333,\"#9c179e\"],[0.4444444444444444,\"#bd3786\"],[0.5555555555555556,\"#d8576b\"],[0.6666666666666666,\"#ed7953\"],[0.7777777777777778,\"#fb9f3a\"],[0.8888888888888888,\"#fdca26\"],[1.0,\"#f0f921\"]]}],\"contourcarpet\":[{\"type\":\"contourcarpet\",\"colorbar\":{\"outlinewidth\":0,\"ticks\":\"\"}}],\"contour\":[{\"type\":\"contour\",\"colorbar\":{\"outlinewidth\":0,\"ticks\":\"\"},\"colorscale\":[[0.0,\"#0d0887\"],[0.1111111111111111,\"#46039f\"],[0.2222222222222222,\"#7201a8\"],[0.3333333333333333,\"#9c179e\"],[0.4444444444444444,\"#bd3786\"],[0.5555555555555556,\"#d8576b\"],[0.6666666666666666,\"#ed7953\"],[0.7777777777777778,\"#fb9f3a\"],[0.8888888888888888,\"#fdca26\"],[1.0,\"#f0f921\"]]}],\"surface\":[{\"type\":\"surface\",\"colorbar\":{\"outlinewidth\":0,\"ticks\":\"\"},\"colorscale\":[[0.0,\"#0d0887\"],[0.1111111111111111,\"#46039f\"],[0.2222222222222222,\"#7201a8\"],[0.3333333333333333,\"#9c179e\"],[0.4444444444444444,\"#bd3786\"],[0.5555555555555556,\"#d8576b\"],[0.6666666666666666,\"#ed7953\"],[0.7777777777777778,\"#fb9f3a\"],[0.8888888888888888,\"#fdca26\"],[1.0,\"#f0f921\"]]}],\"mesh3d\":[{\"type\":\"mesh3d\",\"colorbar\":{\"outlinewidth\":0,\"ticks\":\"\"}}],\"scatter\":[{\"fillpattern\":{\"fillmode\":\"overlay\",\"size\":10,\"solidity\":0.2},\"type\":\"scatter\"}],\"parcoords\":[{\"type\":\"parcoords\",\"line\":{\"colorbar\":{\"outlinewidth\":0,\"ticks\":\"\"}}}],\"scatterpolargl\":[{\"type\":\"scatterpolargl\",\"marker\":{\"colorbar\":{\"outlinewidth\":0,\"ticks\":\"\"}}}],\"bar\":[{\"error_x\":{\"color\":\"#2a3f5f\"},\"error_y\":{\"color\":\"#2a3f5f\"},\"marker\":{\"line\":{\"color\":\"#E5ECF6\",\"width\":0.5},\"pattern\":{\"fillmode\":\"overlay\",\"size\":10,\"solidity\":0.2}},\"type\":\"bar\"}],\"scattergeo\":[{\"type\":\"scattergeo\",\"marker\":{\"colorbar\":{\"outlinewidth\":0,\"ticks\":\"\"}}}],\"scatterpolar\":[{\"type\":\"scatterpolar\",\"marker\":{\"colorbar\":{\"outlinewidth\":0,\"ticks\":\"\"}}}],\"histogram\":[{\"marker\":{\"pattern\":{\"fillmode\":\"overlay\",\"size\":10,\"solidity\":0.2}},\"type\":\"histogram\"}],\"scattergl\":[{\"type\":\"scattergl\",\"marker\":{\"colorbar\":{\"outlinewidth\":0,\"ticks\":\"\"}}}],\"scatter3d\":[{\"type\":\"scatter3d\",\"line\":{\"colorbar\":{\"outlinewidth\":0,\"ticks\":\"\"}},\"marker\":{\"colorbar\":{\"outlinewidth\":0,\"ticks\":\"\"}}}],\"scattermapbox\":[{\"type\":\"scattermapbox\",\"marker\":{\"colorbar\":{\"outlinewidth\":0,\"ticks\":\"\"}}}],\"scatterternary\":[{\"type\":\"scatterternary\",\"marker\":{\"colorbar\":{\"outlinewidth\":0,\"ticks\":\"\"}}}],\"scattercarpet\":[{\"type\":\"scattercarpet\",\"marker\":{\"colorbar\":{\"outlinewidth\":0,\"ticks\":\"\"}}}],\"carpet\":[{\"aaxis\":{\"endlinecolor\":\"#2a3f5f\",\"gridcolor\":\"white\",\"linecolor\":\"white\",\"minorgridcolor\":\"white\",\"startlinecolor\":\"#2a3f5f\"},\"baxis\":{\"endlinecolor\":\"#2a3f5f\",\"gridcolor\":\"white\",\"linecolor\":\"white\",\"minorgridcolor\":\"white\",\"startlinecolor\":\"#2a3f5f\"},\"type\":\"carpet\"}],\"table\":[{\"cells\":{\"fill\":{\"color\":\"#EBF0F8\"},\"line\":{\"color\":\"white\"}},\"header\":{\"fill\":{\"color\":\"#C8D4E3\"},\"line\":{\"color\":\"white\"}},\"type\":\"table\"}],\"barpolar\":[{\"marker\":{\"line\":{\"color\":\"#E5ECF6\",\"width\":0.5},\"pattern\":{\"fillmode\":\"overlay\",\"size\":10,\"solidity\":0.2}},\"type\":\"barpolar\"}],\"pie\":[{\"automargin\":true,\"type\":\"pie\"}]},\"layout\":{\"autotypenumbers\":\"strict\",\"colorway\":[\"#636efa\",\"#EF553B\",\"#00cc96\",\"#ab63fa\",\"#FFA15A\",\"#19d3f3\",\"#FF6692\",\"#B6E880\",\"#FF97FF\",\"#FECB52\"],\"font\":{\"color\":\"#2a3f5f\"},\"hovermode\":\"closest\",\"hoverlabel\":{\"align\":\"left\"},\"paper_bgcolor\":\"white\",\"plot_bgcolor\":\"#E5ECF6\",\"polar\":{\"bgcolor\":\"#E5ECF6\",\"angularaxis\":{\"gridcolor\":\"white\",\"linecolor\":\"white\",\"ticks\":\"\"},\"radialaxis\":{\"gridcolor\":\"white\",\"linecolor\":\"white\",\"ticks\":\"\"}},\"ternary\":{\"bgcolor\":\"#E5ECF6\",\"aaxis\":{\"gridcolor\":\"white\",\"linecolor\":\"white\",\"ticks\":\"\"},\"baxis\":{\"gridcolor\":\"white\",\"linecolor\":\"white\",\"ticks\":\"\"},\"caxis\":{\"gridcolor\":\"white\",\"linecolor\":\"white\",\"ticks\":\"\"}},\"coloraxis\":{\"colorbar\":{\"outlinewidth\":0,\"ticks\":\"\"}},\"colorscale\":{\"sequential\":[[0.0,\"#0d0887\"],[0.1111111111111111,\"#46039f\"],[0.2222222222222222,\"#7201a8\"],[0.3333333333333333,\"#9c179e\"],[0.4444444444444444,\"#bd3786\"],[0.5555555555555556,\"#d8576b\"],[0.6666666666666666,\"#ed7953\"],[0.7777777777777778,\"#fb9f3a\"],[0.8888888888888888,\"#fdca26\"],[1.0,\"#f0f921\"]],\"sequentialminus\":[[0.0,\"#0d0887\"],[0.1111111111111111,\"#46039f\"],[0.2222222222222222,\"#7201a8\"],[0.3333333333333333,\"#9c179e\"],[0.4444444444444444,\"#bd3786\"],[0.5555555555555556,\"#d8576b\"],[0.6666666666666666,\"#ed7953\"],[0.7777777777777778,\"#fb9f3a\"],[0.8888888888888888,\"#fdca26\"],[1.0,\"#f0f921\"]],\"diverging\":[[0,\"#8e0152\"],[0.1,\"#c51b7d\"],[0.2,\"#de77ae\"],[0.3,\"#f1b6da\"],[0.4,\"#fde0ef\"],[0.5,\"#f7f7f7\"],[0.6,\"#e6f5d0\"],[0.7,\"#b8e186\"],[0.8,\"#7fbc41\"],[0.9,\"#4d9221\"],[1,\"#276419\"]]},\"xaxis\":{\"gridcolor\":\"white\",\"linecolor\":\"white\",\"ticks\":\"\",\"title\":{\"standoff\":15},\"zerolinecolor\":\"white\",\"automargin\":true,\"zerolinewidth\":2},\"yaxis\":{\"gridcolor\":\"white\",\"linecolor\":\"white\",\"ticks\":\"\",\"title\":{\"standoff\":15},\"zerolinecolor\":\"white\",\"automargin\":true,\"zerolinewidth\":2},\"scene\":{\"xaxis\":{\"backgroundcolor\":\"#E5ECF6\",\"gridcolor\":\"white\",\"linecolor\":\"white\",\"showbackground\":true,\"ticks\":\"\",\"zerolinecolor\":\"white\",\"gridwidth\":2},\"yaxis\":{\"backgroundcolor\":\"#E5ECF6\",\"gridcolor\":\"white\",\"linecolor\":\"white\",\"showbackground\":true,\"ticks\":\"\",\"zerolinecolor\":\"white\",\"gridwidth\":2},\"zaxis\":{\"backgroundcolor\":\"#E5ECF6\",\"gridcolor\":\"white\",\"linecolor\":\"white\",\"showbackground\":true,\"ticks\":\"\",\"zerolinecolor\":\"white\",\"gridwidth\":2}},\"shapedefaults\":{\"line\":{\"color\":\"#2a3f5f\"}},\"annotationdefaults\":{\"arrowcolor\":\"#2a3f5f\",\"arrowhead\":0,\"arrowwidth\":1},\"geo\":{\"bgcolor\":\"white\",\"landcolor\":\"#E5ECF6\",\"subunitcolor\":\"white\",\"showland\":true,\"showlakes\":true,\"lakecolor\":\"white\"},\"title\":{\"x\":0.05},\"mapbox\":{\"style\":\"light\"}}},\"xaxis\":{\"anchor\":\"y\",\"domain\":[0.0,1.0],\"title\":{\"text\":\"AGE_GROUP\"}},\"yaxis\":{\"anchor\":\"x\",\"domain\":[0.0,1.0],\"title\":{\"text\":\"count\"}},\"legend\":{\"tracegroupgap\":0},\"title\":{\"text\":\"Arrests by Age\"},\"barmode\":\"relative\"},                        {\"responsive\": true}                    ).then(function(){\n",
       "                            \n",
       "var gd = document.getElementById('23f5ed56-85fa-4cdb-9fe5-6474322764f4');\n",
       "var x = new MutationObserver(function (mutations, observer) {{\n",
       "        var display = window.getComputedStyle(gd).display;\n",
       "        if (!display || display === 'none') {{\n",
       "            console.log([gd, 'removed!']);\n",
       "            Plotly.purge(gd);\n",
       "            observer.disconnect();\n",
       "        }}\n",
       "}});\n",
       "\n",
       "// Listen for the removal of the full notebook cells\n",
       "var notebookContainer = gd.closest('#notebook-container');\n",
       "if (notebookContainer) {{\n",
       "    x.observe(notebookContainer, {childList: true});\n",
       "}}\n",
       "\n",
       "// Listen for the clearing of the current output cell\n",
       "var outputEl = gd.closest('.output');\n",
       "if (outputEl) {{\n",
       "    x.observe(outputEl, {childList: true});\n",
       "}}\n",
       "\n",
       "                        })                };                            </script>        </div>\n",
       "</body>\n",
       "</html>"
      ]
     },
     "metadata": {},
     "output_type": "display_data"
    }
   ],
   "source": [
    "# Group the arrests by country and count the number of arrests\n",
    "age_counts = arrest.groupBy(\"AGE_GROUP\").count().orderBy(\"count\", ascending=False)\n",
    "# Extract the top 10 countries with the highest arrest counts\n",
    "top_age = age_counts.limit(10).toPandas()\n",
    "# Create a bar plot using Matplotlib\n",
    "import plotly.express as px\n",
    "\n",
    "# Create a bar plot using Plotly Express\n",
    "fig = px.bar(top_age, x=\"AGE_GROUP\", y=\"count\", title=\"Arrests by Age\")\n",
    "fig.show()"
   ]
  },
  {
   "cell_type": "markdown",
   "metadata": {
    "id": "FUKDmDahkvOD"
   },
   "source": [
    "### Total Arrests By Race"
   ]
  },
  {
   "cell_type": "code",
   "execution_count": 170,
   "metadata": {
    "colab": {
     "base_uri": "https://localhost:8080/",
     "height": 542
    },
    "id": "dArJdc-ElMjO",
    "outputId": "3abe1abb-335c-40e8-8ef2-1a6f944c1227"
   },
   "outputs": [
    {
     "data": {
      "text/html": [
       "<html>\n",
       "<head><meta charset=\"utf-8\" /></head>\n",
       "<body>\n",
       "    <div>            <script src=\"https://cdnjs.cloudflare.com/ajax/libs/mathjax/2.7.5/MathJax.js?config=TeX-AMS-MML_SVG\"></script><script type=\"text/javascript\">if (window.MathJax && window.MathJax.Hub && window.MathJax.Hub.Config) {window.MathJax.Hub.Config({SVG: {font: \"STIX-Web\"}});}</script>                <script type=\"text/javascript\">window.PlotlyConfig = {MathJaxConfig: 'local'};</script>\n",
       "        <script src=\"https://cdn.plot.ly/plotly-2.18.2.min.js\"></script>                <div id=\"77932ec8-2d54-4a95-8605-c8d413407799\" class=\"plotly-graph-div\" style=\"height:525px; width:100%;\"></div>            <script type=\"text/javascript\">                                    window.PLOTLYENV=window.PLOTLYENV || {};                                    if (document.getElementById(\"77932ec8-2d54-4a95-8605-c8d413407799\")) {                    Plotly.newPlot(                        \"77932ec8-2d54-4a95-8605-c8d413407799\",                        [{\"alignmentgroup\":\"True\",\"hovertemplate\":\"PERP_RACE=%{x}<br>count=%{y}<extra></extra>\",\"legendgroup\":\"\",\"marker\":{\"color\":\"#636efa\",\"pattern\":{\"shape\":\"\"}},\"name\":\"\",\"offsetgroup\":\"\",\"orientation\":\"v\",\"showlegend\":false,\"textposition\":\"auto\",\"x\":[\"BLACK\",\"WHITE HISPANIC\",\"WHITE\",\"BLACK HISPANIC\",\"ASIAN / PACIFIC ISLANDER\",\"UNKNOWN\",\"AMERICAN INDIAN/ALASKAN NATIVE\"],\"xaxis\":\"x\",\"y\":[93851,47241,19325,17367,10215,687,518],\"yaxis\":\"y\",\"type\":\"bar\"}],                        {\"template\":{\"data\":{\"histogram2dcontour\":[{\"type\":\"histogram2dcontour\",\"colorbar\":{\"outlinewidth\":0,\"ticks\":\"\"},\"colorscale\":[[0.0,\"#0d0887\"],[0.1111111111111111,\"#46039f\"],[0.2222222222222222,\"#7201a8\"],[0.3333333333333333,\"#9c179e\"],[0.4444444444444444,\"#bd3786\"],[0.5555555555555556,\"#d8576b\"],[0.6666666666666666,\"#ed7953\"],[0.7777777777777778,\"#fb9f3a\"],[0.8888888888888888,\"#fdca26\"],[1.0,\"#f0f921\"]]}],\"choropleth\":[{\"type\":\"choropleth\",\"colorbar\":{\"outlinewidth\":0,\"ticks\":\"\"}}],\"histogram2d\":[{\"type\":\"histogram2d\",\"colorbar\":{\"outlinewidth\":0,\"ticks\":\"\"},\"colorscale\":[[0.0,\"#0d0887\"],[0.1111111111111111,\"#46039f\"],[0.2222222222222222,\"#7201a8\"],[0.3333333333333333,\"#9c179e\"],[0.4444444444444444,\"#bd3786\"],[0.5555555555555556,\"#d8576b\"],[0.6666666666666666,\"#ed7953\"],[0.7777777777777778,\"#fb9f3a\"],[0.8888888888888888,\"#fdca26\"],[1.0,\"#f0f921\"]]}],\"heatmap\":[{\"type\":\"heatmap\",\"colorbar\":{\"outlinewidth\":0,\"ticks\":\"\"},\"colorscale\":[[0.0,\"#0d0887\"],[0.1111111111111111,\"#46039f\"],[0.2222222222222222,\"#7201a8\"],[0.3333333333333333,\"#9c179e\"],[0.4444444444444444,\"#bd3786\"],[0.5555555555555556,\"#d8576b\"],[0.6666666666666666,\"#ed7953\"],[0.7777777777777778,\"#fb9f3a\"],[0.8888888888888888,\"#fdca26\"],[1.0,\"#f0f921\"]]}],\"heatmapgl\":[{\"type\":\"heatmapgl\",\"colorbar\":{\"outlinewidth\":0,\"ticks\":\"\"},\"colorscale\":[[0.0,\"#0d0887\"],[0.1111111111111111,\"#46039f\"],[0.2222222222222222,\"#7201a8\"],[0.3333333333333333,\"#9c179e\"],[0.4444444444444444,\"#bd3786\"],[0.5555555555555556,\"#d8576b\"],[0.6666666666666666,\"#ed7953\"],[0.7777777777777778,\"#fb9f3a\"],[0.8888888888888888,\"#fdca26\"],[1.0,\"#f0f921\"]]}],\"contourcarpet\":[{\"type\":\"contourcarpet\",\"colorbar\":{\"outlinewidth\":0,\"ticks\":\"\"}}],\"contour\":[{\"type\":\"contour\",\"colorbar\":{\"outlinewidth\":0,\"ticks\":\"\"},\"colorscale\":[[0.0,\"#0d0887\"],[0.1111111111111111,\"#46039f\"],[0.2222222222222222,\"#7201a8\"],[0.3333333333333333,\"#9c179e\"],[0.4444444444444444,\"#bd3786\"],[0.5555555555555556,\"#d8576b\"],[0.6666666666666666,\"#ed7953\"],[0.7777777777777778,\"#fb9f3a\"],[0.8888888888888888,\"#fdca26\"],[1.0,\"#f0f921\"]]}],\"surface\":[{\"type\":\"surface\",\"colorbar\":{\"outlinewidth\":0,\"ticks\":\"\"},\"colorscale\":[[0.0,\"#0d0887\"],[0.1111111111111111,\"#46039f\"],[0.2222222222222222,\"#7201a8\"],[0.3333333333333333,\"#9c179e\"],[0.4444444444444444,\"#bd3786\"],[0.5555555555555556,\"#d8576b\"],[0.6666666666666666,\"#ed7953\"],[0.7777777777777778,\"#fb9f3a\"],[0.8888888888888888,\"#fdca26\"],[1.0,\"#f0f921\"]]}],\"mesh3d\":[{\"type\":\"mesh3d\",\"colorbar\":{\"outlinewidth\":0,\"ticks\":\"\"}}],\"scatter\":[{\"fillpattern\":{\"fillmode\":\"overlay\",\"size\":10,\"solidity\":0.2},\"type\":\"scatter\"}],\"parcoords\":[{\"type\":\"parcoords\",\"line\":{\"colorbar\":{\"outlinewidth\":0,\"ticks\":\"\"}}}],\"scatterpolargl\":[{\"type\":\"scatterpolargl\",\"marker\":{\"colorbar\":{\"outlinewidth\":0,\"ticks\":\"\"}}}],\"bar\":[{\"error_x\":{\"color\":\"#2a3f5f\"},\"error_y\":{\"color\":\"#2a3f5f\"},\"marker\":{\"line\":{\"color\":\"#E5ECF6\",\"width\":0.5},\"pattern\":{\"fillmode\":\"overlay\",\"size\":10,\"solidity\":0.2}},\"type\":\"bar\"}],\"scattergeo\":[{\"type\":\"scattergeo\",\"marker\":{\"colorbar\":{\"outlinewidth\":0,\"ticks\":\"\"}}}],\"scatterpolar\":[{\"type\":\"scatterpolar\",\"marker\":{\"colorbar\":{\"outlinewidth\":0,\"ticks\":\"\"}}}],\"histogram\":[{\"marker\":{\"pattern\":{\"fillmode\":\"overlay\",\"size\":10,\"solidity\":0.2}},\"type\":\"histogram\"}],\"scattergl\":[{\"type\":\"scattergl\",\"marker\":{\"colorbar\":{\"outlinewidth\":0,\"ticks\":\"\"}}}],\"scatter3d\":[{\"type\":\"scatter3d\",\"line\":{\"colorbar\":{\"outlinewidth\":0,\"ticks\":\"\"}},\"marker\":{\"colorbar\":{\"outlinewidth\":0,\"ticks\":\"\"}}}],\"scattermapbox\":[{\"type\":\"scattermapbox\",\"marker\":{\"colorbar\":{\"outlinewidth\":0,\"ticks\":\"\"}}}],\"scatterternary\":[{\"type\":\"scatterternary\",\"marker\":{\"colorbar\":{\"outlinewidth\":0,\"ticks\":\"\"}}}],\"scattercarpet\":[{\"type\":\"scattercarpet\",\"marker\":{\"colorbar\":{\"outlinewidth\":0,\"ticks\":\"\"}}}],\"carpet\":[{\"aaxis\":{\"endlinecolor\":\"#2a3f5f\",\"gridcolor\":\"white\",\"linecolor\":\"white\",\"minorgridcolor\":\"white\",\"startlinecolor\":\"#2a3f5f\"},\"baxis\":{\"endlinecolor\":\"#2a3f5f\",\"gridcolor\":\"white\",\"linecolor\":\"white\",\"minorgridcolor\":\"white\",\"startlinecolor\":\"#2a3f5f\"},\"type\":\"carpet\"}],\"table\":[{\"cells\":{\"fill\":{\"color\":\"#EBF0F8\"},\"line\":{\"color\":\"white\"}},\"header\":{\"fill\":{\"color\":\"#C8D4E3\"},\"line\":{\"color\":\"white\"}},\"type\":\"table\"}],\"barpolar\":[{\"marker\":{\"line\":{\"color\":\"#E5ECF6\",\"width\":0.5},\"pattern\":{\"fillmode\":\"overlay\",\"size\":10,\"solidity\":0.2}},\"type\":\"barpolar\"}],\"pie\":[{\"automargin\":true,\"type\":\"pie\"}]},\"layout\":{\"autotypenumbers\":\"strict\",\"colorway\":[\"#636efa\",\"#EF553B\",\"#00cc96\",\"#ab63fa\",\"#FFA15A\",\"#19d3f3\",\"#FF6692\",\"#B6E880\",\"#FF97FF\",\"#FECB52\"],\"font\":{\"color\":\"#2a3f5f\"},\"hovermode\":\"closest\",\"hoverlabel\":{\"align\":\"left\"},\"paper_bgcolor\":\"white\",\"plot_bgcolor\":\"#E5ECF6\",\"polar\":{\"bgcolor\":\"#E5ECF6\",\"angularaxis\":{\"gridcolor\":\"white\",\"linecolor\":\"white\",\"ticks\":\"\"},\"radialaxis\":{\"gridcolor\":\"white\",\"linecolor\":\"white\",\"ticks\":\"\"}},\"ternary\":{\"bgcolor\":\"#E5ECF6\",\"aaxis\":{\"gridcolor\":\"white\",\"linecolor\":\"white\",\"ticks\":\"\"},\"baxis\":{\"gridcolor\":\"white\",\"linecolor\":\"white\",\"ticks\":\"\"},\"caxis\":{\"gridcolor\":\"white\",\"linecolor\":\"white\",\"ticks\":\"\"}},\"coloraxis\":{\"colorbar\":{\"outlinewidth\":0,\"ticks\":\"\"}},\"colorscale\":{\"sequential\":[[0.0,\"#0d0887\"],[0.1111111111111111,\"#46039f\"],[0.2222222222222222,\"#7201a8\"],[0.3333333333333333,\"#9c179e\"],[0.4444444444444444,\"#bd3786\"],[0.5555555555555556,\"#d8576b\"],[0.6666666666666666,\"#ed7953\"],[0.7777777777777778,\"#fb9f3a\"],[0.8888888888888888,\"#fdca26\"],[1.0,\"#f0f921\"]],\"sequentialminus\":[[0.0,\"#0d0887\"],[0.1111111111111111,\"#46039f\"],[0.2222222222222222,\"#7201a8\"],[0.3333333333333333,\"#9c179e\"],[0.4444444444444444,\"#bd3786\"],[0.5555555555555556,\"#d8576b\"],[0.6666666666666666,\"#ed7953\"],[0.7777777777777778,\"#fb9f3a\"],[0.8888888888888888,\"#fdca26\"],[1.0,\"#f0f921\"]],\"diverging\":[[0,\"#8e0152\"],[0.1,\"#c51b7d\"],[0.2,\"#de77ae\"],[0.3,\"#f1b6da\"],[0.4,\"#fde0ef\"],[0.5,\"#f7f7f7\"],[0.6,\"#e6f5d0\"],[0.7,\"#b8e186\"],[0.8,\"#7fbc41\"],[0.9,\"#4d9221\"],[1,\"#276419\"]]},\"xaxis\":{\"gridcolor\":\"white\",\"linecolor\":\"white\",\"ticks\":\"\",\"title\":{\"standoff\":15},\"zerolinecolor\":\"white\",\"automargin\":true,\"zerolinewidth\":2},\"yaxis\":{\"gridcolor\":\"white\",\"linecolor\":\"white\",\"ticks\":\"\",\"title\":{\"standoff\":15},\"zerolinecolor\":\"white\",\"automargin\":true,\"zerolinewidth\":2},\"scene\":{\"xaxis\":{\"backgroundcolor\":\"#E5ECF6\",\"gridcolor\":\"white\",\"linecolor\":\"white\",\"showbackground\":true,\"ticks\":\"\",\"zerolinecolor\":\"white\",\"gridwidth\":2},\"yaxis\":{\"backgroundcolor\":\"#E5ECF6\",\"gridcolor\":\"white\",\"linecolor\":\"white\",\"showbackground\":true,\"ticks\":\"\",\"zerolinecolor\":\"white\",\"gridwidth\":2},\"zaxis\":{\"backgroundcolor\":\"#E5ECF6\",\"gridcolor\":\"white\",\"linecolor\":\"white\",\"showbackground\":true,\"ticks\":\"\",\"zerolinecolor\":\"white\",\"gridwidth\":2}},\"shapedefaults\":{\"line\":{\"color\":\"#2a3f5f\"}},\"annotationdefaults\":{\"arrowcolor\":\"#2a3f5f\",\"arrowhead\":0,\"arrowwidth\":1},\"geo\":{\"bgcolor\":\"white\",\"landcolor\":\"#E5ECF6\",\"subunitcolor\":\"white\",\"showland\":true,\"showlakes\":true,\"lakecolor\":\"white\"},\"title\":{\"x\":0.05},\"mapbox\":{\"style\":\"light\"}}},\"xaxis\":{\"anchor\":\"y\",\"domain\":[0.0,1.0],\"title\":{\"text\":\"PERP_RACE\"}},\"yaxis\":{\"anchor\":\"x\",\"domain\":[0.0,1.0],\"title\":{\"text\":\"count\"}},\"legend\":{\"tracegroupgap\":0},\"title\":{\"text\":\"Arrests by Race\"},\"barmode\":\"relative\"},                        {\"responsive\": true}                    ).then(function(){\n",
       "                            \n",
       "var gd = document.getElementById('77932ec8-2d54-4a95-8605-c8d413407799');\n",
       "var x = new MutationObserver(function (mutations, observer) {{\n",
       "        var display = window.getComputedStyle(gd).display;\n",
       "        if (!display || display === 'none') {{\n",
       "            console.log([gd, 'removed!']);\n",
       "            Plotly.purge(gd);\n",
       "            observer.disconnect();\n",
       "        }}\n",
       "}});\n",
       "\n",
       "// Listen for the removal of the full notebook cells\n",
       "var notebookContainer = gd.closest('#notebook-container');\n",
       "if (notebookContainer) {{\n",
       "    x.observe(notebookContainer, {childList: true});\n",
       "}}\n",
       "\n",
       "// Listen for the clearing of the current output cell\n",
       "var outputEl = gd.closest('.output');\n",
       "if (outputEl) {{\n",
       "    x.observe(outputEl, {childList: true});\n",
       "}}\n",
       "\n",
       "                        })                };                            </script>        </div>\n",
       "</body>\n",
       "</html>"
      ]
     },
     "metadata": {},
     "output_type": "display_data"
    }
   ],
   "source": [
    "# Group the arrests by country and count the number of arrests\n",
    "race_counts = arrest.groupBy(\"PERP_RACE\").count().orderBy(\"count\", ascending=False)\n",
    "# Extract the top 10 countries with the highest arrest counts\n",
    "top_race = race_counts.limit(10).toPandas()\n",
    "# Create a bar plot using Matplotlib\n",
    "import plotly.express as px\n",
    "\n",
    "# Create a bar plot using Plotly Express\n",
    "fig = px.bar(top_race, x=\"PERP_RACE\", y=\"count\", title=\"Arrests by Race\")\n",
    "fig.show()"
   ]
  },
  {
   "cell_type": "markdown",
   "metadata": {
    "id": "O-xRhLx4kzoB"
   },
   "source": [
    "### Total Arrests By Gender"
   ]
  },
  {
   "cell_type": "code",
   "execution_count": 171,
   "metadata": {
    "colab": {
     "base_uri": "https://localhost:8080/",
     "height": 542
    },
    "id": "zhiiVvMtluro",
    "outputId": "a4cc25c7-f15b-4f75-f34f-fb8e34d17f23"
   },
   "outputs": [
    {
     "data": {
      "text/html": [
       "<html>\n",
       "<head><meta charset=\"utf-8\" /></head>\n",
       "<body>\n",
       "    <div>            <script src=\"https://cdnjs.cloudflare.com/ajax/libs/mathjax/2.7.5/MathJax.js?config=TeX-AMS-MML_SVG\"></script><script type=\"text/javascript\">if (window.MathJax && window.MathJax.Hub && window.MathJax.Hub.Config) {window.MathJax.Hub.Config({SVG: {font: \"STIX-Web\"}});}</script>                <script type=\"text/javascript\">window.PlotlyConfig = {MathJaxConfig: 'local'};</script>\n",
       "        <script src=\"https://cdn.plot.ly/plotly-2.18.2.min.js\"></script>                <div id=\"527becaa-0c3f-432f-9074-6e27a9da614d\" class=\"plotly-graph-div\" style=\"height:525px; width:100%;\"></div>            <script type=\"text/javascript\">                                    window.PLOTLYENV=window.PLOTLYENV || {};                                    if (document.getElementById(\"527becaa-0c3f-432f-9074-6e27a9da614d\")) {                    Plotly.newPlot(                        \"527becaa-0c3f-432f-9074-6e27a9da614d\",                        [{\"alignmentgroup\":\"True\",\"hovertemplate\":\"PERP_SEX=%{x}<br>count=%{y}<extra></extra>\",\"legendgroup\":\"\",\"marker\":{\"color\":\"#636efa\",\"pattern\":{\"shape\":\"\"}},\"name\":\"\",\"offsetgroup\":\"\",\"orientation\":\"v\",\"showlegend\":false,\"textposition\":\"auto\",\"x\":[\"M\",\"F\"],\"xaxis\":\"x\",\"y\":[156112,33092],\"yaxis\":\"y\",\"type\":\"bar\"}],                        {\"template\":{\"data\":{\"histogram2dcontour\":[{\"type\":\"histogram2dcontour\",\"colorbar\":{\"outlinewidth\":0,\"ticks\":\"\"},\"colorscale\":[[0.0,\"#0d0887\"],[0.1111111111111111,\"#46039f\"],[0.2222222222222222,\"#7201a8\"],[0.3333333333333333,\"#9c179e\"],[0.4444444444444444,\"#bd3786\"],[0.5555555555555556,\"#d8576b\"],[0.6666666666666666,\"#ed7953\"],[0.7777777777777778,\"#fb9f3a\"],[0.8888888888888888,\"#fdca26\"],[1.0,\"#f0f921\"]]}],\"choropleth\":[{\"type\":\"choropleth\",\"colorbar\":{\"outlinewidth\":0,\"ticks\":\"\"}}],\"histogram2d\":[{\"type\":\"histogram2d\",\"colorbar\":{\"outlinewidth\":0,\"ticks\":\"\"},\"colorscale\":[[0.0,\"#0d0887\"],[0.1111111111111111,\"#46039f\"],[0.2222222222222222,\"#7201a8\"],[0.3333333333333333,\"#9c179e\"],[0.4444444444444444,\"#bd3786\"],[0.5555555555555556,\"#d8576b\"],[0.6666666666666666,\"#ed7953\"],[0.7777777777777778,\"#fb9f3a\"],[0.8888888888888888,\"#fdca26\"],[1.0,\"#f0f921\"]]}],\"heatmap\":[{\"type\":\"heatmap\",\"colorbar\":{\"outlinewidth\":0,\"ticks\":\"\"},\"colorscale\":[[0.0,\"#0d0887\"],[0.1111111111111111,\"#46039f\"],[0.2222222222222222,\"#7201a8\"],[0.3333333333333333,\"#9c179e\"],[0.4444444444444444,\"#bd3786\"],[0.5555555555555556,\"#d8576b\"],[0.6666666666666666,\"#ed7953\"],[0.7777777777777778,\"#fb9f3a\"],[0.8888888888888888,\"#fdca26\"],[1.0,\"#f0f921\"]]}],\"heatmapgl\":[{\"type\":\"heatmapgl\",\"colorbar\":{\"outlinewidth\":0,\"ticks\":\"\"},\"colorscale\":[[0.0,\"#0d0887\"],[0.1111111111111111,\"#46039f\"],[0.2222222222222222,\"#7201a8\"],[0.3333333333333333,\"#9c179e\"],[0.4444444444444444,\"#bd3786\"],[0.5555555555555556,\"#d8576b\"],[0.6666666666666666,\"#ed7953\"],[0.7777777777777778,\"#fb9f3a\"],[0.8888888888888888,\"#fdca26\"],[1.0,\"#f0f921\"]]}],\"contourcarpet\":[{\"type\":\"contourcarpet\",\"colorbar\":{\"outlinewidth\":0,\"ticks\":\"\"}}],\"contour\":[{\"type\":\"contour\",\"colorbar\":{\"outlinewidth\":0,\"ticks\":\"\"},\"colorscale\":[[0.0,\"#0d0887\"],[0.1111111111111111,\"#46039f\"],[0.2222222222222222,\"#7201a8\"],[0.3333333333333333,\"#9c179e\"],[0.4444444444444444,\"#bd3786\"],[0.5555555555555556,\"#d8576b\"],[0.6666666666666666,\"#ed7953\"],[0.7777777777777778,\"#fb9f3a\"],[0.8888888888888888,\"#fdca26\"],[1.0,\"#f0f921\"]]}],\"surface\":[{\"type\":\"surface\",\"colorbar\":{\"outlinewidth\":0,\"ticks\":\"\"},\"colorscale\":[[0.0,\"#0d0887\"],[0.1111111111111111,\"#46039f\"],[0.2222222222222222,\"#7201a8\"],[0.3333333333333333,\"#9c179e\"],[0.4444444444444444,\"#bd3786\"],[0.5555555555555556,\"#d8576b\"],[0.6666666666666666,\"#ed7953\"],[0.7777777777777778,\"#fb9f3a\"],[0.8888888888888888,\"#fdca26\"],[1.0,\"#f0f921\"]]}],\"mesh3d\":[{\"type\":\"mesh3d\",\"colorbar\":{\"outlinewidth\":0,\"ticks\":\"\"}}],\"scatter\":[{\"fillpattern\":{\"fillmode\":\"overlay\",\"size\":10,\"solidity\":0.2},\"type\":\"scatter\"}],\"parcoords\":[{\"type\":\"parcoords\",\"line\":{\"colorbar\":{\"outlinewidth\":0,\"ticks\":\"\"}}}],\"scatterpolargl\":[{\"type\":\"scatterpolargl\",\"marker\":{\"colorbar\":{\"outlinewidth\":0,\"ticks\":\"\"}}}],\"bar\":[{\"error_x\":{\"color\":\"#2a3f5f\"},\"error_y\":{\"color\":\"#2a3f5f\"},\"marker\":{\"line\":{\"color\":\"#E5ECF6\",\"width\":0.5},\"pattern\":{\"fillmode\":\"overlay\",\"size\":10,\"solidity\":0.2}},\"type\":\"bar\"}],\"scattergeo\":[{\"type\":\"scattergeo\",\"marker\":{\"colorbar\":{\"outlinewidth\":0,\"ticks\":\"\"}}}],\"scatterpolar\":[{\"type\":\"scatterpolar\",\"marker\":{\"colorbar\":{\"outlinewidth\":0,\"ticks\":\"\"}}}],\"histogram\":[{\"marker\":{\"pattern\":{\"fillmode\":\"overlay\",\"size\":10,\"solidity\":0.2}},\"type\":\"histogram\"}],\"scattergl\":[{\"type\":\"scattergl\",\"marker\":{\"colorbar\":{\"outlinewidth\":0,\"ticks\":\"\"}}}],\"scatter3d\":[{\"type\":\"scatter3d\",\"line\":{\"colorbar\":{\"outlinewidth\":0,\"ticks\":\"\"}},\"marker\":{\"colorbar\":{\"outlinewidth\":0,\"ticks\":\"\"}}}],\"scattermapbox\":[{\"type\":\"scattermapbox\",\"marker\":{\"colorbar\":{\"outlinewidth\":0,\"ticks\":\"\"}}}],\"scatterternary\":[{\"type\":\"scatterternary\",\"marker\":{\"colorbar\":{\"outlinewidth\":0,\"ticks\":\"\"}}}],\"scattercarpet\":[{\"type\":\"scattercarpet\",\"marker\":{\"colorbar\":{\"outlinewidth\":0,\"ticks\":\"\"}}}],\"carpet\":[{\"aaxis\":{\"endlinecolor\":\"#2a3f5f\",\"gridcolor\":\"white\",\"linecolor\":\"white\",\"minorgridcolor\":\"white\",\"startlinecolor\":\"#2a3f5f\"},\"baxis\":{\"endlinecolor\":\"#2a3f5f\",\"gridcolor\":\"white\",\"linecolor\":\"white\",\"minorgridcolor\":\"white\",\"startlinecolor\":\"#2a3f5f\"},\"type\":\"carpet\"}],\"table\":[{\"cells\":{\"fill\":{\"color\":\"#EBF0F8\"},\"line\":{\"color\":\"white\"}},\"header\":{\"fill\":{\"color\":\"#C8D4E3\"},\"line\":{\"color\":\"white\"}},\"type\":\"table\"}],\"barpolar\":[{\"marker\":{\"line\":{\"color\":\"#E5ECF6\",\"width\":0.5},\"pattern\":{\"fillmode\":\"overlay\",\"size\":10,\"solidity\":0.2}},\"type\":\"barpolar\"}],\"pie\":[{\"automargin\":true,\"type\":\"pie\"}]},\"layout\":{\"autotypenumbers\":\"strict\",\"colorway\":[\"#636efa\",\"#EF553B\",\"#00cc96\",\"#ab63fa\",\"#FFA15A\",\"#19d3f3\",\"#FF6692\",\"#B6E880\",\"#FF97FF\",\"#FECB52\"],\"font\":{\"color\":\"#2a3f5f\"},\"hovermode\":\"closest\",\"hoverlabel\":{\"align\":\"left\"},\"paper_bgcolor\":\"white\",\"plot_bgcolor\":\"#E5ECF6\",\"polar\":{\"bgcolor\":\"#E5ECF6\",\"angularaxis\":{\"gridcolor\":\"white\",\"linecolor\":\"white\",\"ticks\":\"\"},\"radialaxis\":{\"gridcolor\":\"white\",\"linecolor\":\"white\",\"ticks\":\"\"}},\"ternary\":{\"bgcolor\":\"#E5ECF6\",\"aaxis\":{\"gridcolor\":\"white\",\"linecolor\":\"white\",\"ticks\":\"\"},\"baxis\":{\"gridcolor\":\"white\",\"linecolor\":\"white\",\"ticks\":\"\"},\"caxis\":{\"gridcolor\":\"white\",\"linecolor\":\"white\",\"ticks\":\"\"}},\"coloraxis\":{\"colorbar\":{\"outlinewidth\":0,\"ticks\":\"\"}},\"colorscale\":{\"sequential\":[[0.0,\"#0d0887\"],[0.1111111111111111,\"#46039f\"],[0.2222222222222222,\"#7201a8\"],[0.3333333333333333,\"#9c179e\"],[0.4444444444444444,\"#bd3786\"],[0.5555555555555556,\"#d8576b\"],[0.6666666666666666,\"#ed7953\"],[0.7777777777777778,\"#fb9f3a\"],[0.8888888888888888,\"#fdca26\"],[1.0,\"#f0f921\"]],\"sequentialminus\":[[0.0,\"#0d0887\"],[0.1111111111111111,\"#46039f\"],[0.2222222222222222,\"#7201a8\"],[0.3333333333333333,\"#9c179e\"],[0.4444444444444444,\"#bd3786\"],[0.5555555555555556,\"#d8576b\"],[0.6666666666666666,\"#ed7953\"],[0.7777777777777778,\"#fb9f3a\"],[0.8888888888888888,\"#fdca26\"],[1.0,\"#f0f921\"]],\"diverging\":[[0,\"#8e0152\"],[0.1,\"#c51b7d\"],[0.2,\"#de77ae\"],[0.3,\"#f1b6da\"],[0.4,\"#fde0ef\"],[0.5,\"#f7f7f7\"],[0.6,\"#e6f5d0\"],[0.7,\"#b8e186\"],[0.8,\"#7fbc41\"],[0.9,\"#4d9221\"],[1,\"#276419\"]]},\"xaxis\":{\"gridcolor\":\"white\",\"linecolor\":\"white\",\"ticks\":\"\",\"title\":{\"standoff\":15},\"zerolinecolor\":\"white\",\"automargin\":true,\"zerolinewidth\":2},\"yaxis\":{\"gridcolor\":\"white\",\"linecolor\":\"white\",\"ticks\":\"\",\"title\":{\"standoff\":15},\"zerolinecolor\":\"white\",\"automargin\":true,\"zerolinewidth\":2},\"scene\":{\"xaxis\":{\"backgroundcolor\":\"#E5ECF6\",\"gridcolor\":\"white\",\"linecolor\":\"white\",\"showbackground\":true,\"ticks\":\"\",\"zerolinecolor\":\"white\",\"gridwidth\":2},\"yaxis\":{\"backgroundcolor\":\"#E5ECF6\",\"gridcolor\":\"white\",\"linecolor\":\"white\",\"showbackground\":true,\"ticks\":\"\",\"zerolinecolor\":\"white\",\"gridwidth\":2},\"zaxis\":{\"backgroundcolor\":\"#E5ECF6\",\"gridcolor\":\"white\",\"linecolor\":\"white\",\"showbackground\":true,\"ticks\":\"\",\"zerolinecolor\":\"white\",\"gridwidth\":2}},\"shapedefaults\":{\"line\":{\"color\":\"#2a3f5f\"}},\"annotationdefaults\":{\"arrowcolor\":\"#2a3f5f\",\"arrowhead\":0,\"arrowwidth\":1},\"geo\":{\"bgcolor\":\"white\",\"landcolor\":\"#E5ECF6\",\"subunitcolor\":\"white\",\"showland\":true,\"showlakes\":true,\"lakecolor\":\"white\"},\"title\":{\"x\":0.05},\"mapbox\":{\"style\":\"light\"}}},\"xaxis\":{\"anchor\":\"y\",\"domain\":[0.0,1.0],\"title\":{\"text\":\"PERP_SEX\"}},\"yaxis\":{\"anchor\":\"x\",\"domain\":[0.0,1.0],\"title\":{\"text\":\"count\"}},\"legend\":{\"tracegroupgap\":0},\"title\":{\"text\":\"Arrests by Sex\"},\"barmode\":\"relative\"},                        {\"responsive\": true}                    ).then(function(){\n",
       "                            \n",
       "var gd = document.getElementById('527becaa-0c3f-432f-9074-6e27a9da614d');\n",
       "var x = new MutationObserver(function (mutations, observer) {{\n",
       "        var display = window.getComputedStyle(gd).display;\n",
       "        if (!display || display === 'none') {{\n",
       "            console.log([gd, 'removed!']);\n",
       "            Plotly.purge(gd);\n",
       "            observer.disconnect();\n",
       "        }}\n",
       "}});\n",
       "\n",
       "// Listen for the removal of the full notebook cells\n",
       "var notebookContainer = gd.closest('#notebook-container');\n",
       "if (notebookContainer) {{\n",
       "    x.observe(notebookContainer, {childList: true});\n",
       "}}\n",
       "\n",
       "// Listen for the clearing of the current output cell\n",
       "var outputEl = gd.closest('.output');\n",
       "if (outputEl) {{\n",
       "    x.observe(outputEl, {childList: true});\n",
       "}}\n",
       "\n",
       "                        })                };                            </script>        </div>\n",
       "</body>\n",
       "</html>"
      ]
     },
     "metadata": {},
     "output_type": "display_data"
    }
   ],
   "source": [
    "# Group the arrests by country and count the number of arrests\n",
    "sex_counts = arrest.groupBy(\"PERP_SEX\").count().orderBy(\"count\", ascending=False)\n",
    "# Extract the top 10 countries with the highest arrest counts\n",
    "top_sex = sex_counts.limit(10).toPandas()\n",
    "# Create a bar plot using Matplotlib\n",
    "import plotly.express as px\n",
    "\n",
    "# Create a bar plot using Plotly Express\n",
    "fig = px.bar(top_sex, x=\"PERP_SEX\", y=\"count\", title=\"Arrests by Sex\")\n",
    "fig.show()"
   ]
  },
  {
   "cell_type": "markdown",
   "metadata": {
    "id": "eauaiVUBk4m5"
   },
   "source": [
    "### Total Arrests by Age, Race and Gender"
   ]
  },
  {
   "cell_type": "code",
   "execution_count": 172,
   "metadata": {
    "colab": {
     "base_uri": "https://localhost:8080/",
     "height": 1000
    },
    "id": "kEk76TQ7ojuH",
    "outputId": "b89f5266-f0b2-487b-cea6-1fb651f246a1"
   },
   "outputs": [
    {
     "name": "stderr",
     "output_type": "stream",
     "text": [
      "<ipython-input-172-cce7efd109ab>:13: UserWarning:\n",
      "\n",
      "FixedFormatter should only be used together with FixedLocator\n",
      "\n",
      "<ipython-input-172-cce7efd109ab>:17: UserWarning:\n",
      "\n",
      "FixedFormatter should only be used together with FixedLocator\n",
      "\n"
     ]
    },
    {
     "data": {
      "image/png": "[encoded data removed]",
      "text/plain": [
       "<Figure size 1500x1000 with 4 Axes>"
      ]
     },
     "metadata": {},
     "output_type": "display_data"
    }
   ],
   "source": [
    "# Create a 2x2 grid of subplots\n",
    "fig, axs = plt.subplots(2, 2, figsize=(15, 10))\n",
    "\n",
    "# Add bar plots to each subplot\n",
    "axs[0, 0].bar(top_age[\"AGE_GROUP\"], top_age[\"count\"])\n",
    "axs[0, 0].set_title(\"Arrests by Age\")\n",
    "\n",
    "axs[0, 1].barh(top_race[\"PERP_RACE\"], top_race[\"count\"])\n",
    "axs[0, 1].set_title(\"Arrests by Race\")\n",
    "\n",
    "axs[1, 0].bar(top_countries[\"ARREST_BORO\"], top_countries[\"count\"])\n",
    "axs[1, 0].set_title(\"Arrests by Borough\")\n",
    "axs[1, 0].set_xticklabels([\"Brooklyn\", \"Manhattan\", \"Bronx\", \"Queens\", \"Staten Island\"])\n",
    "\n",
    "axs[1, 1].bar(top_sex[\"PERP_SEX\"], top_sex[\"count\"])\n",
    "axs[1, 1].set_title(\"Arrests by Sex\")\n",
    "axs[1, 1].set_xticklabels([\"Male\", \"Female\"])\n",
    "\n",
    "# Adjust spacing and add a title\n",
    "fig.subplots_adjust(wspace=0.7, hspace=0.5)\n",
    "\n",
    "fig.suptitle(\"Arrests by Age, Race, Country, and Sex\")\n",
    "\n",
    "# Show the plot\n",
    "plt.show()"
   ]
  },
  {
   "cell_type": "markdown",
   "metadata": {
    "id": "4xL7uxJO3Yh4"
   },
   "source": [
    "As we can see:\n",
    ">The highest arrest count by **age** is between 25 and 44 years old.\n",
    "\n",
    ">The **borough** were we have the highest arrest count is is Brooklyn.\n",
    "\n",
    "> **Male** arrests are higher than female arrests.\n",
    "\n",
    ">**Black** people have the highest arrest count."
   ]
  },
  {
   "cell_type": "markdown",
   "metadata": {
    "id": "YswwmVo3ouF3"
   },
   "source": [
    "### Total Arrests Per Precinct"
   ]
  },
  {
   "cell_type": "code",
   "execution_count": 173,
   "metadata": {
    "id": "EEh6ucefRLuF"
   },
   "outputs": [],
   "source": [
    "from pyspark.sql.functions import col"
   ]
  },
  {
   "cell_type": "code",
   "execution_count": 174,
   "metadata": {
    "colab": {
     "base_uri": "https://localhost:8080/",
     "height": 542
    },
    "id": "LJIun-UZRNrm",
    "outputId": "197e6707-a1e2-4595-a0a3-d021de933f6f"
   },
   "outputs": [
    {
     "data": {
      "text/html": [
       "<html>\n",
       "<head><meta charset=\"utf-8\" /></head>\n",
       "<body>\n",
       "    <div>            <script src=\"https://cdnjs.cloudflare.com/ajax/libs/mathjax/2.7.5/MathJax.js?config=TeX-AMS-MML_SVG\"></script><script type=\"text/javascript\">if (window.MathJax && window.MathJax.Hub && window.MathJax.Hub.Config) {window.MathJax.Hub.Config({SVG: {font: \"STIX-Web\"}});}</script>                <script type=\"text/javascript\">window.PlotlyConfig = {MathJaxConfig: 'local'};</script>\n",
       "        <script src=\"https://cdn.plot.ly/plotly-2.18.2.min.js\"></script>                <div id=\"08c38d80-5539-4f5b-ab68-c6430fd6edfd\" class=\"plotly-graph-div\" style=\"height:525px; width:100%;\"></div>            <script type=\"text/javascript\">                                    window.PLOTLYENV=window.PLOTLYENV || {};                                    if (document.getElementById(\"08c38d80-5539-4f5b-ab68-c6430fd6edfd\")) {                    Plotly.newPlot(                        \"08c38d80-5539-4f5b-ab68-c6430fd6edfd\",                        [{\"alignmentgroup\":\"True\",\"hovertemplate\":\"Precinct=%{x}<br>Number of Arrests=%{y}<extra></extra>\",\"legendgroup\":\"\",\"marker\":{\"color\":\"#636efa\",\"pattern\":{\"shape\":\"\"}},\"name\":\"\",\"offsetgroup\":\"\",\"orientation\":\"v\",\"showlegend\":false,\"textposition\":\"auto\",\"x\":[14,44,40,75,52,43,46,103,114,73,120,47,109,113,42,110,67,48,25,41,5,18,84,115,79,105,60,13,28,70,72,102,49,106,83,32,121,77,1,90,19,9,71,7,107,23,104,108,6,34,63,30,69,33,24,45,62,81,50,10,101,112,68,61,66,122,94,78,88,20,26,100,123,17,76,111,22],\"xaxis\":\"x\",\"y\":[6018,5748,5746,5706,4844,4575,4436,4122,3874,3850,3724,3699,3447,3403,3191,3168,3099,3090,3054,3021,2964,2909,2887,2851,2815,2676,2544,2530,2497,2432,2425,2400,2347,2313,2311,2307,2282,2271,2253,2245,2196,2079,2067,2052,2051,2012,1975,1972,1885,1871,1870,1838,1769,1755,1752,1721,1716,1682,1632,1599,1578,1558,1540,1533,1430,1399,1371,1325,1194,1140,1032,990,964,908,848,743,83],\"yaxis\":\"y\",\"type\":\"bar\"}],                        {\"template\":{\"data\":{\"histogram2dcontour\":[{\"type\":\"histogram2dcontour\",\"colorbar\":{\"outlinewidth\":0,\"ticks\":\"\"},\"colorscale\":[[0.0,\"#0d0887\"],[0.1111111111111111,\"#46039f\"],[0.2222222222222222,\"#7201a8\"],[0.3333333333333333,\"#9c179e\"],[0.4444444444444444,\"#bd3786\"],[0.5555555555555556,\"#d8576b\"],[0.6666666666666666,\"#ed7953\"],[0.7777777777777778,\"#fb9f3a\"],[0.8888888888888888,\"#fdca26\"],[1.0,\"#f0f921\"]]}],\"choropleth\":[{\"type\":\"choropleth\",\"colorbar\":{\"outlinewidth\":0,\"ticks\":\"\"}}],\"histogram2d\":[{\"type\":\"histogram2d\",\"colorbar\":{\"outlinewidth\":0,\"ticks\":\"\"},\"colorscale\":[[0.0,\"#0d0887\"],[0.1111111111111111,\"#46039f\"],[0.2222222222222222,\"#7201a8\"],[0.3333333333333333,\"#9c179e\"],[0.4444444444444444,\"#bd3786\"],[0.5555555555555556,\"#d8576b\"],[0.6666666666666666,\"#ed7953\"],[0.7777777777777778,\"#fb9f3a\"],[0.8888888888888888,\"#fdca26\"],[1.0,\"#f0f921\"]]}],\"heatmap\":[{\"type\":\"heatmap\",\"colorbar\":{\"outlinewidth\":0,\"ticks\":\"\"},\"colorscale\":[[0.0,\"#0d0887\"],[0.1111111111111111,\"#46039f\"],[0.2222222222222222,\"#7201a8\"],[0.3333333333333333,\"#9c179e\"],[0.4444444444444444,\"#bd3786\"],[0.5555555555555556,\"#d8576b\"],[0.6666666666666666,\"#ed7953\"],[0.7777777777777778,\"#fb9f3a\"],[0.8888888888888888,\"#fdca26\"],[1.0,\"#f0f921\"]]}],\"heatmapgl\":[{\"type\":\"heatmapgl\",\"colorbar\":{\"outlinewidth\":0,\"ticks\":\"\"},\"colorscale\":[[0.0,\"#0d0887\"],[0.1111111111111111,\"#46039f\"],[0.2222222222222222,\"#7201a8\"],[0.3333333333333333,\"#9c179e\"],[0.4444444444444444,\"#bd3786\"],[0.5555555555555556,\"#d8576b\"],[0.6666666666666666,\"#ed7953\"],[0.7777777777777778,\"#fb9f3a\"],[0.8888888888888888,\"#fdca26\"],[1.0,\"#f0f921\"]]}],\"contourcarpet\":[{\"type\":\"contourcarpet\",\"colorbar\":{\"outlinewidth\":0,\"ticks\":\"\"}}],\"contour\":[{\"type\":\"contour\",\"colorbar\":{\"outlinewidth\":0,\"ticks\":\"\"},\"colorscale\":[[0.0,\"#0d0887\"],[0.1111111111111111,\"#46039f\"],[0.2222222222222222,\"#7201a8\"],[0.3333333333333333,\"#9c179e\"],[0.4444444444444444,\"#bd3786\"],[0.5555555555555556,\"#d8576b\"],[0.6666666666666666,\"#ed7953\"],[0.7777777777777778,\"#fb9f3a\"],[0.8888888888888888,\"#fdca26\"],[1.0,\"#f0f921\"]]}],\"surface\":[{\"type\":\"surface\",\"colorbar\":{\"outlinewidth\":0,\"ticks\":\"\"},\"colorscale\":[[0.0,\"#0d0887\"],[0.1111111111111111,\"#46039f\"],[0.2222222222222222,\"#7201a8\"],[0.3333333333333333,\"#9c179e\"],[0.4444444444444444,\"#bd3786\"],[0.5555555555555556,\"#d8576b\"],[0.6666666666666666,\"#ed7953\"],[0.7777777777777778,\"#fb9f3a\"],[0.8888888888888888,\"#fdca26\"],[1.0,\"#f0f921\"]]}],\"mesh3d\":[{\"type\":\"mesh3d\",\"colorbar\":{\"outlinewidth\":0,\"ticks\":\"\"}}],\"scatter\":[{\"fillpattern\":{\"fillmode\":\"overlay\",\"size\":10,\"solidity\":0.2},\"type\":\"scatter\"}],\"parcoords\":[{\"type\":\"parcoords\",\"line\":{\"colorbar\":{\"outlinewidth\":0,\"ticks\":\"\"}}}],\"scatterpolargl\":[{\"type\":\"scatterpolargl\",\"marker\":{\"colorbar\":{\"outlinewidth\":0,\"ticks\":\"\"}}}],\"bar\":[{\"error_x\":{\"color\":\"#2a3f5f\"},\"error_y\":{\"color\":\"#2a3f5f\"},\"marker\":{\"line\":{\"color\":\"#E5ECF6\",\"width\":0.5},\"pattern\":{\"fillmode\":\"overlay\",\"size\":10,\"solidity\":0.2}},\"type\":\"bar\"}],\"scattergeo\":[{\"type\":\"scattergeo\",\"marker\":{\"colorbar\":{\"outlinewidth\":0,\"ticks\":\"\"}}}],\"scatterpolar\":[{\"type\":\"scatterpolar\",\"marker\":{\"colorbar\":{\"outlinewidth\":0,\"ticks\":\"\"}}}],\"histogram\":[{\"marker\":{\"pattern\":{\"fillmode\":\"overlay\",\"size\":10,\"solidity\":0.2}},\"type\":\"histogram\"}],\"scattergl\":[{\"type\":\"scattergl\",\"marker\":{\"colorbar\":{\"outlinewidth\":0,\"ticks\":\"\"}}}],\"scatter3d\":[{\"type\":\"scatter3d\",\"line\":{\"colorbar\":{\"outlinewidth\":0,\"ticks\":\"\"}},\"marker\":{\"colorbar\":{\"outlinewidth\":0,\"ticks\":\"\"}}}],\"scattermapbox\":[{\"type\":\"scattermapbox\",\"marker\":{\"colorbar\":{\"outlinewidth\":0,\"ticks\":\"\"}}}],\"scatterternary\":[{\"type\":\"scatterternary\",\"marker\":{\"colorbar\":{\"outlinewidth\":0,\"ticks\":\"\"}}}],\"scattercarpet\":[{\"type\":\"scattercarpet\",\"marker\":{\"colorbar\":{\"outlinewidth\":0,\"ticks\":\"\"}}}],\"carpet\":[{\"aaxis\":{\"endlinecolor\":\"#2a3f5f\",\"gridcolor\":\"white\",\"linecolor\":\"white\",\"minorgridcolor\":\"white\",\"startlinecolor\":\"#2a3f5f\"},\"baxis\":{\"endlinecolor\":\"#2a3f5f\",\"gridcolor\":\"white\",\"linecolor\":\"white\",\"minorgridcolor\":\"white\",\"startlinecolor\":\"#2a3f5f\"},\"type\":\"carpet\"}],\"table\":[{\"cells\":{\"fill\":{\"color\":\"#EBF0F8\"},\"line\":{\"color\":\"white\"}},\"header\":{\"fill\":{\"color\":\"#C8D4E3\"},\"line\":{\"color\":\"white\"}},\"type\":\"table\"}],\"barpolar\":[{\"marker\":{\"line\":{\"color\":\"#E5ECF6\",\"width\":0.5},\"pattern\":{\"fillmode\":\"overlay\",\"size\":10,\"solidity\":0.2}},\"type\":\"barpolar\"}],\"pie\":[{\"automargin\":true,\"type\":\"pie\"}]},\"layout\":{\"autotypenumbers\":\"strict\",\"colorway\":[\"#636efa\",\"#EF553B\",\"#00cc96\",\"#ab63fa\",\"#FFA15A\",\"#19d3f3\",\"#FF6692\",\"#B6E880\",\"#FF97FF\",\"#FECB52\"],\"font\":{\"color\":\"#2a3f5f\"},\"hovermode\":\"closest\",\"hoverlabel\":{\"align\":\"left\"},\"paper_bgcolor\":\"white\",\"plot_bgcolor\":\"#E5ECF6\",\"polar\":{\"bgcolor\":\"#E5ECF6\",\"angularaxis\":{\"gridcolor\":\"white\",\"linecolor\":\"white\",\"ticks\":\"\"},\"radialaxis\":{\"gridcolor\":\"white\",\"linecolor\":\"white\",\"ticks\":\"\"}},\"ternary\":{\"bgcolor\":\"#E5ECF6\",\"aaxis\":{\"gridcolor\":\"white\",\"linecolor\":\"white\",\"ticks\":\"\"},\"baxis\":{\"gridcolor\":\"white\",\"linecolor\":\"white\",\"ticks\":\"\"},\"caxis\":{\"gridcolor\":\"white\",\"linecolor\":\"white\",\"ticks\":\"\"}},\"coloraxis\":{\"colorbar\":{\"outlinewidth\":0,\"ticks\":\"\"}},\"colorscale\":{\"sequential\":[[0.0,\"#0d0887\"],[0.1111111111111111,\"#46039f\"],[0.2222222222222222,\"#7201a8\"],[0.3333333333333333,\"#9c179e\"],[0.4444444444444444,\"#bd3786\"],[0.5555555555555556,\"#d8576b\"],[0.6666666666666666,\"#ed7953\"],[0.7777777777777778,\"#fb9f3a\"],[0.8888888888888888,\"#fdca26\"],[1.0,\"#f0f921\"]],\"sequentialminus\":[[0.0,\"#0d0887\"],[0.1111111111111111,\"#46039f\"],[0.2222222222222222,\"#7201a8\"],[0.3333333333333333,\"#9c179e\"],[0.4444444444444444,\"#bd3786\"],[0.5555555555555556,\"#d8576b\"],[0.6666666666666666,\"#ed7953\"],[0.7777777777777778,\"#fb9f3a\"],[0.8888888888888888,\"#fdca26\"],[1.0,\"#f0f921\"]],\"diverging\":[[0,\"#8e0152\"],[0.1,\"#c51b7d\"],[0.2,\"#de77ae\"],[0.3,\"#f1b6da\"],[0.4,\"#fde0ef\"],[0.5,\"#f7f7f7\"],[0.6,\"#e6f5d0\"],[0.7,\"#b8e186\"],[0.8,\"#7fbc41\"],[0.9,\"#4d9221\"],[1,\"#276419\"]]},\"xaxis\":{\"gridcolor\":\"white\",\"linecolor\":\"white\",\"ticks\":\"\",\"title\":{\"standoff\":15},\"zerolinecolor\":\"white\",\"automargin\":true,\"zerolinewidth\":2},\"yaxis\":{\"gridcolor\":\"white\",\"linecolor\":\"white\",\"ticks\":\"\",\"title\":{\"standoff\":15},\"zerolinecolor\":\"white\",\"automargin\":true,\"zerolinewidth\":2},\"scene\":{\"xaxis\":{\"backgroundcolor\":\"#E5ECF6\",\"gridcolor\":\"white\",\"linecolor\":\"white\",\"showbackground\":true,\"ticks\":\"\",\"zerolinecolor\":\"white\",\"gridwidth\":2},\"yaxis\":{\"backgroundcolor\":\"#E5ECF6\",\"gridcolor\":\"white\",\"linecolor\":\"white\",\"showbackground\":true,\"ticks\":\"\",\"zerolinecolor\":\"white\",\"gridwidth\":2},\"zaxis\":{\"backgroundcolor\":\"#E5ECF6\",\"gridcolor\":\"white\",\"linecolor\":\"white\",\"showbackground\":true,\"ticks\":\"\",\"zerolinecolor\":\"white\",\"gridwidth\":2}},\"shapedefaults\":{\"line\":{\"color\":\"#2a3f5f\"}},\"annotationdefaults\":{\"arrowcolor\":\"#2a3f5f\",\"arrowhead\":0,\"arrowwidth\":1},\"geo\":{\"bgcolor\":\"white\",\"landcolor\":\"#E5ECF6\",\"subunitcolor\":\"white\",\"showland\":true,\"showlakes\":true,\"lakecolor\":\"white\"},\"title\":{\"x\":0.05},\"mapbox\":{\"style\":\"light\"}}},\"xaxis\":{\"anchor\":\"y\",\"domain\":[0.0,1.0],\"title\":{\"text\":\"Precinct\"},\"tickangle\":-90},\"yaxis\":{\"anchor\":\"x\",\"domain\":[0.0,1.0],\"title\":{\"text\":\"Number of Arrests\"}},\"legend\":{\"tracegroupgap\":0},\"title\":{\"text\":\"Arrests by Precinct\"},\"barmode\":\"relative\"},                        {\"responsive\": true}                    ).then(function(){\n",
       "                            \n",
       "var gd = document.getElementById('08c38d80-5539-4f5b-ab68-c6430fd6edfd');\n",
       "var x = new MutationObserver(function (mutations, observer) {{\n",
       "        var display = window.getComputedStyle(gd).display;\n",
       "        if (!display || display === 'none') {{\n",
       "            console.log([gd, 'removed!']);\n",
       "            Plotly.purge(gd);\n",
       "            observer.disconnect();\n",
       "        }}\n",
       "}});\n",
       "\n",
       "// Listen for the removal of the full notebook cells\n",
       "var notebookContainer = gd.closest('#notebook-container');\n",
       "if (notebookContainer) {{\n",
       "    x.observe(notebookContainer, {childList: true});\n",
       "}}\n",
       "\n",
       "// Listen for the clearing of the current output cell\n",
       "var outputEl = gd.closest('.output');\n",
       "if (outputEl) {{\n",
       "    x.observe(outputEl, {childList: true});\n",
       "}}\n",
       "\n",
       "                        })                };                            </script>        </div>\n",
       "</body>\n",
       "</html>"
      ]
     },
     "metadata": {},
     "output_type": "display_data"
    }
   ],
   "source": [
    "# Group the arrests by precinct and count the number of arrests\n",
    "precinct_counts = arrest.groupBy(\"ARREST_PRECINCT\").count().orderBy(col(\"count\").desc())\n",
    "# Convert the result to a Pandas DataFrame for plotting\n",
    "precinct_counts_df = precinct_counts.toPandas()\n",
    "\n",
    "fig = px.bar(precinct_counts_df, x=\"ARREST_PRECINCT\", y=\"count\", \n",
    "             title=\"Arrests by Precinct\", labels={\"ARREST_PRECINCT\": \"Precinct\", \"count\": \"Number of Arrests\"})\n",
    "fig.update_layout(xaxis_tickangle=-90)\n",
    "\n",
    "fig.show()"
   ]
  },
  {
   "cell_type": "markdown",
   "metadata": {
    "id": "kZoJJj5DTIt7"
   },
   "source": [
    "- **Precinct 14** has the highest number of arrests."
   ]
  },
  {
   "cell_type": "markdown",
   "metadata": {
    "id": "qeIcG9Yso2yg"
   },
   "source": [
    "### Total Arrests Per Precinct in Brooklyn"
   ]
  },
  {
   "cell_type": "code",
   "execution_count": 175,
   "metadata": {
    "colab": {
     "base_uri": "https://localhost:8080/",
     "height": 542
    },
    "id": "zx1zv6Ne13Rr",
    "outputId": "674d2bd5-1f17-42da-e16c-deda79690d7c"
   },
   "outputs": [
    {
     "data": {
      "text/html": [
       "<html>\n",
       "<head><meta charset=\"utf-8\" /></head>\n",
       "<body>\n",
       "    <div>            <script src=\"https://cdnjs.cloudflare.com/ajax/libs/mathjax/2.7.5/MathJax.js?config=TeX-AMS-MML_SVG\"></script><script type=\"text/javascript\">if (window.MathJax && window.MathJax.Hub && window.MathJax.Hub.Config) {window.MathJax.Hub.Config({SVG: {font: \"STIX-Web\"}});}</script>                <script type=\"text/javascript\">window.PlotlyConfig = {MathJaxConfig: 'local'};</script>\n",
       "        <script src=\"https://cdn.plot.ly/plotly-2.18.2.min.js\"></script>                <div id=\"93f1ddbe-80f4-4ad9-ba50-70cc5633ad64\" class=\"plotly-graph-div\" style=\"height:525px; width:100%;\"></div>            <script type=\"text/javascript\">                                    window.PLOTLYENV=window.PLOTLYENV || {};                                    if (document.getElementById(\"93f1ddbe-80f4-4ad9-ba50-70cc5633ad64\")) {                    Plotly.newPlot(                        \"93f1ddbe-80f4-4ad9-ba50-70cc5633ad64\",                        [{\"alignmentgroup\":\"True\",\"hovertemplate\":\"Precinct=%{x}<br>Number of Arrests=%{y}<extra></extra>\",\"legendgroup\":\"\",\"marker\":{\"color\":\"#636efa\",\"pattern\":{\"shape\":\"\"}},\"name\":\"\",\"offsetgroup\":\"\",\"orientation\":\"v\",\"showlegend\":false,\"textposition\":\"auto\",\"x\":[75,73,67,84,79,60,70,72,83,77,90,71,63,69,62,81,68,61,66,94,78,88,76],\"xaxis\":\"x\",\"y\":[5706,3850,3099,2887,2815,2544,2432,2425,2311,2271,2245,2067,1870,1769,1716,1682,1540,1533,1430,1371,1325,1194,848],\"yaxis\":\"y\",\"type\":\"bar\"}],                        {\"template\":{\"data\":{\"histogram2dcontour\":[{\"type\":\"histogram2dcontour\",\"colorbar\":{\"outlinewidth\":0,\"ticks\":\"\"},\"colorscale\":[[0.0,\"#0d0887\"],[0.1111111111111111,\"#46039f\"],[0.2222222222222222,\"#7201a8\"],[0.3333333333333333,\"#9c179e\"],[0.4444444444444444,\"#bd3786\"],[0.5555555555555556,\"#d8576b\"],[0.6666666666666666,\"#ed7953\"],[0.7777777777777778,\"#fb9f3a\"],[0.8888888888888888,\"#fdca26\"],[1.0,\"#f0f921\"]]}],\"choropleth\":[{\"type\":\"choropleth\",\"colorbar\":{\"outlinewidth\":0,\"ticks\":\"\"}}],\"histogram2d\":[{\"type\":\"histogram2d\",\"colorbar\":{\"outlinewidth\":0,\"ticks\":\"\"},\"colorscale\":[[0.0,\"#0d0887\"],[0.1111111111111111,\"#46039f\"],[0.2222222222222222,\"#7201a8\"],[0.3333333333333333,\"#9c179e\"],[0.4444444444444444,\"#bd3786\"],[0.5555555555555556,\"#d8576b\"],[0.6666666666666666,\"#ed7953\"],[0.7777777777777778,\"#fb9f3a\"],[0.8888888888888888,\"#fdca26\"],[1.0,\"#f0f921\"]]}],\"heatmap\":[{\"type\":\"heatmap\",\"colorbar\":{\"outlinewidth\":0,\"ticks\":\"\"},\"colorscale\":[[0.0,\"#0d0887\"],[0.1111111111111111,\"#46039f\"],[0.2222222222222222,\"#7201a8\"],[0.3333333333333333,\"#9c179e\"],[0.4444444444444444,\"#bd3786\"],[0.5555555555555556,\"#d8576b\"],[0.6666666666666666,\"#ed7953\"],[0.7777777777777778,\"#fb9f3a\"],[0.8888888888888888,\"#fdca26\"],[1.0,\"#f0f921\"]]}],\"heatmapgl\":[{\"type\":\"heatmapgl\",\"colorbar\":{\"outlinewidth\":0,\"ticks\":\"\"},\"colorscale\":[[0.0,\"#0d0887\"],[0.1111111111111111,\"#46039f\"],[0.2222222222222222,\"#7201a8\"],[0.3333333333333333,\"#9c179e\"],[0.4444444444444444,\"#bd3786\"],[0.5555555555555556,\"#d8576b\"],[0.6666666666666666,\"#ed7953\"],[0.7777777777777778,\"#fb9f3a\"],[0.8888888888888888,\"#fdca26\"],[1.0,\"#f0f921\"]]}],\"contourcarpet\":[{\"type\":\"contourcarpet\",\"colorbar\":{\"outlinewidth\":0,\"ticks\":\"\"}}],\"contour\":[{\"type\":\"contour\",\"colorbar\":{\"outlinewidth\":0,\"ticks\":\"\"},\"colorscale\":[[0.0,\"#0d0887\"],[0.1111111111111111,\"#46039f\"],[0.2222222222222222,\"#7201a8\"],[0.3333333333333333,\"#9c179e\"],[0.4444444444444444,\"#bd3786\"],[0.5555555555555556,\"#d8576b\"],[0.6666666666666666,\"#ed7953\"],[0.7777777777777778,\"#fb9f3a\"],[0.8888888888888888,\"#fdca26\"],[1.0,\"#f0f921\"]]}],\"surface\":[{\"type\":\"surface\",\"colorbar\":{\"outlinewidth\":0,\"ticks\":\"\"},\"colorscale\":[[0.0,\"#0d0887\"],[0.1111111111111111,\"#46039f\"],[0.2222222222222222,\"#7201a8\"],[0.3333333333333333,\"#9c179e\"],[0.4444444444444444,\"#bd3786\"],[0.5555555555555556,\"#d8576b\"],[0.6666666666666666,\"#ed7953\"],[0.7777777777777778,\"#fb9f3a\"],[0.8888888888888888,\"#fdca26\"],[1.0,\"#f0f921\"]]}],\"mesh3d\":[{\"type\":\"mesh3d\",\"colorbar\":{\"outlinewidth\":0,\"ticks\":\"\"}}],\"scatter\":[{\"fillpattern\":{\"fillmode\":\"overlay\",\"size\":10,\"solidity\":0.2},\"type\":\"scatter\"}],\"parcoords\":[{\"type\":\"parcoords\",\"line\":{\"colorbar\":{\"outlinewidth\":0,\"ticks\":\"\"}}}],\"scatterpolargl\":[{\"type\":\"scatterpolargl\",\"marker\":{\"colorbar\":{\"outlinewidth\":0,\"ticks\":\"\"}}}],\"bar\":[{\"error_x\":{\"color\":\"#2a3f5f\"},\"error_y\":{\"color\":\"#2a3f5f\"},\"marker\":{\"line\":{\"color\":\"#E5ECF6\",\"width\":0.5},\"pattern\":{\"fillmode\":\"overlay\",\"size\":10,\"solidity\":0.2}},\"type\":\"bar\"}],\"scattergeo\":[{\"type\":\"scattergeo\",\"marker\":{\"colorbar\":{\"outlinewidth\":0,\"ticks\":\"\"}}}],\"scatterpolar\":[{\"type\":\"scatterpolar\",\"marker\":{\"colorbar\":{\"outlinewidth\":0,\"ticks\":\"\"}}}],\"histogram\":[{\"marker\":{\"pattern\":{\"fillmode\":\"overlay\",\"size\":10,\"solidity\":0.2}},\"type\":\"histogram\"}],\"scattergl\":[{\"type\":\"scattergl\",\"marker\":{\"colorbar\":{\"outlinewidth\":0,\"ticks\":\"\"}}}],\"scatter3d\":[{\"type\":\"scatter3d\",\"line\":{\"colorbar\":{\"outlinewidth\":0,\"ticks\":\"\"}},\"marker\":{\"colorbar\":{\"outlinewidth\":0,\"ticks\":\"\"}}}],\"scattermapbox\":[{\"type\":\"scattermapbox\",\"marker\":{\"colorbar\":{\"outlinewidth\":0,\"ticks\":\"\"}}}],\"scatterternary\":[{\"type\":\"scatterternary\",\"marker\":{\"colorbar\":{\"outlinewidth\":0,\"ticks\":\"\"}}}],\"scattercarpet\":[{\"type\":\"scattercarpet\",\"marker\":{\"colorbar\":{\"outlinewidth\":0,\"ticks\":\"\"}}}],\"carpet\":[{\"aaxis\":{\"endlinecolor\":\"#2a3f5f\",\"gridcolor\":\"white\",\"linecolor\":\"white\",\"minorgridcolor\":\"white\",\"startlinecolor\":\"#2a3f5f\"},\"baxis\":{\"endlinecolor\":\"#2a3f5f\",\"gridcolor\":\"white\",\"linecolor\":\"white\",\"minorgridcolor\":\"white\",\"startlinecolor\":\"#2a3f5f\"},\"type\":\"carpet\"}],\"table\":[{\"cells\":{\"fill\":{\"color\":\"#EBF0F8\"},\"line\":{\"color\":\"white\"}},\"header\":{\"fill\":{\"color\":\"#C8D4E3\"},\"line\":{\"color\":\"white\"}},\"type\":\"table\"}],\"barpolar\":[{\"marker\":{\"line\":{\"color\":\"#E5ECF6\",\"width\":0.5},\"pattern\":{\"fillmode\":\"overlay\",\"size\":10,\"solidity\":0.2}},\"type\":\"barpolar\"}],\"pie\":[{\"automargin\":true,\"type\":\"pie\"}]},\"layout\":{\"autotypenumbers\":\"strict\",\"colorway\":[\"#636efa\",\"#EF553B\",\"#00cc96\",\"#ab63fa\",\"#FFA15A\",\"#19d3f3\",\"#FF6692\",\"#B6E880\",\"#FF97FF\",\"#FECB52\"],\"font\":{\"color\":\"#2a3f5f\"},\"hovermode\":\"closest\",\"hoverlabel\":{\"align\":\"left\"},\"paper_bgcolor\":\"white\",\"plot_bgcolor\":\"#E5ECF6\",\"polar\":{\"bgcolor\":\"#E5ECF6\",\"angularaxis\":{\"gridcolor\":\"white\",\"linecolor\":\"white\",\"ticks\":\"\"},\"radialaxis\":{\"gridcolor\":\"white\",\"linecolor\":\"white\",\"ticks\":\"\"}},\"ternary\":{\"bgcolor\":\"#E5ECF6\",\"aaxis\":{\"gridcolor\":\"white\",\"linecolor\":\"white\",\"ticks\":\"\"},\"baxis\":{\"gridcolor\":\"white\",\"linecolor\":\"white\",\"ticks\":\"\"},\"caxis\":{\"gridcolor\":\"white\",\"linecolor\":\"white\",\"ticks\":\"\"}},\"coloraxis\":{\"colorbar\":{\"outlinewidth\":0,\"ticks\":\"\"}},\"colorscale\":{\"sequential\":[[0.0,\"#0d0887\"],[0.1111111111111111,\"#46039f\"],[0.2222222222222222,\"#7201a8\"],[0.3333333333333333,\"#9c179e\"],[0.4444444444444444,\"#bd3786\"],[0.5555555555555556,\"#d8576b\"],[0.6666666666666666,\"#ed7953\"],[0.7777777777777778,\"#fb9f3a\"],[0.8888888888888888,\"#fdca26\"],[1.0,\"#f0f921\"]],\"sequentialminus\":[[0.0,\"#0d0887\"],[0.1111111111111111,\"#46039f\"],[0.2222222222222222,\"#7201a8\"],[0.3333333333333333,\"#9c179e\"],[0.4444444444444444,\"#bd3786\"],[0.5555555555555556,\"#d8576b\"],[0.6666666666666666,\"#ed7953\"],[0.7777777777777778,\"#fb9f3a\"],[0.8888888888888888,\"#fdca26\"],[1.0,\"#f0f921\"]],\"diverging\":[[0,\"#8e0152\"],[0.1,\"#c51b7d\"],[0.2,\"#de77ae\"],[0.3,\"#f1b6da\"],[0.4,\"#fde0ef\"],[0.5,\"#f7f7f7\"],[0.6,\"#e6f5d0\"],[0.7,\"#b8e186\"],[0.8,\"#7fbc41\"],[0.9,\"#4d9221\"],[1,\"#276419\"]]},\"xaxis\":{\"gridcolor\":\"white\",\"linecolor\":\"white\",\"ticks\":\"\",\"title\":{\"standoff\":15},\"zerolinecolor\":\"white\",\"automargin\":true,\"zerolinewidth\":2},\"yaxis\":{\"gridcolor\":\"white\",\"linecolor\":\"white\",\"ticks\":\"\",\"title\":{\"standoff\":15},\"zerolinecolor\":\"white\",\"automargin\":true,\"zerolinewidth\":2},\"scene\":{\"xaxis\":{\"backgroundcolor\":\"#E5ECF6\",\"gridcolor\":\"white\",\"linecolor\":\"white\",\"showbackground\":true,\"ticks\":\"\",\"zerolinecolor\":\"white\",\"gridwidth\":2},\"yaxis\":{\"backgroundcolor\":\"#E5ECF6\",\"gridcolor\":\"white\",\"linecolor\":\"white\",\"showbackground\":true,\"ticks\":\"\",\"zerolinecolor\":\"white\",\"gridwidth\":2},\"zaxis\":{\"backgroundcolor\":\"#E5ECF6\",\"gridcolor\":\"white\",\"linecolor\":\"white\",\"showbackground\":true,\"ticks\":\"\",\"zerolinecolor\":\"white\",\"gridwidth\":2}},\"shapedefaults\":{\"line\":{\"color\":\"#2a3f5f\"}},\"annotationdefaults\":{\"arrowcolor\":\"#2a3f5f\",\"arrowhead\":0,\"arrowwidth\":1},\"geo\":{\"bgcolor\":\"white\",\"landcolor\":\"#E5ECF6\",\"subunitcolor\":\"white\",\"showland\":true,\"showlakes\":true,\"lakecolor\":\"white\"},\"title\":{\"x\":0.05},\"mapbox\":{\"style\":\"light\"}}},\"xaxis\":{\"anchor\":\"y\",\"domain\":[0.0,1.0],\"title\":{\"text\":\"Precinct\"},\"tickangle\":-90},\"yaxis\":{\"anchor\":\"x\",\"domain\":[0.0,1.0],\"title\":{\"text\":\"Number of Arrests\"}},\"legend\":{\"tracegroupgap\":0},\"title\":{\"text\":\"Arrests by Precinct in Brooklyn\"},\"barmode\":\"relative\"},                        {\"responsive\": true}                    ).then(function(){\n",
       "                            \n",
       "var gd = document.getElementById('93f1ddbe-80f4-4ad9-ba50-70cc5633ad64');\n",
       "var x = new MutationObserver(function (mutations, observer) {{\n",
       "        var display = window.getComputedStyle(gd).display;\n",
       "        if (!display || display === 'none') {{\n",
       "            console.log([gd, 'removed!']);\n",
       "            Plotly.purge(gd);\n",
       "            observer.disconnect();\n",
       "        }}\n",
       "}});\n",
       "\n",
       "// Listen for the removal of the full notebook cells\n",
       "var notebookContainer = gd.closest('#notebook-container');\n",
       "if (notebookContainer) {{\n",
       "    x.observe(notebookContainer, {childList: true});\n",
       "}}\n",
       "\n",
       "// Listen for the clearing of the current output cell\n",
       "var outputEl = gd.closest('.output');\n",
       "if (outputEl) {{\n",
       "    x.observe(outputEl, {childList: true});\n",
       "}}\n",
       "\n",
       "                        })                };                            </script>        </div>\n",
       "</body>\n",
       "</html>"
      ]
     },
     "metadata": {},
     "output_type": "display_data"
    }
   ],
   "source": [
    "# Filter the arrests to only include those in Brooklyn\n",
    "brooklyn_arrests = arrest.filter(col(\"ARREST_BORO\") == \"K\")\n",
    "\n",
    "# Group the arrests by precinct and count the number of arrests\n",
    "precinct_counts = brooklyn_arrests.groupBy(\"ARREST_PRECINCT\").count().orderBy(col(\"count\").desc())\n",
    "\n",
    "# Create a bar plot using Plotly Express\n",
    "fig = px.bar(precinct_counts.toPandas(), x=\"ARREST_PRECINCT\", y=\"count\", \n",
    "             labels={\"ARREST_PRECINCT\": \"Precinct\", \"count\": \"Number of Arrests\"}, \n",
    "             title=\"Arrests by Precinct in Brooklyn\")\n",
    "fig.update_layout(xaxis_tickangle=-90)\n",
    "fig.show()\n"
   ]
  },
  {
   "cell_type": "markdown",
   "metadata": {
    "id": "AW9XczaD35kY"
   },
   "source": [
    "- In Brooklyn, Precinct 75 has the highest number of arrests"
   ]
  },
  {
   "cell_type": "markdown",
   "metadata": {
    "id": "rz1zFdc-o7jL"
   },
   "source": [
    "### Level of Offense as a Pie Chart"
   ]
  },
  {
   "cell_type": "code",
   "execution_count": 176,
   "metadata": {
    "id": "4Zxz1tIN1T38"
   },
   "outputs": [],
   "source": [
    "from pyspark.sql import functions as F"
   ]
  },
  {
   "cell_type": "code",
   "execution_count": 177,
   "metadata": {
    "colab": {
     "base_uri": "https://localhost:8080/",
     "height": 521
    },
    "id": "UnBuhxdgGsws",
    "outputId": "ea5f1c10-3dea-4d34-aaa7-b2a6b65b204e"
   },
   "outputs": [
    {
     "data": {
      "image/png": "[encoded data removed]",
      "text/plain": [
       "<Figure size 600x600 with 1 Axes>"
      ]
     },
     "metadata": {},
     "output_type": "display_data"
    }
   ],
   "source": [
    "# Calculate the percentage of each LAW_CAT_CD\n",
    "law_cat_count = arrest2.groupBy(\"LAW_CAT_CD\").count()\n",
    "total_count = law_cat_count.agg(F.sum(\"count\")).collect()[0][0]\n",
    "law_cat_percentage = law_cat_count.withColumn(\n",
    "    \"percentage\", F.col(\"count\") / total_count * 100\n",
    ")\n",
    "\n",
    "# Define a color palette\n",
    "colors = [\"#1f77b4\", \"#ff7f0e\", \"#2ca02c\", \"#d62728\", \"#9467bd\"]\n",
    "\n",
    "# Get the unique categories in the LAW_CAT_CD column\n",
    "categories = ['Felony', 'Misdemeanor', 'Violation', 'Infraction', 'Unclassified']\n",
    "\n",
    "# Convert the percentage data to a Pandas dataframe and plot it in a pie chart\n",
    "pie_chart = law_cat_percentage.toPandas().plot.pie(\n",
    "    y=\"percentage\",\n",
    "    labels=None,\n",
    "    colors=colors,\n",
    "    figsize=(6, 6),\n",
    ")\n",
    "\n",
    "# Add percentages as labels outside the pie chart\n",
    "percentages = law_cat_percentage.select(\"percentage\").rdd.flatMap(lambda x: x).collect()\n",
    "labels = ['{0} - {1:1.2f} %'.format(categories[i], percentages[i]) for i in range(len(categories))]\n",
    "plt.legend(labels, loc=\"center left\", bbox_to_anchor=(1.0, 0.5), fontsize=12)\n",
    "\n",
    "plt.ylabel(\"\")\n",
    "plt.title(\"Percentage of Level of Offense\")\n",
    "plt.show()\n"
   ]
  },
  {
   "cell_type": "markdown",
   "metadata": {
    "id": "xVvqNQjrMd4R"
   },
   "source": [
    ">**53.91%** of level of offense are occured in **Misdemeanor**."
   ]
  },
  {
   "cell_type": "markdown",
   "metadata": {
    "id": "mL03CKNIo_oS"
   },
   "source": [
    "### Jurisdiction Group as a Pie Chart"
   ]
  },
  {
   "cell_type": "code",
   "execution_count": 178,
   "metadata": {
    "colab": {
     "base_uri": "https://localhost:8080/",
     "height": 521
    },
    "id": "oXgSA5Y6lmIy",
    "outputId": "c2100dd8-a8cc-4e0e-8307-d75c64884e0b"
   },
   "outputs": [
    {
     "data": {
      "image/png": "[encoded data removed]",
      "text/plain": [
       "<Figure size 600x600 with 1 Axes>"
      ]
     },
     "metadata": {},
     "output_type": "display_data"
    }
   ],
   "source": [
    "# Create a new column to group the jurisdiction codes\n",
    "arrest3 = arrest.withColumn(\n",
    "    \"jurisdiction_group\",\n",
    "    when(col(\"JURISDICTION_CODE\") > 2, \"Non-NYPD\").otherwise(\n",
    "        when(col(\"JURISDICTION_CODE\") == 0, \"Patrol\").otherwise(\n",
    "            when(col(\"JURISDICTION_CODE\") == 1, \"Transit\").otherwise(\n",
    "                when(col(\"JURISDICTION_CODE\") == 2, \"Housing\")\n",
    "            )\n",
    "        )\n",
    "    )\n",
    ")\n",
    "\n",
    "# Group by the jurisdiction group and count the number of arrests in each group\n",
    "jurisdiction_count = (\n",
    "    arrest3.groupBy(\"jurisdiction_group\").count().orderBy(\"count\", ascending=False)\n",
    ")\n",
    "\n",
    "# Define a color palette\n",
    "colors = [\"#1f77b4\", \"#ff7f0e\", \"#2ca02c\", \"#d62728\"]\n",
    "\n",
    "# Convert the data to a Pandas dataframe\n",
    "jurisdiction_count_pd = jurisdiction_count.toPandas()\n",
    "\n",
    "# Create the pie chart\n",
    "pie_chart = jurisdiction_count_pd.plot.pie(\n",
    "    y=\"count\",\n",
    "    labels=None, # Remove labels from the figure\n",
    "    colors=colors,\n",
    "    autopct=None, # Remove percentage from the figure\n",
    "    startangle=90,\n",
    "    figsize=(6, 6),\n",
    ")\n",
    "\n",
    "plt.ylabel(\"\")\n",
    "plt.title(\"Percentage of Jurisdiction Group\")\n",
    "\n",
    "# Add the labels and percentages to the legend\n",
    "plt.legend(\n",
    "    labels=jurisdiction_count_pd[\"jurisdiction_group\"] + \" \" + \n",
    "    jurisdiction_count_pd[\"count\"].astype(str) + \" (\" +\n",
    "    (jurisdiction_count_pd[\"count\"]/jurisdiction_count_pd[\"count\"].sum()*100).round(1).astype(str) + \"%)\",\n",
    "    loc=\"center left\",\n",
    "    bbox_to_anchor=(1, 0.5),\n",
    ")\n",
    "\n",
    "plt.show() \n"
   ]
  },
  {
   "cell_type": "markdown",
   "metadata": {
    "id": "aqRAxlUKNCc4"
   },
   "source": [
    ">**Patrol** is the most jurisdiction group that have the **highest** number of arrest."
   ]
  },
  {
   "cell_type": "markdown",
   "metadata": {
    "id": "vnWkP6FNAgOJ"
   },
   "source": [
    "### Number of Arrests Per Offense"
   ]
  },
  {
   "cell_type": "code",
   "execution_count": 179,
   "metadata": {
    "id": "dgIoGQywftZo"
   },
   "outputs": [],
   "source": [
    "import findspark\n",
    "\n",
    "\n",
    "import os\n",
    "\n",
    "\n",
    "# Set the SPARK_HOME environment variable\n",
    "os.environ[\"SPARK_HOME\"] = \"/content/spark-3.1.1-bin-hadoop3.2\"\n",
    "\n",
    "# Add the PySpark/py4j packages to the Python path\n",
    "findspark.init()\n"
   ]
  },
  {
   "cell_type": "code",
   "execution_count": 180,
   "metadata": {
    "colab": {
     "base_uri": "https://localhost:8080/",
     "height": 542
    },
    "id": "tA9I5MrrAXlQ",
    "outputId": "3f9470c1-35d6-487c-b79e-819b807c8f22"
   },
   "outputs": [
    {
     "data": {
      "text/html": [
       "<html>\n",
       "<head><meta charset=\"utf-8\" /></head>\n",
       "<body>\n",
       "    <div>            <script src=\"https://cdnjs.cloudflare.com/ajax/libs/mathjax/2.7.5/MathJax.js?config=TeX-AMS-MML_SVG\"></script><script type=\"text/javascript\">if (window.MathJax && window.MathJax.Hub && window.MathJax.Hub.Config) {window.MathJax.Hub.Config({SVG: {font: \"STIX-Web\"}});}</script>                <script type=\"text/javascript\">window.PlotlyConfig = {MathJaxConfig: 'local'};</script>\n",
       "        <script src=\"https://cdn.plot.ly/plotly-2.18.2.min.js\"></script>                <div id=\"6bcc7f4e-54ce-45a0-945b-f5f32a1601f6\" class=\"plotly-graph-div\" style=\"height:525px; width:100%;\"></div>            <script type=\"text/javascript\">                                    window.PLOTLYENV=window.PLOTLYENV || {};                                    if (document.getElementById(\"6bcc7f4e-54ce-45a0-945b-f5f32a1601f6\")) {                    Plotly.newPlot(                        \"6bcc7f4e-54ce-45a0-945b-f5f32a1601f6\",                        [{\"orientation\":\"h\",\"x\":[30687,20637,18895,12523,10651,10174,9943],\"y\":[\"ASSAULT 3 & RELATED OFFENSES\",\"PETIT LARCENY\",\"FELONY ASSAULT\",\"MISCELLANEOUS PENAL LAW\",\"DANGEROUS DRUGS\",\"CRIMINAL MISCHIEF & RELATED OF\",\"ROBBERY\"],\"type\":\"bar\"}],                        {\"template\":{\"data\":{\"histogram2dcontour\":[{\"type\":\"histogram2dcontour\",\"colorbar\":{\"outlinewidth\":0,\"ticks\":\"\"},\"colorscale\":[[0.0,\"#0d0887\"],[0.1111111111111111,\"#46039f\"],[0.2222222222222222,\"#7201a8\"],[0.3333333333333333,\"#9c179e\"],[0.4444444444444444,\"#bd3786\"],[0.5555555555555556,\"#d8576b\"],[0.6666666666666666,\"#ed7953\"],[0.7777777777777778,\"#fb9f3a\"],[0.8888888888888888,\"#fdca26\"],[1.0,\"#f0f921\"]]}],\"choropleth\":[{\"type\":\"choropleth\",\"colorbar\":{\"outlinewidth\":0,\"ticks\":\"\"}}],\"histogram2d\":[{\"type\":\"histogram2d\",\"colorbar\":{\"outlinewidth\":0,\"ticks\":\"\"},\"colorscale\":[[0.0,\"#0d0887\"],[0.1111111111111111,\"#46039f\"],[0.2222222222222222,\"#7201a8\"],[0.3333333333333333,\"#9c179e\"],[0.4444444444444444,\"#bd3786\"],[0.5555555555555556,\"#d8576b\"],[0.6666666666666666,\"#ed7953\"],[0.7777777777777778,\"#fb9f3a\"],[0.8888888888888888,\"#fdca26\"],[1.0,\"#f0f921\"]]}],\"heatmap\":[{\"type\":\"heatmap\",\"colorbar\":{\"outlinewidth\":0,\"ticks\":\"\"},\"colorscale\":[[0.0,\"#0d0887\"],[0.1111111111111111,\"#46039f\"],[0.2222222222222222,\"#7201a8\"],[0.3333333333333333,\"#9c179e\"],[0.4444444444444444,\"#bd3786\"],[0.5555555555555556,\"#d8576b\"],[0.6666666666666666,\"#ed7953\"],[0.7777777777777778,\"#fb9f3a\"],[0.8888888888888888,\"#fdca26\"],[1.0,\"#f0f921\"]]}],\"heatmapgl\":[{\"type\":\"heatmapgl\",\"colorbar\":{\"outlinewidth\":0,\"ticks\":\"\"},\"colorscale\":[[0.0,\"#0d0887\"],[0.1111111111111111,\"#46039f\"],[0.2222222222222222,\"#7201a8\"],[0.3333333333333333,\"#9c179e\"],[0.4444444444444444,\"#bd3786\"],[0.5555555555555556,\"#d8576b\"],[0.6666666666666666,\"#ed7953\"],[0.7777777777777778,\"#fb9f3a\"],[0.8888888888888888,\"#fdca26\"],[1.0,\"#f0f921\"]]}],\"contourcarpet\":[{\"type\":\"contourcarpet\",\"colorbar\":{\"outlinewidth\":0,\"ticks\":\"\"}}],\"contour\":[{\"type\":\"contour\",\"colorbar\":{\"outlinewidth\":0,\"ticks\":\"\"},\"colorscale\":[[0.0,\"#0d0887\"],[0.1111111111111111,\"#46039f\"],[0.2222222222222222,\"#7201a8\"],[0.3333333333333333,\"#9c179e\"],[0.4444444444444444,\"#bd3786\"],[0.5555555555555556,\"#d8576b\"],[0.6666666666666666,\"#ed7953\"],[0.7777777777777778,\"#fb9f3a\"],[0.8888888888888888,\"#fdca26\"],[1.0,\"#f0f921\"]]}],\"surface\":[{\"type\":\"surface\",\"colorbar\":{\"outlinewidth\":0,\"ticks\":\"\"},\"colorscale\":[[0.0,\"#0d0887\"],[0.1111111111111111,\"#46039f\"],[0.2222222222222222,\"#7201a8\"],[0.3333333333333333,\"#9c179e\"],[0.4444444444444444,\"#bd3786\"],[0.5555555555555556,\"#d8576b\"],[0.6666666666666666,\"#ed7953\"],[0.7777777777777778,\"#fb9f3a\"],[0.8888888888888888,\"#fdca26\"],[1.0,\"#f0f921\"]]}],\"mesh3d\":[{\"type\":\"mesh3d\",\"colorbar\":{\"outlinewidth\":0,\"ticks\":\"\"}}],\"scatter\":[{\"fillpattern\":{\"fillmode\":\"overlay\",\"size\":10,\"solidity\":0.2},\"type\":\"scatter\"}],\"parcoords\":[{\"type\":\"parcoords\",\"line\":{\"colorbar\":{\"outlinewidth\":0,\"ticks\":\"\"}}}],\"scatterpolargl\":[{\"type\":\"scatterpolargl\",\"marker\":{\"colorbar\":{\"outlinewidth\":0,\"ticks\":\"\"}}}],\"bar\":[{\"error_x\":{\"color\":\"#2a3f5f\"},\"error_y\":{\"color\":\"#2a3f5f\"},\"marker\":{\"line\":{\"color\":\"#E5ECF6\",\"width\":0.5},\"pattern\":{\"fillmode\":\"overlay\",\"size\":10,\"solidity\":0.2}},\"type\":\"bar\"}],\"scattergeo\":[{\"type\":\"scattergeo\",\"marker\":{\"colorbar\":{\"outlinewidth\":0,\"ticks\":\"\"}}}],\"scatterpolar\":[{\"type\":\"scatterpolar\",\"marker\":{\"colorbar\":{\"outlinewidth\":0,\"ticks\":\"\"}}}],\"histogram\":[{\"marker\":{\"pattern\":{\"fillmode\":\"overlay\",\"size\":10,\"solidity\":0.2}},\"type\":\"histogram\"}],\"scattergl\":[{\"type\":\"scattergl\",\"marker\":{\"colorbar\":{\"outlinewidth\":0,\"ticks\":\"\"}}}],\"scatter3d\":[{\"type\":\"scatter3d\",\"line\":{\"colorbar\":{\"outlinewidth\":0,\"ticks\":\"\"}},\"marker\":{\"colorbar\":{\"outlinewidth\":0,\"ticks\":\"\"}}}],\"scattermapbox\":[{\"type\":\"scattermapbox\",\"marker\":{\"colorbar\":{\"outlinewidth\":0,\"ticks\":\"\"}}}],\"scatterternary\":[{\"type\":\"scatterternary\",\"marker\":{\"colorbar\":{\"outlinewidth\":0,\"ticks\":\"\"}}}],\"scattercarpet\":[{\"type\":\"scattercarpet\",\"marker\":{\"colorbar\":{\"outlinewidth\":0,\"ticks\":\"\"}}}],\"carpet\":[{\"aaxis\":{\"endlinecolor\":\"#2a3f5f\",\"gridcolor\":\"white\",\"linecolor\":\"white\",\"minorgridcolor\":\"white\",\"startlinecolor\":\"#2a3f5f\"},\"baxis\":{\"endlinecolor\":\"#2a3f5f\",\"gridcolor\":\"white\",\"linecolor\":\"white\",\"minorgridcolor\":\"white\",\"startlinecolor\":\"#2a3f5f\"},\"type\":\"carpet\"}],\"table\":[{\"cells\":{\"fill\":{\"color\":\"#EBF0F8\"},\"line\":{\"color\":\"white\"}},\"header\":{\"fill\":{\"color\":\"#C8D4E3\"},\"line\":{\"color\":\"white\"}},\"type\":\"table\"}],\"barpolar\":[{\"marker\":{\"line\":{\"color\":\"#E5ECF6\",\"width\":0.5},\"pattern\":{\"fillmode\":\"overlay\",\"size\":10,\"solidity\":0.2}},\"type\":\"barpolar\"}],\"pie\":[{\"automargin\":true,\"type\":\"pie\"}]},\"layout\":{\"autotypenumbers\":\"strict\",\"colorway\":[\"#636efa\",\"#EF553B\",\"#00cc96\",\"#ab63fa\",\"#FFA15A\",\"#19d3f3\",\"#FF6692\",\"#B6E880\",\"#FF97FF\",\"#FECB52\"],\"font\":{\"color\":\"#2a3f5f\"},\"hovermode\":\"closest\",\"hoverlabel\":{\"align\":\"left\"},\"paper_bgcolor\":\"white\",\"plot_bgcolor\":\"#E5ECF6\",\"polar\":{\"bgcolor\":\"#E5ECF6\",\"angularaxis\":{\"gridcolor\":\"white\",\"linecolor\":\"white\",\"ticks\":\"\"},\"radialaxis\":{\"gridcolor\":\"white\",\"linecolor\":\"white\",\"ticks\":\"\"}},\"ternary\":{\"bgcolor\":\"#E5ECF6\",\"aaxis\":{\"gridcolor\":\"white\",\"linecolor\":\"white\",\"ticks\":\"\"},\"baxis\":{\"gridcolor\":\"white\",\"linecolor\":\"white\",\"ticks\":\"\"},\"caxis\":{\"gridcolor\":\"white\",\"linecolor\":\"white\",\"ticks\":\"\"}},\"coloraxis\":{\"colorbar\":{\"outlinewidth\":0,\"ticks\":\"\"}},\"colorscale\":{\"sequential\":[[0.0,\"#0d0887\"],[0.1111111111111111,\"#46039f\"],[0.2222222222222222,\"#7201a8\"],[0.3333333333333333,\"#9c179e\"],[0.4444444444444444,\"#bd3786\"],[0.5555555555555556,\"#d8576b\"],[0.6666666666666666,\"#ed7953\"],[0.7777777777777778,\"#fb9f3a\"],[0.8888888888888888,\"#fdca26\"],[1.0,\"#f0f921\"]],\"sequentialminus\":[[0.0,\"#0d0887\"],[0.1111111111111111,\"#46039f\"],[0.2222222222222222,\"#7201a8\"],[0.3333333333333333,\"#9c179e\"],[0.4444444444444444,\"#bd3786\"],[0.5555555555555556,\"#d8576b\"],[0.6666666666666666,\"#ed7953\"],[0.7777777777777778,\"#fb9f3a\"],[0.8888888888888888,\"#fdca26\"],[1.0,\"#f0f921\"]],\"diverging\":[[0,\"#8e0152\"],[0.1,\"#c51b7d\"],[0.2,\"#de77ae\"],[0.3,\"#f1b6da\"],[0.4,\"#fde0ef\"],[0.5,\"#f7f7f7\"],[0.6,\"#e6f5d0\"],[0.7,\"#b8e186\"],[0.8,\"#7fbc41\"],[0.9,\"#4d9221\"],[1,\"#276419\"]]},\"xaxis\":{\"gridcolor\":\"white\",\"linecolor\":\"white\",\"ticks\":\"\",\"title\":{\"standoff\":15},\"zerolinecolor\":\"white\",\"automargin\":true,\"zerolinewidth\":2},\"yaxis\":{\"gridcolor\":\"white\",\"linecolor\":\"white\",\"ticks\":\"\",\"title\":{\"standoff\":15},\"zerolinecolor\":\"white\",\"automargin\":true,\"zerolinewidth\":2},\"scene\":{\"xaxis\":{\"backgroundcolor\":\"#E5ECF6\",\"gridcolor\":\"white\",\"linecolor\":\"white\",\"showbackground\":true,\"ticks\":\"\",\"zerolinecolor\":\"white\",\"gridwidth\":2},\"yaxis\":{\"backgroundcolor\":\"#E5ECF6\",\"gridcolor\":\"white\",\"linecolor\":\"white\",\"showbackground\":true,\"ticks\":\"\",\"zerolinecolor\":\"white\",\"gridwidth\":2},\"zaxis\":{\"backgroundcolor\":\"#E5ECF6\",\"gridcolor\":\"white\",\"linecolor\":\"white\",\"showbackground\":true,\"ticks\":\"\",\"zerolinecolor\":\"white\",\"gridwidth\":2}},\"shapedefaults\":{\"line\":{\"color\":\"#2a3f5f\"}},\"annotationdefaults\":{\"arrowcolor\":\"#2a3f5f\",\"arrowhead\":0,\"arrowwidth\":1},\"geo\":{\"bgcolor\":\"white\",\"landcolor\":\"#E5ECF6\",\"subunitcolor\":\"white\",\"showland\":true,\"showlakes\":true,\"lakecolor\":\"white\"},\"title\":{\"x\":0.05},\"mapbox\":{\"style\":\"light\"}}},\"title\":{\"text\":\"Number of Arrests Per Offense\"},\"xaxis\":{\"title\":{\"text\":\"Number of Occurrences\"}}},                        {\"responsive\": true}                    ).then(function(){\n",
       "                            \n",
       "var gd = document.getElementById('6bcc7f4e-54ce-45a0-945b-f5f32a1601f6');\n",
       "var x = new MutationObserver(function (mutations, observer) {{\n",
       "        var display = window.getComputedStyle(gd).display;\n",
       "        if (!display || display === 'none') {{\n",
       "            console.log([gd, 'removed!']);\n",
       "            Plotly.purge(gd);\n",
       "            observer.disconnect();\n",
       "        }}\n",
       "}});\n",
       "\n",
       "// Listen for the removal of the full notebook cells\n",
       "var notebookContainer = gd.closest('#notebook-container');\n",
       "if (notebookContainer) {{\n",
       "    x.observe(notebookContainer, {childList: true});\n",
       "}}\n",
       "\n",
       "// Listen for the clearing of the current output cell\n",
       "var outputEl = gd.closest('.output');\n",
       "if (outputEl) {{\n",
       "    x.observe(outputEl, {childList: true});\n",
       "}}\n",
       "\n",
       "                        })                };                            </script>        </div>\n",
       "</body>\n",
       "</html>"
      ]
     },
     "metadata": {},
     "output_type": "display_data"
    }
   ],
   "source": [
    "import plotly.graph_objects as go\n",
    "import pyspark.sql.functions\n",
    "\n",
    "# Group the dataset by offense and count the number of arrests per offense\n",
    "offense_counts = arrest.join(offense, arrest.KY_CD == offense.KY_CD)\\\n",
    "                      .groupBy('OFNS_DESC')\\\n",
    "                      .agg(pyspark.sql.functions.count('*').alias('counts'))\\\n",
    "                      .orderBy('counts', ascending=False)\n",
    "\n",
    "\n",
    "# Get the top 7 offenses\n",
    "top_offenses = offense_counts.limit(7)\n",
    "\n",
    "# Convert to Pandas DataFrame for plotting\n",
    "offense_counts_df = top_offenses.toPandas()\n",
    "\n",
    "# Create a bar chart using Plotly Express\n",
    "fig = go.Figure(go.Bar(\n",
    "    x=offense_counts_df['counts'],\n",
    "    y=offense_counts_df['OFNS_DESC'],\n",
    "    orientation='h'\n",
    "))\n",
    "\n",
    "fig.update_layout(title='Number of Arrests Per Offense',\n",
    "                  xaxis_title='Number of Occurrences')\n",
    "\n",
    "fig.show()\n"
   ]
  },
  {
   "cell_type": "markdown",
   "metadata": {
    "id": "7T9YUkjCEezg"
   },
   "source": [
    "## Number of Arrests Per Detailed Offense"
   ]
  },
  {
   "cell_type": "code",
   "execution_count": 181,
   "metadata": {
    "colab": {
     "base_uri": "https://localhost:8080/",
     "height": 542
    },
    "id": "Z8xaj9WYGEAo",
    "outputId": "59db5c6e-7f27-4647-f823-334f4ac24df3"
   },
   "outputs": [
    {
     "data": {
      "text/html": [
       "<html>\n",
       "<head><meta charset=\"utf-8\" /></head>\n",
       "<body>\n",
       "    <div>            <script src=\"https://cdnjs.cloudflare.com/ajax/libs/mathjax/2.7.5/MathJax.js?config=TeX-AMS-MML_SVG\"></script><script type=\"text/javascript\">if (window.MathJax && window.MathJax.Hub && window.MathJax.Hub.Config) {window.MathJax.Hub.Config({SVG: {font: \"STIX-Web\"}});}</script>                <script type=\"text/javascript\">window.PlotlyConfig = {MathJaxConfig: 'local'};</script>\n",
       "        <script src=\"https://cdn.plot.ly/plotly-2.18.2.min.js\"></script>                <div id=\"95ed5e7c-45b0-43d1-9a76-4b08d29eca58\" class=\"plotly-graph-div\" style=\"height:525px; width:100%;\"></div>            <script type=\"text/javascript\">                                    window.PLOTLYENV=window.PLOTLYENV || {};                                    if (document.getElementById(\"95ed5e7c-45b0-43d1-9a76-4b08d29eca58\")) {                    Plotly.newPlot(                        \"95ed5e7c-45b0-43d1-9a76-4b08d29eca58\",                        [{\"orientation\":\"h\",\"x\":[22218,20558,13929,9896,8590,7785,6832],\"y\":[\"ASSAULT 3\",\"LARCENY,PETIT FROM OPEN AREAS,\",\"ASSAULT 2,1,UNCLASSIFIED\",\"ROBBERY,OPEN AREA UNCLASSIFIED\",\"PUBLIC ADMINISTRATION,UNCLASSI\",\"LARCENY,GRAND FROM OPEN AREAS, UNATTENDED\",\"TRAFFIC,UNCLASSIFIED MISDEMEAN\"],\"type\":\"bar\"}],                        {\"template\":{\"data\":{\"histogram2dcontour\":[{\"type\":\"histogram2dcontour\",\"colorbar\":{\"outlinewidth\":0,\"ticks\":\"\"},\"colorscale\":[[0.0,\"#0d0887\"],[0.1111111111111111,\"#46039f\"],[0.2222222222222222,\"#7201a8\"],[0.3333333333333333,\"#9c179e\"],[0.4444444444444444,\"#bd3786\"],[0.5555555555555556,\"#d8576b\"],[0.6666666666666666,\"#ed7953\"],[0.7777777777777778,\"#fb9f3a\"],[0.8888888888888888,\"#fdca26\"],[1.0,\"#f0f921\"]]}],\"choropleth\":[{\"type\":\"choropleth\",\"colorbar\":{\"outlinewidth\":0,\"ticks\":\"\"}}],\"histogram2d\":[{\"type\":\"histogram2d\",\"colorbar\":{\"outlinewidth\":0,\"ticks\":\"\"},\"colorscale\":[[0.0,\"#0d0887\"],[0.1111111111111111,\"#46039f\"],[0.2222222222222222,\"#7201a8\"],[0.3333333333333333,\"#9c179e\"],[0.4444444444444444,\"#bd3786\"],[0.5555555555555556,\"#d8576b\"],[0.6666666666666666,\"#ed7953\"],[0.7777777777777778,\"#fb9f3a\"],[0.8888888888888888,\"#fdca26\"],[1.0,\"#f0f921\"]]}],\"heatmap\":[{\"type\":\"heatmap\",\"colorbar\":{\"outlinewidth\":0,\"ticks\":\"\"},\"colorscale\":[[0.0,\"#0d0887\"],[0.1111111111111111,\"#46039f\"],[0.2222222222222222,\"#7201a8\"],[0.3333333333333333,\"#9c179e\"],[0.4444444444444444,\"#bd3786\"],[0.5555555555555556,\"#d8576b\"],[0.6666666666666666,\"#ed7953\"],[0.7777777777777778,\"#fb9f3a\"],[0.8888888888888888,\"#fdca26\"],[1.0,\"#f0f921\"]]}],\"heatmapgl\":[{\"type\":\"heatmapgl\",\"colorbar\":{\"outlinewidth\":0,\"ticks\":\"\"},\"colorscale\":[[0.0,\"#0d0887\"],[0.1111111111111111,\"#46039f\"],[0.2222222222222222,\"#7201a8\"],[0.3333333333333333,\"#9c179e\"],[0.4444444444444444,\"#bd3786\"],[0.5555555555555556,\"#d8576b\"],[0.6666666666666666,\"#ed7953\"],[0.7777777777777778,\"#fb9f3a\"],[0.8888888888888888,\"#fdca26\"],[1.0,\"#f0f921\"]]}],\"contourcarpet\":[{\"type\":\"contourcarpet\",\"colorbar\":{\"outlinewidth\":0,\"ticks\":\"\"}}],\"contour\":[{\"type\":\"contour\",\"colorbar\":{\"outlinewidth\":0,\"ticks\":\"\"},\"colorscale\":[[0.0,\"#0d0887\"],[0.1111111111111111,\"#46039f\"],[0.2222222222222222,\"#7201a8\"],[0.3333333333333333,\"#9c179e\"],[0.4444444444444444,\"#bd3786\"],[0.5555555555555556,\"#d8576b\"],[0.6666666666666666,\"#ed7953\"],[0.7777777777777778,\"#fb9f3a\"],[0.8888888888888888,\"#fdca26\"],[1.0,\"#f0f921\"]]}],\"surface\":[{\"type\":\"surface\",\"colorbar\":{\"outlinewidth\":0,\"ticks\":\"\"},\"colorscale\":[[0.0,\"#0d0887\"],[0.1111111111111111,\"#46039f\"],[0.2222222222222222,\"#7201a8\"],[0.3333333333333333,\"#9c179e\"],[0.4444444444444444,\"#bd3786\"],[0.5555555555555556,\"#d8576b\"],[0.6666666666666666,\"#ed7953\"],[0.7777777777777778,\"#fb9f3a\"],[0.8888888888888888,\"#fdca26\"],[1.0,\"#f0f921\"]]}],\"mesh3d\":[{\"type\":\"mesh3d\",\"colorbar\":{\"outlinewidth\":0,\"ticks\":\"\"}}],\"scatter\":[{\"fillpattern\":{\"fillmode\":\"overlay\",\"size\":10,\"solidity\":0.2},\"type\":\"scatter\"}],\"parcoords\":[{\"type\":\"parcoords\",\"line\":{\"colorbar\":{\"outlinewidth\":0,\"ticks\":\"\"}}}],\"scatterpolargl\":[{\"type\":\"scatterpolargl\",\"marker\":{\"colorbar\":{\"outlinewidth\":0,\"ticks\":\"\"}}}],\"bar\":[{\"error_x\":{\"color\":\"#2a3f5f\"},\"error_y\":{\"color\":\"#2a3f5f\"},\"marker\":{\"line\":{\"color\":\"#E5ECF6\",\"width\":0.5},\"pattern\":{\"fillmode\":\"overlay\",\"size\":10,\"solidity\":0.2}},\"type\":\"bar\"}],\"scattergeo\":[{\"type\":\"scattergeo\",\"marker\":{\"colorbar\":{\"outlinewidth\":0,\"ticks\":\"\"}}}],\"scatterpolar\":[{\"type\":\"scatterpolar\",\"marker\":{\"colorbar\":{\"outlinewidth\":0,\"ticks\":\"\"}}}],\"histogram\":[{\"marker\":{\"pattern\":{\"fillmode\":\"overlay\",\"size\":10,\"solidity\":0.2}},\"type\":\"histogram\"}],\"scattergl\":[{\"type\":\"scattergl\",\"marker\":{\"colorbar\":{\"outlinewidth\":0,\"ticks\":\"\"}}}],\"scatter3d\":[{\"type\":\"scatter3d\",\"line\":{\"colorbar\":{\"outlinewidth\":0,\"ticks\":\"\"}},\"marker\":{\"colorbar\":{\"outlinewidth\":0,\"ticks\":\"\"}}}],\"scattermapbox\":[{\"type\":\"scattermapbox\",\"marker\":{\"colorbar\":{\"outlinewidth\":0,\"ticks\":\"\"}}}],\"scatterternary\":[{\"type\":\"scatterternary\",\"marker\":{\"colorbar\":{\"outlinewidth\":0,\"ticks\":\"\"}}}],\"scattercarpet\":[{\"type\":\"scattercarpet\",\"marker\":{\"colorbar\":{\"outlinewidth\":0,\"ticks\":\"\"}}}],\"carpet\":[{\"aaxis\":{\"endlinecolor\":\"#2a3f5f\",\"gridcolor\":\"white\",\"linecolor\":\"white\",\"minorgridcolor\":\"white\",\"startlinecolor\":\"#2a3f5f\"},\"baxis\":{\"endlinecolor\":\"#2a3f5f\",\"gridcolor\":\"white\",\"linecolor\":\"white\",\"minorgridcolor\":\"white\",\"startlinecolor\":\"#2a3f5f\"},\"type\":\"carpet\"}],\"table\":[{\"cells\":{\"fill\":{\"color\":\"#EBF0F8\"},\"line\":{\"color\":\"white\"}},\"header\":{\"fill\":{\"color\":\"#C8D4E3\"},\"line\":{\"color\":\"white\"}},\"type\":\"table\"}],\"barpolar\":[{\"marker\":{\"line\":{\"color\":\"#E5ECF6\",\"width\":0.5},\"pattern\":{\"fillmode\":\"overlay\",\"size\":10,\"solidity\":0.2}},\"type\":\"barpolar\"}],\"pie\":[{\"automargin\":true,\"type\":\"pie\"}]},\"layout\":{\"autotypenumbers\":\"strict\",\"colorway\":[\"#636efa\",\"#EF553B\",\"#00cc96\",\"#ab63fa\",\"#FFA15A\",\"#19d3f3\",\"#FF6692\",\"#B6E880\",\"#FF97FF\",\"#FECB52\"],\"font\":{\"color\":\"#2a3f5f\"},\"hovermode\":\"closest\",\"hoverlabel\":{\"align\":\"left\"},\"paper_bgcolor\":\"white\",\"plot_bgcolor\":\"#E5ECF6\",\"polar\":{\"bgcolor\":\"#E5ECF6\",\"angularaxis\":{\"gridcolor\":\"white\",\"linecolor\":\"white\",\"ticks\":\"\"},\"radialaxis\":{\"gridcolor\":\"white\",\"linecolor\":\"white\",\"ticks\":\"\"}},\"ternary\":{\"bgcolor\":\"#E5ECF6\",\"aaxis\":{\"gridcolor\":\"white\",\"linecolor\":\"white\",\"ticks\":\"\"},\"baxis\":{\"gridcolor\":\"white\",\"linecolor\":\"white\",\"ticks\":\"\"},\"caxis\":{\"gridcolor\":\"white\",\"linecolor\":\"white\",\"ticks\":\"\"}},\"coloraxis\":{\"colorbar\":{\"outlinewidth\":0,\"ticks\":\"\"}},\"colorscale\":{\"sequential\":[[0.0,\"#0d0887\"],[0.1111111111111111,\"#46039f\"],[0.2222222222222222,\"#7201a8\"],[0.3333333333333333,\"#9c179e\"],[0.4444444444444444,\"#bd3786\"],[0.5555555555555556,\"#d8576b\"],[0.6666666666666666,\"#ed7953\"],[0.7777777777777778,\"#fb9f3a\"],[0.8888888888888888,\"#fdca26\"],[1.0,\"#f0f921\"]],\"sequentialminus\":[[0.0,\"#0d0887\"],[0.1111111111111111,\"#46039f\"],[0.2222222222222222,\"#7201a8\"],[0.3333333333333333,\"#9c179e\"],[0.4444444444444444,\"#bd3786\"],[0.5555555555555556,\"#d8576b\"],[0.6666666666666666,\"#ed7953\"],[0.7777777777777778,\"#fb9f3a\"],[0.8888888888888888,\"#fdca26\"],[1.0,\"#f0f921\"]],\"diverging\":[[0,\"#8e0152\"],[0.1,\"#c51b7d\"],[0.2,\"#de77ae\"],[0.3,\"#f1b6da\"],[0.4,\"#fde0ef\"],[0.5,\"#f7f7f7\"],[0.6,\"#e6f5d0\"],[0.7,\"#b8e186\"],[0.8,\"#7fbc41\"],[0.9,\"#4d9221\"],[1,\"#276419\"]]},\"xaxis\":{\"gridcolor\":\"white\",\"linecolor\":\"white\",\"ticks\":\"\",\"title\":{\"standoff\":15},\"zerolinecolor\":\"white\",\"automargin\":true,\"zerolinewidth\":2},\"yaxis\":{\"gridcolor\":\"white\",\"linecolor\":\"white\",\"ticks\":\"\",\"title\":{\"standoff\":15},\"zerolinecolor\":\"white\",\"automargin\":true,\"zerolinewidth\":2},\"scene\":{\"xaxis\":{\"backgroundcolor\":\"#E5ECF6\",\"gridcolor\":\"white\",\"linecolor\":\"white\",\"showbackground\":true,\"ticks\":\"\",\"zerolinecolor\":\"white\",\"gridwidth\":2},\"yaxis\":{\"backgroundcolor\":\"#E5ECF6\",\"gridcolor\":\"white\",\"linecolor\":\"white\",\"showbackground\":true,\"ticks\":\"\",\"zerolinecolor\":\"white\",\"gridwidth\":2},\"zaxis\":{\"backgroundcolor\":\"#E5ECF6\",\"gridcolor\":\"white\",\"linecolor\":\"white\",\"showbackground\":true,\"ticks\":\"\",\"zerolinecolor\":\"white\",\"gridwidth\":2}},\"shapedefaults\":{\"line\":{\"color\":\"#2a3f5f\"}},\"annotationdefaults\":{\"arrowcolor\":\"#2a3f5f\",\"arrowhead\":0,\"arrowwidth\":1},\"geo\":{\"bgcolor\":\"white\",\"landcolor\":\"#E5ECF6\",\"subunitcolor\":\"white\",\"showland\":true,\"showlakes\":true,\"lakecolor\":\"white\"},\"title\":{\"x\":0.05},\"mapbox\":{\"style\":\"light\"}}},\"title\":{\"text\":\"Number of Arrests Per Detailed Offense\"},\"xaxis\":{\"title\":{\"text\":\"Number of Occurrences\"}}},                        {\"responsive\": true}                    ).then(function(){\n",
       "                            \n",
       "var gd = document.getElementById('95ed5e7c-45b0-43d1-9a76-4b08d29eca58');\n",
       "var x = new MutationObserver(function (mutations, observer) {{\n",
       "        var display = window.getComputedStyle(gd).display;\n",
       "        if (!display || display === 'none') {{\n",
       "            console.log([gd, 'removed!']);\n",
       "            Plotly.purge(gd);\n",
       "            observer.disconnect();\n",
       "        }}\n",
       "}});\n",
       "\n",
       "// Listen for the removal of the full notebook cells\n",
       "var notebookContainer = gd.closest('#notebook-container');\n",
       "if (notebookContainer) {{\n",
       "    x.observe(notebookContainer, {childList: true});\n",
       "}}\n",
       "\n",
       "// Listen for the clearing of the current output cell\n",
       "var outputEl = gd.closest('.output');\n",
       "if (outputEl) {{\n",
       "    x.observe(outputEl, {childList: true});\n",
       "}}\n",
       "\n",
       "                        })                };                            </script>        </div>\n",
       "</body>\n",
       "</html>"
      ]
     },
     "metadata": {},
     "output_type": "display_data"
    }
   ],
   "source": [
    "import plotly.graph_objects as go\n",
    "\n",
    "# Group the dataset by offense and count the number of arrests per offense\n",
    "detailed_offense_counts = arrest.join(detailed_offense, arrest.PD_CD == detailed_offense.PD_CD)\\\n",
    "                      .groupBy('PD_DESC')\\\n",
    "                      .agg(count('*').alias('counts'))\\\n",
    "                      .orderBy('counts', ascending=False)\n",
    "\n",
    "# Get the top 7 offenses\n",
    "top_detailed_offenses = detailed_offense_counts.limit(7)\n",
    "\n",
    "# Convert to Pandas DataFrame for plotting\n",
    "detailed_offense_counts_df = top_detailed_offenses.toPandas()\n",
    "\n",
    "# Create a bar chart using Plotly Express\n",
    "fig = go.Figure(go.Bar(\n",
    "    x=detailed_offense_counts_df['counts'],\n",
    "    y=detailed_offense_counts_df['PD_DESC'],\n",
    "    orientation='h'\n",
    "))\n",
    "\n",
    "fig.update_layout(title='Number of Arrests Per Detailed Offense',\n",
    "                  xaxis_title='Number of Occurrences')\n",
    "\n",
    "fig.show()"
   ]
  },
  {
   "cell_type": "markdown",
   "metadata": {
    "id": "kQaoWUgRMv7i"
   },
   "source": [
    "## Time-Related Visuals"
   ]
  },
  {
   "cell_type": "code",
   "execution_count": 182,
   "metadata": {
    "colab": {
     "base_uri": "https://localhost:8080/",
     "height": 542
    },
    "id": "EYzGt6uAMxtv",
    "outputId": "ce79c984-3e14-4f67-f81f-d64b95ea8bc7"
   },
   "outputs": [
    {
     "data": {
      "text/html": [
       "<html>\n",
       "<head><meta charset=\"utf-8\" /></head>\n",
       "<body>\n",
       "    <div>            <script src=\"https://cdnjs.cloudflare.com/ajax/libs/mathjax/2.7.5/MathJax.js?config=TeX-AMS-MML_SVG\"></script><script type=\"text/javascript\">if (window.MathJax && window.MathJax.Hub && window.MathJax.Hub.Config) {window.MathJax.Hub.Config({SVG: {font: \"STIX-Web\"}});}</script>                <script type=\"text/javascript\">window.PlotlyConfig = {MathJaxConfig: 'local'};</script>\n",
       "        <script src=\"https://cdn.plot.ly/plotly-2.18.2.min.js\"></script>                <div id=\"70425df1-a369-41c8-ac9a-ae198274bc9e\" class=\"plotly-graph-div\" style=\"height:525px; width:100%;\"></div>            <script type=\"text/javascript\">                                    window.PLOTLYENV=window.PLOTLYENV || {};                                    if (document.getElementById(\"70425df1-a369-41c8-ac9a-ae198274bc9e\")) {                    Plotly.newPlot(                        \"70425df1-a369-41c8-ac9a-ae198274bc9e\",                        [{\"alignmentgroup\":\"True\",\"hovertemplate\":\"ARREST_DATE=%{x}<br>arrests=%{y}<extra></extra>\",\"legendgroup\":\"\",\"marker\":{\"color\":\"#636efa\",\"pattern\":{\"shape\":\"\"}},\"name\":\"\",\"offsetgroup\":\"\",\"orientation\":\"v\",\"showlegend\":false,\"textposition\":\"auto\",\"x\":[\"2022-03-28\",\"2022-07-31\",\"2022-08-02\",\"2022-07-27\",\"2022-11-29\",\"2022-12-25\",\"2022-01-31\",\"2022-05-19\",\"2022-05-26\",\"2022-06-18\",\"2022-06-22\",\"2022-01-29\",\"2022-06-06\",\"2022-03-16\",\"2022-11-21\",\"2022-07-07\",\"2022-04-02\",\"2022-04-10\",\"2022-03-15\",\"2022-03-12\",\"2022-12-09\",\"2022-12-02\",\"2022-10-19\",\"2022-02-25\",\"2022-12-20\",\"2022-02-16\",\"2022-08-20\",\"2022-08-11\",\"2022-09-29\",\"2022-11-20\",\"2022-05-01\",\"2022-01-15\",\"2022-01-09\",\"2022-04-27\",\"2022-12-11\",\"2022-03-22\",\"2022-05-07\",\"2022-09-06\",\"2022-09-07\",\"2022-12-12\",\"2022-02-01\",\"2022-05-23\",\"2022-07-05\",\"2022-08-15\",\"2022-04-12\",\"2022-12-28\",\"2022-06-02\",\"2022-01-18\",\"2022-06-05\",\"2022-08-03\",\"2022-12-19\",\"2022-03-19\",\"2022-12-29\",\"2022-08-07\",\"2022-01-10\",\"2022-05-24\",\"2022-04-18\",\"2022-07-15\",\"2022-08-08\",\"2022-06-29\",\"2022-07-29\",\"2022-10-11\",\"2022-01-08\",\"2022-09-20\",\"2022-04-09\",\"2022-11-01\",\"2022-01-24\",\"2022-04-06\",\"2022-06-28\",\"2022-05-06\",\"2022-06-19\",\"2022-04-21\",\"2022-07-24\",\"2022-01-23\",\"2022-12-08\",\"2022-08-14\",\"2022-03-11\",\"2022-02-15\",\"2022-07-10\",\"2022-07-16\",\"2022-08-12\",\"2022-01-16\",\"2022-12-06\",\"2022-10-06\",\"2022-11-23\",\"2022-07-01\",\"2022-11-10\",\"2022-12-26\",\"2022-07-14\",\"2022-12-17\",\"2022-02-12\",\"2022-02-22\",\"2022-07-13\",\"2022-12-05\",\"2022-05-02\",\"2022-03-26\",\"2022-08-05\",\"2022-12-10\",\"2022-02-28\",\"2022-12-04\",\"2022-08-10\",\"2022-04-15\",\"2022-09-09\",\"2022-11-28\",\"2022-01-13\",\"2022-09-28\",\"2022-06-23\",\"2022-10-23\",\"2022-11-22\",\"2022-02-10\",\"2022-02-06\",\"2022-09-24\",\"2022-11-24\",\"2022-02-04\",\"2022-10-18\",\"2022-03-09\",\"2022-06-03\",\"2022-04-19\",\"2022-07-22\",\"2022-08-18\",\"2022-10-20\",\"2022-02-07\",\"2022-10-07\",\"2022-08-25\",\"2022-10-15\",\"2022-03-25\",\"2022-06-16\",\"2022-09-12\",\"2022-09-25\",\"2022-10-24\",\"2022-06-17\",\"2022-08-06\",\"2022-12-21\",\"2022-01-06\",\"2022-02-03\",\"2022-09-05\",\"2022-03-01\",\"2022-09-26\",\"2022-11-04\",\"2022-07-11\",\"2022-10-14\",\"2022-11-14\",\"2022-02-23\",\"2022-10-08\",\"2022-10-05\",\"2022-05-18\",\"2022-07-30\",\"2022-11-07\",\"2022-02-21\",\"2022-03-14\",\"2022-05-20\",\"2022-02-19\",\"2022-06-12\",\"2022-10-26\",\"2022-03-07\",\"2022-07-02\",\"2022-10-21\",\"2022-06-11\",\"2022-03-27\",\"2022-06-07\",\"2022-09-14\",\"2022-12-27\",\"2022-05-05\",\"2022-07-03\",\"2022-05-28\",\"2022-07-08\",\"2022-12-15\",\"2022-12-24\",\"2022-10-10\",\"2022-07-17\",\"2022-03-08\",\"2022-04-30\",\"2022-09-01\",\"2022-08-28\",\"2022-11-03\",\"2022-01-03\",\"2022-08-23\",\"2022-02-08\",\"2022-02-14\",\"2022-02-27\",\"2022-07-04\",\"2022-02-13\",\"2022-09-02\",\"2022-11-11\",\"2022-04-23\",\"2022-02-09\",\"2022-10-04\",\"2022-07-21\",\"2022-08-01\",\"2022-02-20\",\"2022-01-25\",\"2022-06-09\",\"2022-04-11\",\"2022-08-09\",\"2022-12-03\",\"2022-09-15\",\"2022-07-25\",\"2022-01-30\",\"2022-01-07\",\"2022-09-21\",\"2022-05-22\",\"2022-09-10\",\"2022-05-14\",\"2022-11-13\",\"2022-06-15\",\"2022-05-10\",\"2022-04-07\",\"2022-08-26\",\"2022-12-07\",\"2022-05-12\",\"2022-07-09\",\"2022-11-09\",\"2022-03-13\",\"2022-05-27\",\"2022-01-22\",\"2022-05-30\",\"2022-10-17\",\"2022-05-16\",\"2022-02-05\",\"2022-01-04\",\"2022-10-27\",\"2022-10-30\",\"2022-05-29\",\"2022-09-27\",\"2022-12-18\",\"2022-09-18\",\"2022-07-19\",\"2022-01-17\",\"2022-08-16\",\"2022-03-24\",\"2022-05-15\",\"2022-01-28\",\"2022-11-12\",\"2022-06-08\",\"2022-07-28\",\"2022-12-13\",\"2022-01-20\",\"2022-10-03\",\"2022-06-10\",\"2022-08-29\",\"2022-03-06\",\"2022-03-29\",\"2022-09-03\",\"2022-04-22\",\"2022-05-11\",\"2022-11-19\",\"2022-06-25\",\"2022-10-12\",\"2022-04-29\",\"2022-03-18\",\"2022-10-01\",\"2022-05-09\",\"2022-09-30\",\"2022-03-10\",\"2022-07-23\",\"2022-11-27\",\"2022-11-26\",\"2022-08-19\",\"2022-07-26\",\"2022-03-20\",\"2022-02-18\",\"2022-11-06\",\"2022-04-14\",\"2022-09-23\",\"2022-02-26\",\"2022-11-16\",\"2022-03-31\",\"2022-04-08\",\"2022-04-16\",\"2022-11-08\",\"2022-10-09\",\"2022-03-17\",\"2022-09-22\",\"2022-04-13\",\"2022-12-16\",\"2022-01-05\",\"2022-06-14\",\"2022-04-24\",\"2022-08-04\",\"2022-07-18\",\"2022-10-25\",\"2022-05-31\",\"2022-01-14\",\"2022-04-01\",\"2022-12-01\",\"2022-08-17\",\"2022-01-19\",\"2022-06-26\",\"2022-09-11\",\"2022-07-20\",\"2022-03-21\",\"2022-03-30\",\"2022-03-03\",\"2022-05-08\",\"2022-08-21\",\"2022-11-17\",\"2022-03-23\",\"2022-11-18\",\"2022-05-04\",\"2022-04-04\",\"2022-05-13\",\"2022-04-20\",\"2022-08-22\",\"2022-03-04\",\"2022-08-24\",\"2022-11-05\",\"2022-01-12\",\"2022-06-27\",\"2022-11-02\",\"2022-02-02\",\"2022-10-29\",\"2022-05-17\",\"2022-04-28\",\"2022-10-13\",\"2022-10-22\",\"2022-01-01\",\"2022-03-02\",\"2022-07-06\",\"2022-04-26\",\"2022-04-05\",\"2022-09-19\",\"2022-09-04\",\"2022-02-17\",\"2022-07-12\",\"2022-12-30\",\"2022-10-16\",\"2022-11-25\",\"2022-08-27\",\"2022-06-04\",\"2022-06-20\",\"2022-12-14\",\"2022-06-24\",\"2022-02-11\",\"2022-01-21\",\"2022-06-01\",\"2022-06-30\",\"2022-06-13\",\"2022-01-11\",\"2022-08-30\",\"2022-09-08\",\"2022-04-25\",\"2022-02-24\",\"2022-09-17\",\"2022-01-26\",\"2022-09-16\",\"2022-11-30\",\"2022-01-02\",\"2022-08-13\",\"2022-12-23\",\"2022-06-21\",\"2022-12-22\",\"2022-05-25\",\"2022-04-03\",\"2022-11-15\",\"2022-05-21\",\"2022-10-28\",\"2022-10-31\",\"2022-12-31\",\"2022-01-27\",\"2022-10-02\",\"2022-05-03\",\"2022-04-17\",\"2022-03-05\",\"2022-09-13\",\"2022-08-31\"],\"xaxis\":\"x\",\"y\":[390,328,428,605,693,240,336,618,610,446,632,223,476,704,432,652,410,427,600,402,547,538,872,415,564,627,422,580,769,384,438,369,311,668,336,668,351,526,765,421,538,539,596,440,625,615,662,595,423,455,440,406,622,435,380,604,363,500,400,671,443,719,392,591,475,695,335,711,532,577,325,682,423,342,690,402,554,620,422,415,565,298,602,730,552,576,659,331,657,463,476,505,647,498,432,454,488,487,450,422,680,504,516,464,591,611,607,334,625,625,419,410,229,493,683,614,587,585,462,598,665,381,547,629,470,587,660,421,392,466,506,449,592,544,577,339,638,422,619,397,520,469,666,459,701,627,427,473,394,501,486,424,413,728,458,458,584,449,389,716,759,529,735,427,428,557,484,217,424,403,644,409,692,379,752,313,582,629,423,372,401,346,515,550,411,713,656,517,380,379,602,616,572,591,488,609,401,243,364,636,380,397,460,357,649,623,660,522,651,660,406,768,307,467,354,364,403,517,460,437,665,416,395,658,344,391,615,365,597,587,366,252,534,689,594,677,610,425,526,463,431,586,447,536,708,459,428,692,478,504,429,488,617,707,468,396,464,516,622,401,567,435,645,485,386,786,669,596,434,666,362,609,545,668,485,516,623,376,562,447,781,551,528,571,689,610,631,389,356,582,500,652,618,375,351,670,605,538,744,501,574,650,445,547,630,421,586,436,769,333,443,630,601,717,440,357,724,654,629,684,381,424,688,643,477,393,520,458,468,418,645,505,588,514,746,621,550,549,644,638,496,530,390,472,535,601,262,408,334,605,470,662,428,627,451,609,415,356,477,339,645,245,445,599,574],\"yaxis\":\"y\",\"type\":\"bar\"}],                        {\"template\":{\"data\":{\"histogram2dcontour\":[{\"type\":\"histogram2dcontour\",\"colorbar\":{\"outlinewidth\":0,\"ticks\":\"\"},\"colorscale\":[[0.0,\"#0d0887\"],[0.1111111111111111,\"#46039f\"],[0.2222222222222222,\"#7201a8\"],[0.3333333333333333,\"#9c179e\"],[0.4444444444444444,\"#bd3786\"],[0.5555555555555556,\"#d8576b\"],[0.6666666666666666,\"#ed7953\"],[0.7777777777777778,\"#fb9f3a\"],[0.8888888888888888,\"#fdca26\"],[1.0,\"#f0f921\"]]}],\"choropleth\":[{\"type\":\"choropleth\",\"colorbar\":{\"outlinewidth\":0,\"ticks\":\"\"}}],\"histogram2d\":[{\"type\":\"histogram2d\",\"colorbar\":{\"outlinewidth\":0,\"ticks\":\"\"},\"colorscale\":[[0.0,\"#0d0887\"],[0.1111111111111111,\"#46039f\"],[0.2222222222222222,\"#7201a8\"],[0.3333333333333333,\"#9c179e\"],[0.4444444444444444,\"#bd3786\"],[0.5555555555555556,\"#d8576b\"],[0.6666666666666666,\"#ed7953\"],[0.7777777777777778,\"#fb9f3a\"],[0.8888888888888888,\"#fdca26\"],[1.0,\"#f0f921\"]]}],\"heatmap\":[{\"type\":\"heatmap\",\"colorbar\":{\"outlinewidth\":0,\"ticks\":\"\"},\"colorscale\":[[0.0,\"#0d0887\"],[0.1111111111111111,\"#46039f\"],[0.2222222222222222,\"#7201a8\"],[0.3333333333333333,\"#9c179e\"],[0.4444444444444444,\"#bd3786\"],[0.5555555555555556,\"#d8576b\"],[0.6666666666666666,\"#ed7953\"],[0.7777777777777778,\"#fb9f3a\"],[0.8888888888888888,\"#fdca26\"],[1.0,\"#f0f921\"]]}],\"heatmapgl\":[{\"type\":\"heatmapgl\",\"colorbar\":{\"outlinewidth\":0,\"ticks\":\"\"},\"colorscale\":[[0.0,\"#0d0887\"],[0.1111111111111111,\"#46039f\"],[0.2222222222222222,\"#7201a8\"],[0.3333333333333333,\"#9c179e\"],[0.4444444444444444,\"#bd3786\"],[0.5555555555555556,\"#d8576b\"],[0.6666666666666666,\"#ed7953\"],[0.7777777777777778,\"#fb9f3a\"],[0.8888888888888888,\"#fdca26\"],[1.0,\"#f0f921\"]]}],\"contourcarpet\":[{\"type\":\"contourcarpet\",\"colorbar\":{\"outlinewidth\":0,\"ticks\":\"\"}}],\"contour\":[{\"type\":\"contour\",\"colorbar\":{\"outlinewidth\":0,\"ticks\":\"\"},\"colorscale\":[[0.0,\"#0d0887\"],[0.1111111111111111,\"#46039f\"],[0.2222222222222222,\"#7201a8\"],[0.3333333333333333,\"#9c179e\"],[0.4444444444444444,\"#bd3786\"],[0.5555555555555556,\"#d8576b\"],[0.6666666666666666,\"#ed7953\"],[0.7777777777777778,\"#fb9f3a\"],[0.8888888888888888,\"#fdca26\"],[1.0,\"#f0f921\"]]}],\"surface\":[{\"type\":\"surface\",\"colorbar\":{\"outlinewidth\":0,\"ticks\":\"\"},\"colorscale\":[[0.0,\"#0d0887\"],[0.1111111111111111,\"#46039f\"],[0.2222222222222222,\"#7201a8\"],[0.3333333333333333,\"#9c179e\"],[0.4444444444444444,\"#bd3786\"],[0.5555555555555556,\"#d8576b\"],[0.6666666666666666,\"#ed7953\"],[0.7777777777777778,\"#fb9f3a\"],[0.8888888888888888,\"#fdca26\"],[1.0,\"#f0f921\"]]}],\"mesh3d\":[{\"type\":\"mesh3d\",\"colorbar\":{\"outlinewidth\":0,\"ticks\":\"\"}}],\"scatter\":[{\"fillpattern\":{\"fillmode\":\"overlay\",\"size\":10,\"solidity\":0.2},\"type\":\"scatter\"}],\"parcoords\":[{\"type\":\"parcoords\",\"line\":{\"colorbar\":{\"outlinewidth\":0,\"ticks\":\"\"}}}],\"scatterpolargl\":[{\"type\":\"scatterpolargl\",\"marker\":{\"colorbar\":{\"outlinewidth\":0,\"ticks\":\"\"}}}],\"bar\":[{\"error_x\":{\"color\":\"#2a3f5f\"},\"error_y\":{\"color\":\"#2a3f5f\"},\"marker\":{\"line\":{\"color\":\"#E5ECF6\",\"width\":0.5},\"pattern\":{\"fillmode\":\"overlay\",\"size\":10,\"solidity\":0.2}},\"type\":\"bar\"}],\"scattergeo\":[{\"type\":\"scattergeo\",\"marker\":{\"colorbar\":{\"outlinewidth\":0,\"ticks\":\"\"}}}],\"scatterpolar\":[{\"type\":\"scatterpolar\",\"marker\":{\"colorbar\":{\"outlinewidth\":0,\"ticks\":\"\"}}}],\"histogram\":[{\"marker\":{\"pattern\":{\"fillmode\":\"overlay\",\"size\":10,\"solidity\":0.2}},\"type\":\"histogram\"}],\"scattergl\":[{\"type\":\"scattergl\",\"marker\":{\"colorbar\":{\"outlinewidth\":0,\"ticks\":\"\"}}}],\"scatter3d\":[{\"type\":\"scatter3d\",\"line\":{\"colorbar\":{\"outlinewidth\":0,\"ticks\":\"\"}},\"marker\":{\"colorbar\":{\"outlinewidth\":0,\"ticks\":\"\"}}}],\"scattermapbox\":[{\"type\":\"scattermapbox\",\"marker\":{\"colorbar\":{\"outlinewidth\":0,\"ticks\":\"\"}}}],\"scatterternary\":[{\"type\":\"scatterternary\",\"marker\":{\"colorbar\":{\"outlinewidth\":0,\"ticks\":\"\"}}}],\"scattercarpet\":[{\"type\":\"scattercarpet\",\"marker\":{\"colorbar\":{\"outlinewidth\":0,\"ticks\":\"\"}}}],\"carpet\":[{\"aaxis\":{\"endlinecolor\":\"#2a3f5f\",\"gridcolor\":\"white\",\"linecolor\":\"white\",\"minorgridcolor\":\"white\",\"startlinecolor\":\"#2a3f5f\"},\"baxis\":{\"endlinecolor\":\"#2a3f5f\",\"gridcolor\":\"white\",\"linecolor\":\"white\",\"minorgridcolor\":\"white\",\"startlinecolor\":\"#2a3f5f\"},\"type\":\"carpet\"}],\"table\":[{\"cells\":{\"fill\":{\"color\":\"#EBF0F8\"},\"line\":{\"color\":\"white\"}},\"header\":{\"fill\":{\"color\":\"#C8D4E3\"},\"line\":{\"color\":\"white\"}},\"type\":\"table\"}],\"barpolar\":[{\"marker\":{\"line\":{\"color\":\"#E5ECF6\",\"width\":0.5},\"pattern\":{\"fillmode\":\"overlay\",\"size\":10,\"solidity\":0.2}},\"type\":\"barpolar\"}],\"pie\":[{\"automargin\":true,\"type\":\"pie\"}]},\"layout\":{\"autotypenumbers\":\"strict\",\"colorway\":[\"#636efa\",\"#EF553B\",\"#00cc96\",\"#ab63fa\",\"#FFA15A\",\"#19d3f3\",\"#FF6692\",\"#B6E880\",\"#FF97FF\",\"#FECB52\"],\"font\":{\"color\":\"#2a3f5f\"},\"hovermode\":\"closest\",\"hoverlabel\":{\"align\":\"left\"},\"paper_bgcolor\":\"white\",\"plot_bgcolor\":\"#E5ECF6\",\"polar\":{\"bgcolor\":\"#E5ECF6\",\"angularaxis\":{\"gridcolor\":\"white\",\"linecolor\":\"white\",\"ticks\":\"\"},\"radialaxis\":{\"gridcolor\":\"white\",\"linecolor\":\"white\",\"ticks\":\"\"}},\"ternary\":{\"bgcolor\":\"#E5ECF6\",\"aaxis\":{\"gridcolor\":\"white\",\"linecolor\":\"white\",\"ticks\":\"\"},\"baxis\":{\"gridcolor\":\"white\",\"linecolor\":\"white\",\"ticks\":\"\"},\"caxis\":{\"gridcolor\":\"white\",\"linecolor\":\"white\",\"ticks\":\"\"}},\"coloraxis\":{\"colorbar\":{\"outlinewidth\":0,\"ticks\":\"\"}},\"colorscale\":{\"sequential\":[[0.0,\"#0d0887\"],[0.1111111111111111,\"#46039f\"],[0.2222222222222222,\"#7201a8\"],[0.3333333333333333,\"#9c179e\"],[0.4444444444444444,\"#bd3786\"],[0.5555555555555556,\"#d8576b\"],[0.6666666666666666,\"#ed7953\"],[0.7777777777777778,\"#fb9f3a\"],[0.8888888888888888,\"#fdca26\"],[1.0,\"#f0f921\"]],\"sequentialminus\":[[0.0,\"#0d0887\"],[0.1111111111111111,\"#46039f\"],[0.2222222222222222,\"#7201a8\"],[0.3333333333333333,\"#9c179e\"],[0.4444444444444444,\"#bd3786\"],[0.5555555555555556,\"#d8576b\"],[0.6666666666666666,\"#ed7953\"],[0.7777777777777778,\"#fb9f3a\"],[0.8888888888888888,\"#fdca26\"],[1.0,\"#f0f921\"]],\"diverging\":[[0,\"#8e0152\"],[0.1,\"#c51b7d\"],[0.2,\"#de77ae\"],[0.3,\"#f1b6da\"],[0.4,\"#fde0ef\"],[0.5,\"#f7f7f7\"],[0.6,\"#e6f5d0\"],[0.7,\"#b8e186\"],[0.8,\"#7fbc41\"],[0.9,\"#4d9221\"],[1,\"#276419\"]]},\"xaxis\":{\"gridcolor\":\"white\",\"linecolor\":\"white\",\"ticks\":\"\",\"title\":{\"standoff\":15},\"zerolinecolor\":\"white\",\"automargin\":true,\"zerolinewidth\":2},\"yaxis\":{\"gridcolor\":\"white\",\"linecolor\":\"white\",\"ticks\":\"\",\"title\":{\"standoff\":15},\"zerolinecolor\":\"white\",\"automargin\":true,\"zerolinewidth\":2},\"scene\":{\"xaxis\":{\"backgroundcolor\":\"#E5ECF6\",\"gridcolor\":\"white\",\"linecolor\":\"white\",\"showbackground\":true,\"ticks\":\"\",\"zerolinecolor\":\"white\",\"gridwidth\":2},\"yaxis\":{\"backgroundcolor\":\"#E5ECF6\",\"gridcolor\":\"white\",\"linecolor\":\"white\",\"showbackground\":true,\"ticks\":\"\",\"zerolinecolor\":\"white\",\"gridwidth\":2},\"zaxis\":{\"backgroundcolor\":\"#E5ECF6\",\"gridcolor\":\"white\",\"linecolor\":\"white\",\"showbackground\":true,\"ticks\":\"\",\"zerolinecolor\":\"white\",\"gridwidth\":2}},\"shapedefaults\":{\"line\":{\"color\":\"#2a3f5f\"}},\"annotationdefaults\":{\"arrowcolor\":\"#2a3f5f\",\"arrowhead\":0,\"arrowwidth\":1},\"geo\":{\"bgcolor\":\"white\",\"landcolor\":\"#E5ECF6\",\"subunitcolor\":\"white\",\"showland\":true,\"showlakes\":true,\"lakecolor\":\"white\"},\"title\":{\"x\":0.05},\"mapbox\":{\"style\":\"light\"}}},\"xaxis\":{\"anchor\":\"y\",\"domain\":[0.0,1.0],\"title\":{\"text\":\"ARREST_DATE\"}},\"yaxis\":{\"anchor\":\"x\",\"domain\":[0.0,1.0],\"title\":{\"text\":\"arrests\"}},\"legend\":{\"tracegroupgap\":0},\"title\":{\"text\":\"Number of Arrests by Date\"},\"barmode\":\"relative\"},                        {\"responsive\": true}                    ).then(function(){\n",
       "                            \n",
       "var gd = document.getElementById('70425df1-a369-41c8-ac9a-ae198274bc9e');\n",
       "var x = new MutationObserver(function (mutations, observer) {{\n",
       "        var display = window.getComputedStyle(gd).display;\n",
       "        if (!display || display === 'none') {{\n",
       "            console.log([gd, 'removed!']);\n",
       "            Plotly.purge(gd);\n",
       "            observer.disconnect();\n",
       "        }}\n",
       "}});\n",
       "\n",
       "// Listen for the removal of the full notebook cells\n",
       "var notebookContainer = gd.closest('#notebook-container');\n",
       "if (notebookContainer) {{\n",
       "    x.observe(notebookContainer, {childList: true});\n",
       "}}\n",
       "\n",
       "// Listen for the clearing of the current output cell\n",
       "var outputEl = gd.closest('.output');\n",
       "if (outputEl) {{\n",
       "    x.observe(outputEl, {childList: true});\n",
       "}}\n",
       "\n",
       "                        })                };                            </script>        </div>\n",
       "</body>\n",
       "</html>"
      ]
     },
     "metadata": {},
     "output_type": "display_data"
    }
   ],
   "source": [
    "from pyspark.sql.functions import count, to_date\n",
    "\n",
    "# Convert ARREST_DATE column to date type\n",
    "arrest = arrest.withColumn('ARREST_DATE', to_date(arrest.ARREST_DATE, 'yyyy-MM-dd'))\n",
    "\n",
    "# Group arrests by date and count the number of arrests per date\n",
    "arrest_count = arrest.groupBy('ARREST_DATE').agg(count('*').alias('arrests'))\n",
    "\n",
    "# Convert to Pandas DataFrame for plotting\n",
    "arrest_count_df = arrest_count.toPandas()\n",
    "\n",
    "# Create a line plot using Plotly Express\n",
    "fig = px.bar(arrest_count_df, x='ARREST_DATE', y='arrests', title='Number of Arrests by Date')\n",
    "fig.show()"
   ]
  },
  {
   "cell_type": "code",
   "execution_count": 183,
   "metadata": {
    "colab": {
     "base_uri": "https://localhost:8080/",
     "height": 542
    },
    "id": "A0NLrjMNN3y4",
    "outputId": "62153b74-c59d-4120-ad4f-66bc7683735b"
   },
   "outputs": [
    {
     "data": {
      "text/html": [
       "<html>\n",
       "<head><meta charset=\"utf-8\" /></head>\n",
       "<body>\n",
       "    <div>            <script src=\"https://cdnjs.cloudflare.com/ajax/libs/mathjax/2.7.5/MathJax.js?config=TeX-AMS-MML_SVG\"></script><script type=\"text/javascript\">if (window.MathJax && window.MathJax.Hub && window.MathJax.Hub.Config) {window.MathJax.Hub.Config({SVG: {font: \"STIX-Web\"}});}</script>                <script type=\"text/javascript\">window.PlotlyConfig = {MathJaxConfig: 'local'};</script>\n",
       "        <script src=\"https://cdn.plot.ly/plotly-2.18.2.min.js\"></script>                <div id=\"ad56e64a-ca7a-4693-a481-c92626618b0f\" class=\"plotly-graph-div\" style=\"height:525px; width:100%;\"></div>            <script type=\"text/javascript\">                                    window.PLOTLYENV=window.PLOTLYENV || {};                                    if (document.getElementById(\"ad56e64a-ca7a-4693-a481-c92626618b0f\")) {                    Plotly.newPlot(                        \"ad56e64a-ca7a-4693-a481-c92626618b0f\",                        [{\"alignmentgroup\":\"True\",\"hovertemplate\":\"Month=%{x}<br>Number of Arrests=%{y}<extra></extra>\",\"legendgroup\":\"\",\"marker\":{\"color\":\"#636efa\",\"pattern\":{\"shape\":\"\"}},\"name\":\"\",\"offsetgroup\":\"\",\"orientation\":\"v\",\"showlegend\":false,\"textposition\":\"auto\",\"x\":[1,2,3,4,5,6,7,8,9,10,11,12],\"xaxis\":\"x\",\"y\":[13148,14024,16901,16040,16505,16374,15745,15683,15836,17087,16607,15254],\"yaxis\":\"y\",\"type\":\"bar\"}],                        {\"template\":{\"data\":{\"histogram2dcontour\":[{\"type\":\"histogram2dcontour\",\"colorbar\":{\"outlinewidth\":0,\"ticks\":\"\"},\"colorscale\":[[0.0,\"#0d0887\"],[0.1111111111111111,\"#46039f\"],[0.2222222222222222,\"#7201a8\"],[0.3333333333333333,\"#9c179e\"],[0.4444444444444444,\"#bd3786\"],[0.5555555555555556,\"#d8576b\"],[0.6666666666666666,\"#ed7953\"],[0.7777777777777778,\"#fb9f3a\"],[0.8888888888888888,\"#fdca26\"],[1.0,\"#f0f921\"]]}],\"choropleth\":[{\"type\":\"choropleth\",\"colorbar\":{\"outlinewidth\":0,\"ticks\":\"\"}}],\"histogram2d\":[{\"type\":\"histogram2d\",\"colorbar\":{\"outlinewidth\":0,\"ticks\":\"\"},\"colorscale\":[[0.0,\"#0d0887\"],[0.1111111111111111,\"#46039f\"],[0.2222222222222222,\"#7201a8\"],[0.3333333333333333,\"#9c179e\"],[0.4444444444444444,\"#bd3786\"],[0.5555555555555556,\"#d8576b\"],[0.6666666666666666,\"#ed7953\"],[0.7777777777777778,\"#fb9f3a\"],[0.8888888888888888,\"#fdca26\"],[1.0,\"#f0f921\"]]}],\"heatmap\":[{\"type\":\"heatmap\",\"colorbar\":{\"outlinewidth\":0,\"ticks\":\"\"},\"colorscale\":[[0.0,\"#0d0887\"],[0.1111111111111111,\"#46039f\"],[0.2222222222222222,\"#7201a8\"],[0.3333333333333333,\"#9c179e\"],[0.4444444444444444,\"#bd3786\"],[0.5555555555555556,\"#d8576b\"],[0.6666666666666666,\"#ed7953\"],[0.7777777777777778,\"#fb9f3a\"],[0.8888888888888888,\"#fdca26\"],[1.0,\"#f0f921\"]]}],\"heatmapgl\":[{\"type\":\"heatmapgl\",\"colorbar\":{\"outlinewidth\":0,\"ticks\":\"\"},\"colorscale\":[[0.0,\"#0d0887\"],[0.1111111111111111,\"#46039f\"],[0.2222222222222222,\"#7201a8\"],[0.3333333333333333,\"#9c179e\"],[0.4444444444444444,\"#bd3786\"],[0.5555555555555556,\"#d8576b\"],[0.6666666666666666,\"#ed7953\"],[0.7777777777777778,\"#fb9f3a\"],[0.8888888888888888,\"#fdca26\"],[1.0,\"#f0f921\"]]}],\"contourcarpet\":[{\"type\":\"contourcarpet\",\"colorbar\":{\"outlinewidth\":0,\"ticks\":\"\"}}],\"contour\":[{\"type\":\"contour\",\"colorbar\":{\"outlinewidth\":0,\"ticks\":\"\"},\"colorscale\":[[0.0,\"#0d0887\"],[0.1111111111111111,\"#46039f\"],[0.2222222222222222,\"#7201a8\"],[0.3333333333333333,\"#9c179e\"],[0.4444444444444444,\"#bd3786\"],[0.5555555555555556,\"#d8576b\"],[0.6666666666666666,\"#ed7953\"],[0.7777777777777778,\"#fb9f3a\"],[0.8888888888888888,\"#fdca26\"],[1.0,\"#f0f921\"]]}],\"surface\":[{\"type\":\"surface\",\"colorbar\":{\"outlinewidth\":0,\"ticks\":\"\"},\"colorscale\":[[0.0,\"#0d0887\"],[0.1111111111111111,\"#46039f\"],[0.2222222222222222,\"#7201a8\"],[0.3333333333333333,\"#9c179e\"],[0.4444444444444444,\"#bd3786\"],[0.5555555555555556,\"#d8576b\"],[0.6666666666666666,\"#ed7953\"],[0.7777777777777778,\"#fb9f3a\"],[0.8888888888888888,\"#fdca26\"],[1.0,\"#f0f921\"]]}],\"mesh3d\":[{\"type\":\"mesh3d\",\"colorbar\":{\"outlinewidth\":0,\"ticks\":\"\"}}],\"scatter\":[{\"fillpattern\":{\"fillmode\":\"overlay\",\"size\":10,\"solidity\":0.2},\"type\":\"scatter\"}],\"parcoords\":[{\"type\":\"parcoords\",\"line\":{\"colorbar\":{\"outlinewidth\":0,\"ticks\":\"\"}}}],\"scatterpolargl\":[{\"type\":\"scatterpolargl\",\"marker\":{\"colorbar\":{\"outlinewidth\":0,\"ticks\":\"\"}}}],\"bar\":[{\"error_x\":{\"color\":\"#2a3f5f\"},\"error_y\":{\"color\":\"#2a3f5f\"},\"marker\":{\"line\":{\"color\":\"#E5ECF6\",\"width\":0.5},\"pattern\":{\"fillmode\":\"overlay\",\"size\":10,\"solidity\":0.2}},\"type\":\"bar\"}],\"scattergeo\":[{\"type\":\"scattergeo\",\"marker\":{\"colorbar\":{\"outlinewidth\":0,\"ticks\":\"\"}}}],\"scatterpolar\":[{\"type\":\"scatterpolar\",\"marker\":{\"colorbar\":{\"outlinewidth\":0,\"ticks\":\"\"}}}],\"histogram\":[{\"marker\":{\"pattern\":{\"fillmode\":\"overlay\",\"size\":10,\"solidity\":0.2}},\"type\":\"histogram\"}],\"scattergl\":[{\"type\":\"scattergl\",\"marker\":{\"colorbar\":{\"outlinewidth\":0,\"ticks\":\"\"}}}],\"scatter3d\":[{\"type\":\"scatter3d\",\"line\":{\"colorbar\":{\"outlinewidth\":0,\"ticks\":\"\"}},\"marker\":{\"colorbar\":{\"outlinewidth\":0,\"ticks\":\"\"}}}],\"scattermapbox\":[{\"type\":\"scattermapbox\",\"marker\":{\"colorbar\":{\"outlinewidth\":0,\"ticks\":\"\"}}}],\"scatterternary\":[{\"type\":\"scatterternary\",\"marker\":{\"colorbar\":{\"outlinewidth\":0,\"ticks\":\"\"}}}],\"scattercarpet\":[{\"type\":\"scattercarpet\",\"marker\":{\"colorbar\":{\"outlinewidth\":0,\"ticks\":\"\"}}}],\"carpet\":[{\"aaxis\":{\"endlinecolor\":\"#2a3f5f\",\"gridcolor\":\"white\",\"linecolor\":\"white\",\"minorgridcolor\":\"white\",\"startlinecolor\":\"#2a3f5f\"},\"baxis\":{\"endlinecolor\":\"#2a3f5f\",\"gridcolor\":\"white\",\"linecolor\":\"white\",\"minorgridcolor\":\"white\",\"startlinecolor\":\"#2a3f5f\"},\"type\":\"carpet\"}],\"table\":[{\"cells\":{\"fill\":{\"color\":\"#EBF0F8\"},\"line\":{\"color\":\"white\"}},\"header\":{\"fill\":{\"color\":\"#C8D4E3\"},\"line\":{\"color\":\"white\"}},\"type\":\"table\"}],\"barpolar\":[{\"marker\":{\"line\":{\"color\":\"#E5ECF6\",\"width\":0.5},\"pattern\":{\"fillmode\":\"overlay\",\"size\":10,\"solidity\":0.2}},\"type\":\"barpolar\"}],\"pie\":[{\"automargin\":true,\"type\":\"pie\"}]},\"layout\":{\"autotypenumbers\":\"strict\",\"colorway\":[\"#636efa\",\"#EF553B\",\"#00cc96\",\"#ab63fa\",\"#FFA15A\",\"#19d3f3\",\"#FF6692\",\"#B6E880\",\"#FF97FF\",\"#FECB52\"],\"font\":{\"color\":\"#2a3f5f\"},\"hovermode\":\"closest\",\"hoverlabel\":{\"align\":\"left\"},\"paper_bgcolor\":\"white\",\"plot_bgcolor\":\"#E5ECF6\",\"polar\":{\"bgcolor\":\"#E5ECF6\",\"angularaxis\":{\"gridcolor\":\"white\",\"linecolor\":\"white\",\"ticks\":\"\"},\"radialaxis\":{\"gridcolor\":\"white\",\"linecolor\":\"white\",\"ticks\":\"\"}},\"ternary\":{\"bgcolor\":\"#E5ECF6\",\"aaxis\":{\"gridcolor\":\"white\",\"linecolor\":\"white\",\"ticks\":\"\"},\"baxis\":{\"gridcolor\":\"white\",\"linecolor\":\"white\",\"ticks\":\"\"},\"caxis\":{\"gridcolor\":\"white\",\"linecolor\":\"white\",\"ticks\":\"\"}},\"coloraxis\":{\"colorbar\":{\"outlinewidth\":0,\"ticks\":\"\"}},\"colorscale\":{\"sequential\":[[0.0,\"#0d0887\"],[0.1111111111111111,\"#46039f\"],[0.2222222222222222,\"#7201a8\"],[0.3333333333333333,\"#9c179e\"],[0.4444444444444444,\"#bd3786\"],[0.5555555555555556,\"#d8576b\"],[0.6666666666666666,\"#ed7953\"],[0.7777777777777778,\"#fb9f3a\"],[0.8888888888888888,\"#fdca26\"],[1.0,\"#f0f921\"]],\"sequentialminus\":[[0.0,\"#0d0887\"],[0.1111111111111111,\"#46039f\"],[0.2222222222222222,\"#7201a8\"],[0.3333333333333333,\"#9c179e\"],[0.4444444444444444,\"#bd3786\"],[0.5555555555555556,\"#d8576b\"],[0.6666666666666666,\"#ed7953\"],[0.7777777777777778,\"#fb9f3a\"],[0.8888888888888888,\"#fdca26\"],[1.0,\"#f0f921\"]],\"diverging\":[[0,\"#8e0152\"],[0.1,\"#c51b7d\"],[0.2,\"#de77ae\"],[0.3,\"#f1b6da\"],[0.4,\"#fde0ef\"],[0.5,\"#f7f7f7\"],[0.6,\"#e6f5d0\"],[0.7,\"#b8e186\"],[0.8,\"#7fbc41\"],[0.9,\"#4d9221\"],[1,\"#276419\"]]},\"xaxis\":{\"gridcolor\":\"white\",\"linecolor\":\"white\",\"ticks\":\"\",\"title\":{\"standoff\":15},\"zerolinecolor\":\"white\",\"automargin\":true,\"zerolinewidth\":2},\"yaxis\":{\"gridcolor\":\"white\",\"linecolor\":\"white\",\"ticks\":\"\",\"title\":{\"standoff\":15},\"zerolinecolor\":\"white\",\"automargin\":true,\"zerolinewidth\":2},\"scene\":{\"xaxis\":{\"backgroundcolor\":\"#E5ECF6\",\"gridcolor\":\"white\",\"linecolor\":\"white\",\"showbackground\":true,\"ticks\":\"\",\"zerolinecolor\":\"white\",\"gridwidth\":2},\"yaxis\":{\"backgroundcolor\":\"#E5ECF6\",\"gridcolor\":\"white\",\"linecolor\":\"white\",\"showbackground\":true,\"ticks\":\"\",\"zerolinecolor\":\"white\",\"gridwidth\":2},\"zaxis\":{\"backgroundcolor\":\"#E5ECF6\",\"gridcolor\":\"white\",\"linecolor\":\"white\",\"showbackground\":true,\"ticks\":\"\",\"zerolinecolor\":\"white\",\"gridwidth\":2}},\"shapedefaults\":{\"line\":{\"color\":\"#2a3f5f\"}},\"annotationdefaults\":{\"arrowcolor\":\"#2a3f5f\",\"arrowhead\":0,\"arrowwidth\":1},\"geo\":{\"bgcolor\":\"white\",\"landcolor\":\"#E5ECF6\",\"subunitcolor\":\"white\",\"showland\":true,\"showlakes\":true,\"lakecolor\":\"white\"},\"title\":{\"x\":0.05},\"mapbox\":{\"style\":\"light\"}}},\"xaxis\":{\"anchor\":\"y\",\"domain\":[0.0,1.0],\"title\":{\"text\":\"Month\"}},\"yaxis\":{\"anchor\":\"x\",\"domain\":[0.0,1.0],\"title\":{\"text\":\"Number of Arrests\"}},\"legend\":{\"tracegroupgap\":0},\"title\":{\"text\":\"Number of Arrests per Month in NYC\"},\"barmode\":\"relative\"},                        {\"responsive\": true}                    ).then(function(){\n",
       "                            \n",
       "var gd = document.getElementById('ad56e64a-ca7a-4693-a481-c92626618b0f');\n",
       "var x = new MutationObserver(function (mutations, observer) {{\n",
       "        var display = window.getComputedStyle(gd).display;\n",
       "        if (!display || display === 'none') {{\n",
       "            console.log([gd, 'removed!']);\n",
       "            Plotly.purge(gd);\n",
       "            observer.disconnect();\n",
       "        }}\n",
       "}});\n",
       "\n",
       "// Listen for the removal of the full notebook cells\n",
       "var notebookContainer = gd.closest('#notebook-container');\n",
       "if (notebookContainer) {{\n",
       "    x.observe(notebookContainer, {childList: true});\n",
       "}}\n",
       "\n",
       "// Listen for the clearing of the current output cell\n",
       "var outputEl = gd.closest('.output');\n",
       "if (outputEl) {{\n",
       "    x.observe(outputEl, {childList: true});\n",
       "}}\n",
       "\n",
       "                        })                };                            </script>        </div>\n",
       "</body>\n",
       "</html>"
      ]
     },
     "metadata": {},
     "output_type": "display_data"
    }
   ],
   "source": [
    "from pyspark.sql.functions import month\n",
    "\n",
    "# Create a new column with the month of the arrest\n",
    "arrest_month = arrest.withColumn(\"month\", month(\"ARREST_DATE\"))\n",
    "\n",
    "# Group by month and count the number of arrests\n",
    "arrests_per_month = arrest_month.groupBy(\"month\").count().orderBy(\"month\")\n",
    "\n",
    "# Convert to Pandas DataFrame for plotting\n",
    "arrests_per_month_df = arrests_per_month.toPandas()\n",
    "\n",
    "# Create a bar plot using Plotly Express\n",
    "fig = px.bar(arrests_per_month_df, x=\"month\", y=\"count\", \n",
    "             labels={\"month\": \"Month\", \"count\": \"Number of Arrests\"},\n",
    "             title=\"Number of Arrests per Month in NYC\")\n",
    "fig.show()\n"
   ]
  },
  {
   "cell_type": "markdown",
   "metadata": {
    "id": "CQ2yflYOrS8R"
   },
   "source": [
    "We can notice that **October** has the highest number of arrests"
   ]
  },
  {
   "cell_type": "markdown",
   "metadata": {
    "id": "WXKgEkxUdGPH"
   },
   "source": [
    "# Predictive model"
   ]
  },
  {
   "cell_type": "code",
   "execution_count": 187,
   "metadata": {
    "colab": {
     "base_uri": "https://localhost:8080/"
    },
    "id": "rbIWMREzfPMy",
    "outputId": "0520a877-0aed-426b-86a3-830ee0d33544"
   },
   "outputs": [
    {
     "data": {
      "text/plain": [
       "['KY_CD',\n",
       " 'PD_CD',\n",
       " 'LAW_CODE',\n",
       " 'ARREST_KEY',\n",
       " 'ARREST_DATE',\n",
       " 'ARREST_BORO',\n",
       " 'ARREST_PRECINCT',\n",
       " 'JURISDICTION_CODE',\n",
       " 'AGE_GROUP',\n",
       " 'PERP_SEX',\n",
       " 'PERP_RACE',\n",
       " 'X_COORD_CD',\n",
       " 'Y_COORD_CD',\n",
       " 'Latitude',\n",
       " 'Longitude',\n",
       " 'LAW_CAT_CD',\n",
       " 'PD_DESC',\n",
       " 'OFNS_DESC']"
      ]
     },
     "execution_count": 187,
     "metadata": {},
     "output_type": "execute_result"
    }
   ],
   "source": [
    "arrest2.columns"
   ]
  },
  {
   "cell_type": "code",
   "execution_count": 188,
   "metadata": {
    "colab": {
     "base_uri": "https://localhost:8080/"
    },
    "id": "VrtrHaCjhEfw",
    "outputId": "7ca6cda9-d4eb-43c7-9ffc-7c0484860a9b"
   },
   "outputs": [
    {
     "data": {
      "text/plain": [
       "[('KY_CD', 'int'),\n",
       " ('PD_CD', 'int'),\n",
       " ('LAW_CODE', 'string'),\n",
       " ('ARREST_KEY', 'int'),\n",
       " ('ARREST_DATE', 'string'),\n",
       " ('ARREST_BORO', 'string'),\n",
       " ('ARREST_PRECINCT', 'int'),\n",
       " ('JURISDICTION_CODE', 'int'),\n",
       " ('AGE_GROUP', 'string'),\n",
       " ('PERP_SEX', 'string'),\n",
       " ('PERP_RACE', 'string'),\n",
       " ('X_COORD_CD', 'int'),\n",
       " ('Y_COORD_CD', 'int'),\n",
       " ('Latitude', 'double'),\n",
       " ('Longitude', 'double'),\n",
       " ('LAW_CAT_CD', 'string'),\n",
       " ('PD_DESC', 'string'),\n",
       " ('OFNS_DESC', 'string')]"
      ]
     },
     "execution_count": 188,
     "metadata": {},
     "output_type": "execute_result"
    }
   ],
   "source": [
    "arrest2.dtypes"
   ]
  },
  {
   "cell_type": "markdown",
   "metadata": {
    "id": "Wq0T2y3xl2p_"
   },
   "source": [
    "## Feature engineering"
   ]
  },
  {
   "cell_type": "code",
   "execution_count": 189,
   "metadata": {
    "id": "oUsuBaoKr5Zt"
   },
   "outputs": [],
   "source": [
    "df=arrest2"
   ]
  },
  {
   "cell_type": "code",
   "execution_count": 190,
   "metadata": {
    "colab": {
     "base_uri": "https://localhost:8080/"
    },
    "id": "U_6nz_Kwlqsf",
    "outputId": "c7e383b5-bbc0-4371-e91b-c6a5609674ab"
   },
   "outputs": [
    {
     "name": "stdout",
     "output_type": "stream",
     "text": [
      "+-----+-----+----------+----------+-------------------+-----------+---------------+-----------------+---------+--------+--------------+----------+----------+----------------+-----------------+----------+--------------------+--------------------+------------+----------+-----------+\n",
      "|KY_CD|PD_CD|  LAW_CODE|ARREST_KEY|        ARREST_DATE|ARREST_BORO|ARREST_PRECINCT|JURISDICTION_CODE|AGE_GROUP|PERP_SEX|     PERP_RACE|X_COORD_CD|Y_COORD_CD|        Latitude|        Longitude|LAW_CAT_CD|             PD_DESC|           OFNS_DESC|ARREST_MONTH|ARREST_DAY|DAY_OF_WEEK|\n",
      "+-----+-----+----------+----------+-------------------+-----------+---------------+-----------------+---------+--------+--------------+----------+----------+----------------+-----------------+----------+--------------------+--------------------+------------+----------+-----------+\n",
      "|  230|  464|PL 1652501| 239553009|2022-01-23 00:00:00|          Q|            110|                1|    25-44|       M|         BLACK|   1027679|    214505|     40.75533648|     -73.84324519|         M|            JOSTLING|            JOSTLING|           1|        23|          1|\n",
      "|  105|  397|PL 1601502| 239922214|2022-01-31 00:00:00|          K|             69|                0|    25-44|       M|         BLACK|   1010576|    175628|       40.648698|       -73.905128|         F|ROBBERY,OPEN AREA...|             ROBBERY|           1|        31|          2|\n",
      "|  106|  105|PL 1211200| 239939130|2022-02-01 00:00:00|          K|             61|                0|      65+|       M|         WHITE|    995118|    155708|       40.594054|       -73.960866|         F|   STRANGULATION 1ST|      FELONY ASSAULT|           2|         1|          3|\n",
      "|  344|  101|PL 1200001| 240521791|2022-02-13 00:00:00|          M|             28|                0|    45-64|       M|         BLACK|    997124|    233883|       40.808623|       -73.953492|         M|           ASSAULT 3|ASSAULT 3 & RELAT...|           2|        13|          1|\n",
      "|  105|  397|PL 1600500| 241022365|2022-02-21 00:00:00|          K|             76|                0|    45-64|       M|         BLACK|    986331|    190452|       40.689425|       -73.992493|         F|ROBBERY,OPEN AREA...|             ROBBERY|           2|        21|          2|\n",
      "|  106|  105|PL 1211200| 242064428|2022-03-14 00:00:00|          S|            120|                0|      <18|       M|         BLACK|    960216|    173272|       40.642237|       -74.086601|         F|   STRANGULATION 1ST|      FELONY ASSAULT|           3|        14|          2|\n",
      "|  106|  105|PL 1211200| 242456937|2022-03-22 00:00:00|          S|            120|                0|    18-24|       M|         BLACK|    952182|    169495|       40.631844|       -74.115532|         F|   STRANGULATION 1ST|      FELONY ASSAULT|           3|        22|          3|\n",
      "|  358|  705|PL 1702000| 242818613|2022-03-29 00:00:00|          Q|            105|                0|    25-44|       M|         BLACK|   1054762|    200222|     40.71595884|      -73.7456406|         M|  FORGERY,ETC.-MISD.|OFFENSES INVOLVIN...|           3|        29|          3|\n",
      "|  104|  157|PL 1303501| 243132247|2022-04-05 00:00:00|          Q|            110|                0|    45-64|       M|BLACK HISPANIC|   1019164|    210169|40.7434812638841|-73.8740035373971|         F|              RAPE 1|                RAPE|           4|         5|          3|\n",
      "|  106|  109|PL 1200501| 244567670|2022-05-04 00:00:00|          S|            120|                0|    25-44|       F|         BLACK|    961612|    166618|       40.623977|       -74.081548|         F|ASSAULT 2,1,UNCLA...|      FELONY ASSAULT|           5|         4|          4|\n",
      "|  106|  105|PL 1211200| 238666821|2022-01-05 00:00:00|          B|             47|                0|    25-44|       M|         BLACK|   1026486|    262591|       40.887325|       -73.847247|         F|   STRANGULATION 1ST|      FELONY ASSAULT|           1|         5|          4|\n",
      "|  118|  793|PL 2650201| 238980807|2022-01-11 00:00:00|          K|             60|                2|    25-44|       M|         BLACK|    984147|    150277|       40.579154|        -74.00037|         F|WEAPONS POSSESSION 3|   DANGEROUS WEAPONS|           1|        11|          3|\n",
      "|  233|  175|PL 13052A1| 239079923|2022-01-13 00:00:00|          S|            122|                0|    25-44|       M|         WHITE|    954827|    148519|40.5742856881925|-74.1059144051212|         M|    SEXUAL ABUSE 3,2|          SEX CRIMES|           1|        13|          5|\n",
      "|  106|  105|PL 1211200| 239315615|2022-01-18 00:00:00|          Q|            113|                0|    25-44|       M|         BLACK|   1041332|    188264|       40.683234|       -73.794185|         F|   STRANGULATION 1ST|      FELONY ASSAULT|           1|        18|          3|\n",
      "|  104|  153|PL 1302502| 239365864|2022-01-19 00:00:00|          K|             77|                0|    45-64|       M|         BLACK|   1003509|    185018|40.6744956865259|-73.9305713255961|         F|              RAPE 3|                RAPE|           1|        19|          4|\n",
      "|  106|  105|PL 1211200| 239548006|2022-01-22 00:00:00|          K|             77|                0|    25-44|       M|         BLACK|   1005440|    184756|       40.673764|       -73.923607|         F|   STRANGULATION 1ST|      FELONY ASSAULT|           1|        22|          7|\n",
      "|  106|  105|PL 1211200| 240269723|2022-02-08 00:00:00|          K|             75|                0|    25-44|       M|         BLACK|   1017119|    183909|       40.671404|       -73.881509|         F|   STRANGULATION 1ST|      FELONY ASSAULT|           2|         8|          3|\n",
      "|  104|  157|PL 1303501| 247438104|2022-07-01 00:00:00|          M|              6|                0|      <18|       M|         WHITE|    982755|    206652|40.7338967584511|-74.0053958373447|         F|              RAPE 1|                RAPE|           7|         1|          6|\n",
      "|  116|  168|PL 1305003| 240681098|2022-02-16 00:00:00|          K|             79|                0|      <18|       M|         BLACK|    999496|    190300|  40.68900139556|-73.9450265328727|         F|            SODOMY 1|          SEX CRIMES|           2|        16|          4|\n",
      "|  106|  105|PL 1211200| 248197671|2022-07-18 00:00:00|          Q|            110|                0|    25-44|       F|         BLACK|   1022289|    208016|       40.737552|       -73.862736|         F|   STRANGULATION 1ST|      FELONY ASSAULT|           7|        18|          2|\n",
      "+-----+-----+----------+----------+-------------------+-----------+---------------+-----------------+---------+--------+--------------+----------+----------+----------------+-----------------+----------+--------------------+--------------------+------------+----------+-----------+\n",
      "only showing top 20 rows\n",
      "\n"
     ]
    }
   ],
   "source": [
    "from pyspark.sql.functions import dayofweek, month, dayofmonth\n",
    "\n",
    "# Convert the ARREST_DATE column to a datetime type\n",
    "df = df.withColumn('ARREST_DATE', df['ARREST_DATE'].cast('timestamp'))\n",
    "\n",
    "#Extract month, day, and day of the week\n",
    "df = df.withColumn('ARREST_MONTH', month(df['ARREST_DATE']))\n",
    "df = df.withColumn('ARREST_DAY', dayofmonth(df['ARREST_DATE']))\n",
    "df = df.withColumn('DAY_OF_WEEK', dayofweek(df['ARREST_DATE']))\n",
    "\n",
    "# Show the updated DataFrame\n",
    "df.show()\n"
   ]
  },
  {
   "cell_type": "code",
   "execution_count": 191,
   "metadata": {
    "colab": {
     "base_uri": "https://localhost:8080/"
    },
    "id": "u2u2NIhlncoh",
    "outputId": "429a6f1c-3e57-4ecc-da40-6f3bb90db1ea"
   },
   "outputs": [
    {
     "name": "stdout",
     "output_type": "stream",
     "text": [
      "+-----------+---------------+-----------------+---------+--------+---------+----------+--------------------+------------+----------+-----------+\n",
      "|ARREST_BORO|ARREST_PRECINCT|JURISDICTION_CODE|AGE_GROUP|PERP_SEX|PERP_RACE|LAW_CAT_CD|           OFNS_DESC|ARREST_MONTH|ARREST_DAY|DAY_OF_WEEK|\n",
      "+-----------+---------------+-----------------+---------+--------+---------+----------+--------------------+------------+----------+-----------+\n",
      "|          Q|            110|                1|    25-44|       M|    BLACK|         M|            JOSTLING|           1|        23|          1|\n",
      "|          K|             69|                0|    25-44|       M|    BLACK|         F|             ROBBERY|           1|        31|          2|\n",
      "|          K|             61|                0|      65+|       M|    WHITE|         F|      FELONY ASSAULT|           2|         1|          3|\n",
      "|          M|             28|                0|    45-64|       M|    BLACK|         M|ASSAULT 3 & RELAT...|           2|        13|          1|\n",
      "|          K|             76|                0|    45-64|       M|    BLACK|         F|             ROBBERY|           2|        21|          2|\n",
      "+-----------+---------------+-----------------+---------+--------+---------+----------+--------------------+------------+----------+-----------+\n",
      "only showing top 5 rows\n",
      "\n"
     ]
    }
   ],
   "source": [
    "columns_to_drop = ['KY_CD', 'PD_CD', 'LAW_CODE', 'ARREST_KEY', 'X_COORD_CD', 'Y_COORD_CD', 'Latitude', 'Longitude','PD_DESC','ARREST_DATE']\n",
    "df = df.drop(*columns_to_drop)\n",
    "df.show(5)"
   ]
  },
  {
   "cell_type": "code",
   "execution_count": 192,
   "metadata": {
    "colab": {
     "base_uri": "https://localhost:8080/"
    },
    "id": "FgeiDVbkozGh",
    "outputId": "773f6fb2-5070-455d-e985-0b768d3232af"
   },
   "outputs": [
    {
     "name": "stdout",
     "output_type": "stream",
     "text": [
      "['F', 'M', 'V', 'I']\n"
     ]
    }
   ],
   "source": [
    "from pyspark.sql.functions import col\n",
    "\n",
    "# Create a dataframe that includes only the unclassified level of offenses. These observations will be classified after creating our model\n",
    "test=df.filter(df['LAW_CAT_CD'] == 'N')\n",
    "\n",
    "# Drop the unclassified from the dataframe in order to train our model\n",
    "df = df.filter(col(\"LAW_CAT_CD\") != \"N\")\n",
    "\n",
    "unique_values = df.select(col('LAW_CAT_CD')).distinct().collect()\n",
    "print([row['LAW_CAT_CD'] for row in unique_values])"
   ]
  },
  {
   "cell_type": "markdown",
   "metadata": {
    "id": "ZDvwgi6woKSh"
   },
   "source": [
    "## Splitting "
   ]
  },
  {
   "cell_type": "code",
   "execution_count": 193,
   "metadata": {
    "id": "5f95XhyarT8T"
   },
   "outputs": [],
   "source": [
    "numerical_vars=['ARREST_PRECINCT','JURISDICTION_CODE','ARREST_MONTH','ARREST_DAY','DAY_OF_WEEK']\n",
    "categ_vars=['ARREST_BORO','AGE_GROUP','PERP_SEX','PERP_RACE', 'OFNS_DESC']"
   ]
  },
  {
   "cell_type": "markdown",
   "metadata": {
    "id": "grboaxq0BOMC"
   },
   "source": [
    "## Random Forest Classifier Model"
   ]
  },
  {
   "cell_type": "code",
   "execution_count": 194,
   "metadata": {
    "colab": {
     "base_uri": "https://localhost:8080/"
    },
    "id": "Yzot4H8UANTI",
    "outputId": "07cf4621-59e0-4838-b92f-0be7476a40d5"
   },
   "outputs": [
    {
     "name": "stdout",
     "output_type": "stream",
     "text": [
      "Accuracy: 0.8941445635691293\n"
     ]
    }
   ],
   "source": [
    "from pyspark.ml.feature import OneHotEncoder, StringIndexer, VectorAssembler\n",
    "from pyspark.ml.classification import RandomForestClassifier\n",
    "from pyspark.ml.evaluation import MulticlassClassificationEvaluator\n",
    "from pyspark.ml import Pipeline\n",
    "from pyspark.ml.feature import MinMaxScaler\n",
    "\n",
    "# Drop the rows where LAW_CAT_CD is \"N\"\n",
    "df = df.filter(df.LAW_CAT_CD != \"N\")\n",
    "\n",
    "# Split the data into training and test sets\n",
    "train_data, test_data = df.randomSplit([0.8, 0.2], seed=42)\n",
    "\n",
    "# Define the categorical and numerical columns\n",
    "categ_vars=['ARREST_BORO', 'AGE_GROUP', 'PERP_SEX', 'PERP_RACE', 'OFNS_DESC']\n",
    "numerical_vars=['ARREST_PRECINCT', 'JURISDICTION_CODE', 'ARREST_MONTH', 'ARREST_DAY', 'DAY_OF_WEEK']\n",
    "\n",
    "# Define the stages for the pipeline\n",
    "stages = []\n",
    "\n",
    "# StringIndexer for the target variable\n",
    "label_stringIdx = StringIndexer(inputCol=\"LAW_CAT_CD\", outputCol=\"label\")\n",
    "stages += [label_stringIdx]\n",
    "\n",
    "# OneHotEncoder for the categorical variables\n",
    "for categorical_col in categ_vars:\n",
    "    stringIndexer = StringIndexer(inputCol=categorical_col, outputCol=categorical_col+\"_Index\")\n",
    "    encoder = OneHotEncoder(inputCols=[stringIndexer.getOutputCol()], outputCols=[categorical_col+\"_classVec\"])\n",
    "    stages += [stringIndexer, encoder]\n",
    "\n",
    "# Assemble all the features into a single vector column\n",
    "assemblerInputs = [c+\"_classVec\" for c in categ_vars] + numerical_vars\n",
    "assembler = VectorAssembler(inputCols=assemblerInputs, outputCol=\"features\")\n",
    "stages += [assembler]\n",
    "\n",
    "# Scale the features to a range [0, 1]\n",
    "scaler = MinMaxScaler(inputCol=\"features\", outputCol=\"scaledFeatures\")\n",
    "stages += [scaler]\n",
    "\n",
    "# Train a Random Forest model\n",
    "rf = RandomForestClassifier(featuresCol=\"scaledFeatures\", labelCol=\"label\", numTrees=50)\n",
    "stages += [rf]\n",
    "\n",
    "# Define the pipeline\n",
    "pipeline = Pipeline(stages=stages)\n",
    "\n",
    "# Train the model\n",
    "model = pipeline.fit(train_data)\n",
    "\n",
    "# Make predictions on the test set\n",
    "predictions = model.transform(test_data)\n",
    "\n",
    "# Evaluate the model\n",
    "evaluator = MulticlassClassificationEvaluator(predictionCol=\"prediction\", labelCol=\"label\", metricName=\"accuracy\")\n",
    "accuracy = evaluator.evaluate(predictions)\n",
    "print(\"Accuracy: {}\".format(accuracy))"
   ]
  },
  {
   "cell_type": "code",
   "execution_count": 196,
   "metadata": {
    "colab": {
     "base_uri": "https://localhost:8080/"
    },
    "id": "mMz_MR4DEpOp",
    "outputId": "b7adf5ff-04fd-4e31-d6ef-22a98119e887"
   },
   "outputs": [
    {
     "name": "stdout",
     "output_type": "stream",
     "text": [
      "Weighted Precision: 0.9003\n",
      "Weighted Recall: 0.8941\n"
     ]
    }
   ],
   "source": [
    "# Evaluate the model using weighted precision and recall\n",
    "evaluator = MulticlassClassificationEvaluator(predictionCol=\"prediction\", labelCol=\"label\", metricName=\"weightedPrecision\")\n",
    "weighted_precision = evaluator.evaluate(predictions)\n",
    "\n",
    "evaluator = MulticlassClassificationEvaluator(predictionCol=\"prediction\", labelCol=\"label\", metricName=\"weightedRecall\")\n",
    "weighted_recall = evaluator.evaluate(predictions)\n",
    "\n",
    "print(\"Weighted Precision: {:.4f}\".format(weighted_precision))\n",
    "print(\"Weighted Recall: {:.4f}\".format(weighted_recall))\n"
   ]
  }
 ],
 "metadata": {
  "colab": {
   "provenance": []
  },
  "kernelspec": {
   "display_name": "Python 3",
   "language": "python",
   "name": "python3"
  },
  "language_info": {
   "codemirror_mode": {
    "name": "ipython",
    "version": 3
   },
   "file_extension": ".py",
   "mimetype": "text/x-python",
   "name": "python",
   "nbconvert_exporter": "python",
   "pygments_lexer": "ipython3",
   "version": "3.9.5"
  }
 },
 "nbformat": 4,
 "nbformat_minor": 1
}
